{
 "cells": [
  {
   "cell_type": "code",
   "execution_count": null,
   "id": "67d50a13-d0ab-4d4e-bfe6-7575268431f0",
   "metadata": {},
   "outputs": [],
   "source": []
  },
  {
   "cell_type": "code",
   "execution_count": 98,
   "id": "a82dd1d0-7d39-434a-9cd6-66ffbddc07d3",
   "metadata": {},
   "outputs": [],
   "source": [
    "# Check that MPS is available\n",
    "if not torch.backends.mps.is_available():\n",
    "    if not torch.backends.mps.is_built():\n",
    "        print(\"MPS not available because the current PyTorch install was not \"\n",
    "              \"built with MPS enabled.\")\n",
    "    else:\n",
    "        print(\"MPS not available because the current MacOS version is not 12.3+ \"\n",
    "              \"and/or you do not have an MPS-enabled device on this machine.\")\n",
    "\n",
    "else:\n",
    "    mps_device = torch.device(\"mps\")"
   ]
  },
  {
   "cell_type": "code",
   "execution_count": 99,
   "id": "bd8455c6-71e7-4bf9-bb02-355b690fe47d",
   "metadata": {},
   "outputs": [
    {
     "data": {
      "text/plain": [
       "device(type='mps')"
      ]
     },
     "execution_count": 99,
     "metadata": {},
     "output_type": "execute_result"
    }
   ],
   "source": [
    "mps_device"
   ]
  },
  {
   "cell_type": "code",
   "execution_count": null,
   "id": "5ce3e90e-f2b2-4ebc-aefc-c4829848dd6c",
   "metadata": {},
   "outputs": [],
   "source": []
  },
  {
   "cell_type": "markdown",
   "id": "79cf8d79",
   "metadata": {},
   "source": [
    "## Google Photos API - Download images from Google Photos using Python\n",
    "\n",
    "Using the Google Photos REST API you can download, upload and modify images stored in Google Photos.\n",
    "\n",
    "The following steps describe how to set up a simple project that lets you use Python to download images from Google Photos:"
   ]
  },
  {
   "cell_type": "markdown",
   "id": "7eac8f7c-932d-486f-900b-9fe3fa178138",
   "metadata": {
    "tags": []
   },
   "source": [
    "## Create virtualenv and install required packages"
   ]
  },
  {
   "cell_type": "markdown",
   "id": "6927380f-c820-4ef4-8f32-e68cbf500709",
   "metadata": {},
   "source": [
    "1. Open the terminal and navigate to your working directory. The folder structure of the repo includes the following directories:\n",
    "\n",
    "    * **credentials**: folder to store the credentials you need to authenticate your \"Python App\" to the Google Photos Library\n",
    "    * **media_items_list**: every time the script runs, I want to save a .csv file with all Google Photos media items and the corresponding metadata uploaded in the defined time period\n",
    "    * **downloads**: storing downloaded images from Google Photos\n",
    "\n",
    "\n",
    "2. Create a virtual environment `python3 -m venv venv`, activate it `. ./venv/bin/activate` and install requirements `pip install -r requirements.txt`\n",
    "\n",
    "3. Install ipykernel which provides the IPython kernel for Jupyter: `pip install ipykernel` and add your virtual environment to Jupyter: `python -m ipykernel install --user --name=venv` \n",
    "\n",
    "    You can check the installation by navigating to /Users/<user>/Library/Jupyter/kernels. There should be a new directory called 'venv'. In the folder you can find the file 'kernel.json', which contains the path for the used python installation is defined.\n",
    "\n",
    "4. Start jupyter notebook or jupyter lab: `jupyter lab .` and select the just created environment \"venv\" as Kernel\n",
    "\n",
    "![](read_me_img/select_kernel.png)"
   ]
  },
  {
   "cell_type": "markdown",
   "id": "5434000b-35ff-4aa2-a8b8-cc9a26f548d9",
   "metadata": {
    "tags": []
   },
   "source": [
    "## Enable Google API"
   ]
  },
  {
   "cell_type": "markdown",
   "id": "81fa3746-d4a0-4795-8e5a-226490d6e554",
   "metadata": {},
   "source": [
    "5. Enable Google Photos API Service\n",
    "\n",
    "   1. Go to the Google API Console [https://console.cloud.google.com/](https://console.cloud.google.com/). \n",
    "   2. From the menu bar, select a project or create a new project.\n",
    "   \n",
    "      ![](read_me_img/gifs/create_new_project_speed.gif)\n",
    "      \n",
    "   3. To open the Google API Library, from the Navigation menu, select APIs & Services > Library. \n",
    "   4. Search for \"Google Photos Library API\". Select the correct result and click \"enable\". If its already enabled, click \"manage\"\n",
    "   \n",
    "       ![](read_me_img/gifs/enable_api_speed.gif)\n",
    "       \n",
    "   5. Afterwards it will forward you to the \"Photos API/Service details\" page (https://console.cloud.google.com/apis/credentials)\n",
    "\n",
    "\n",
    "6. Configure \"OAuth consent screen\" ([Source](https://stackoverflow.com/questions/65184355/error-403-access-denied-from-google-authentication-web-api-despite-google-acc))\n",
    "\n",
    "   1. Go back to the Photos API Service details page and click on \"[OAuth consent screen](https://console.cloud.google.com/apis/credentials/consent)\" on the left side (below \"Credentials\") \n",
    "   2. Add a Test user: Use the email of the account you want to use for testing the API call\n",
    "   \n",
    "        ![](read_me_img/add_test_user.png)\n",
    "\n",
    "7. Create API/OAuth credentials\n",
    "\n",
    "   1. On the left side of the Google Photos API Service page, click Credentials\n",
    "   2. Click on \"Create Credentials\" and create a OAuth client ID\n",
    "   3. As application type I am choosing \"Desktop app\" and give your client you want to use to call the API a name\n",
    "   4. Download the JSON file to the created credentials, rename it to \"client_secret.json\" and save it in the folder \"credentials\"\n",
    "   \n",
    "        ![](read_me_img/gifs/create_credentials_speed.gif)"
   ]
  },
  {
   "cell_type": "markdown",
   "id": "290cacec-9573-488d-89a2-67bb22814d69",
   "metadata": {
    "tags": []
   },
   "source": [
    "## Install and import required packages"
   ]
  },
  {
   "cell_type": "code",
   "execution_count": 100,
   "id": "05a7c7c7-9d39-4b7e-842d-5dadc7a79e43",
   "metadata": {},
   "outputs": [],
   "source": [
    "# %%capture capt \n",
    "# #saves the output to variable capt, to print output capt.stdout, capt.stderr\n",
    "# !pip install -r \"requirements.txt\"\n",
    "# !pip freeze > requirements.txt"
   ]
  },
  {
   "cell_type": "code",
   "execution_count": 101,
   "id": "85475dc1-1cb4-466a-88a7-2a756faa747e",
   "metadata": {},
   "outputs": [
    {
     "name": "stdout",
     "output_type": "stream",
     "text": [
      "huggingface/tokenizers: The current process just got forked, after parallelism has already been used. Disabling parallelism to avoid deadlocks...\n",
      "To disable this warning, you can either:\n",
      "\t- Avoid using `tokenizers` before the fork if possible\n",
      "\t- Explicitly set the environment variable TOKENIZERS_PARALLELISM=(true | false)\n",
      "/Users/josh.poduska/Documents/google-photos-api/venv/bin/python\n",
      "huggingface/tokenizers: The current process just got forked, after parallelism has already been used. Disabling parallelism to avoid deadlocks...\n",
      "To disable this warning, you can either:\n",
      "\t- Avoid using `tokenizers` before the fork if possible\n",
      "\t- Explicitly set the environment variable TOKENIZERS_PARALLELISM=(true | false)\n",
      "/Users/josh.poduska/Documents/google-photos-api/venv/bin/pip\n"
     ]
    }
   ],
   "source": [
    "!which python\n",
    "!which pip"
   ]
  },
  {
   "cell_type": "markdown",
   "id": "498c8c38-d525-462d-b3e6-a16b9da9c7a8",
   "metadata": {
    "tags": []
   },
   "source": [
    "## Use the Google Photo Library API for the first time:\n",
    "\n",
    "The following section shows how to use OAuth Credentials for authentication with the Google Library API. The code section below covers the following steps:"
   ]
  },
  {
   "cell_type": "markdown",
   "id": "400d724f-c302-4d5f-b3be-9341a4a0fc84",
   "metadata": {},
   "source": [
    "8. Create a service for the first time:\n",
    "\n",
    "    1. Initialize GooglePhotosApi `google_photos_api = GooglePhotosApi()`\n",
    "\n",
    "    2. Create Service using the `client_secret.json` file: `service = google_photos_api.create_service()`\n",
    "        \n",
    "        \n",
    "       <b>Calling the API for the first time:</b>\n",
    "       1. Google will ask you if you want to grant the App the required permissions you defined with the scope:\n",
    "       ![](read_me_img/sign_in_google_acc.png)\n",
    "       2. Since its just a test app at the moment, Google will make you aware of that > Click on \"Continue\"\n",
    "       3. Once you granted the app the required permissions, you will see a \"token_......pickle\" file created in the folder \"credentials\". This token file will be used for future calls."
   ]
  },
  {
   "cell_type": "code",
   "execution_count": 102,
   "id": "7dc87368-ce85-4fc6-b3ed-b045734541c1",
   "metadata": {},
   "outputs": [],
   "source": [
    "# pip install google_auth_oauthlib"
   ]
  },
  {
   "cell_type": "code",
   "execution_count": 103,
   "id": "b6e4f865-fdb0-4b38-b789-4c8a8a26cafc",
   "metadata": {},
   "outputs": [],
   "source": [
    "# pip install google-api-python-client"
   ]
  },
  {
   "cell_type": "code",
   "execution_count": 104,
   "id": "33e55f6c-d7a8-4541-961e-b28a768eeec6",
   "metadata": {},
   "outputs": [],
   "source": [
    "import pickle\n",
    "import os\n",
    "from google_auth_oauthlib.flow import Flow, InstalledAppFlow\n",
    "from googleapiclient.discovery import build\n",
    "#from googleapiclient.http import MediaFileUpload\n",
    "from google.auth.transport.requests import Request\n",
    "import requests\n",
    "\n",
    "class GooglePhotosApi:\n",
    "    def __init__(self,\n",
    "                 api_name = 'photoslibrary',\n",
    "                 client_secret_file= r'./credentials/client_secret.json',\n",
    "                 api_version = 'v1',\n",
    "                 scopes = ['https://www.googleapis.com/auth/photoslibrary']):\n",
    "        '''\n",
    "        Args:\n",
    "            client_secret_file: string, location where the requested credentials are saved\n",
    "            api_version: string, the version of the service\n",
    "            api_name: string, name of the api e.g.\"docs\",\"photoslibrary\",...\n",
    "            api_version: version of the api\n",
    "\n",
    "        Return:\n",
    "            service:\n",
    "        '''\n",
    "\n",
    "        self.api_name = api_name\n",
    "        self.client_secret_file = client_secret_file\n",
    "        self.api_version = api_version\n",
    "        self.scopes = scopes\n",
    "        self.cred_pickle_file = f'./credentials/token_{self.api_name}_{self.api_version}.pickle'\n",
    "\n",
    "        self.cred = None\n",
    "\n",
    "    def run_local_server(self):\n",
    "        # is checking if there is already a pickle file with relevant credentials\n",
    "        if os.path.exists(self.cred_pickle_file):\n",
    "            with open(self.cred_pickle_file, 'rb') as token:\n",
    "                self.cred = pickle.load(token)\n",
    "\n",
    "        # if there is no pickle file with stored credentials, create one using google_auth_oauthlib.flow\n",
    "        if not self.cred or not self.cred.valid:\n",
    "            if self.cred and self.cred.expired and self.cred.refresh_token:\n",
    "                self.cred.refresh(Request())\n",
    "            else:\n",
    "                flow = InstalledAppFlow.from_client_secrets_file(self.client_secret_file, self.scopes)\n",
    "                self.cred = flow.run_local_server()\n",
    "\n",
    "            with open(self.cred_pickle_file, 'wb') as token:\n",
    "                pickle.dump(self.cred, token)\n",
    "        \n",
    "        return self.cred\n"
   ]
  },
  {
   "cell_type": "code",
   "execution_count": 148,
   "id": "04f0efa2",
   "metadata": {},
   "outputs": [],
   "source": [
    "# initialize photos api and create service\n",
    "google_photos_api = GooglePhotosApi()\n",
    "creds = google_photos_api.run_local_server()"
   ]
  },
  {
   "cell_type": "markdown",
   "id": "eb37b37d-9c1c-4c88-9f4f-4f2eeefc3c3a",
   "metadata": {},
   "source": [
    "### Use pythons requests module and the token file to retrieve data from Google Photos\n",
    "\n",
    "9. Use requests python module to send http requests to the Media Items API\n",
    "\n",
    "    The following function sends a post request to the Media API to get a list of all entries. Since the API return is limited to 100 items, the search is narrowed down to one day. Thus, the call would only be a problem if more than 100 images were created/uploaded on one day."
   ]
  },
  {
   "cell_type": "code",
   "execution_count": 106,
   "id": "27ee5847-923b-40f1-87cd-4b935dbd328d",
   "metadata": {},
   "outputs": [],
   "source": [
    "import json\n",
    "import requests\n",
    "\n",
    "def get_response_from_medium_api(year, month, day):\n",
    "    url = 'https://photoslibrary.googleapis.com/v1/mediaItems:search'\n",
    "    payload = {\n",
    "                  \"filters\": {\n",
    "                    \"dateFilter\": {\n",
    "                      \"dates\": [\n",
    "                        {\n",
    "                          \"day\": day,\n",
    "                          \"month\": month,\n",
    "                          \"year\": year\n",
    "                        }\n",
    "                      ]\n",
    "                    }\n",
    "                  }\n",
    "                }\n",
    "    headers = {\n",
    "        'content-type': 'application/json',\n",
    "        'Authorization': 'Bearer {}'.format(creds.token)\n",
    "    }\n",
    "    \n",
    "    try:\n",
    "        res = requests.request(\"POST\", url, data=json.dumps(payload), headers=headers)\n",
    "    except:\n",
    "        print('Request error') \n",
    "    \n",
    "    return(res)"
   ]
  },
  {
   "cell_type": "markdown",
   "id": "10a38726-10aa-47d8-9f57-4d575ce57193",
   "metadata": {},
   "source": [
    "Use the response of the API to write the results and required metadata into a data frame:"
   ]
  },
  {
   "cell_type": "code",
   "execution_count": 149,
   "id": "0cd790ac-1a44-4f79-afb9-1d6621c3f3d9",
   "metadata": {},
   "outputs": [],
   "source": [
    "def list_of_media_items(year, month, day, media_items_df):\n",
    "    '''\n",
    "    Args:\n",
    "        year, month, day: day for the filter of the API call \n",
    "        media_items_df: existing data frame with all find media items so far\n",
    "    Return:\n",
    "        media_items_df: media items data frame extended by the articles found for the specified tag\n",
    "        items_df: media items uploaded on specified date\n",
    "    '''\n",
    "\n",
    "    items_list_df = pd.DataFrame()\n",
    "    \n",
    "    # create request for specified date\n",
    "    response = get_response_from_medium_api(year, month, day)\n",
    "\n",
    "    try:\n",
    "        for item in response.json()['mediaItems']:\n",
    "            items_df = pd.DataFrame(item)\n",
    "            items_df = items_df.rename(columns={\"mediaMetadata\": \"creationTime\"})\n",
    "            items_df.set_index('creationTime')\n",
    "            items_df = items_df[items_df.index == 'creationTime']\n",
    "\n",
    "            #append the existing media_items data frame\n",
    "            items_list_df = pd.concat([items_list_df, items_df])\n",
    "            media_items_df = pd.concat([media_items_df, items_df])\n",
    "    \n",
    "    except:\n",
    "        print(response.text)\n",
    "\n",
    "    return(items_list_df, media_items_df)"
   ]
  },
  {
   "cell_type": "markdown",
   "id": "88cc1dda-4145-4c84-94ac-f8b634f794cd",
   "metadata": {},
   "source": [
    "## Use the defined functions to download media items from Google Photos\n",
    "\n",
    "1. Create a list with all files already downloaded to the /downloads/ folder\n",
    "2. Define a list of all dates from start date to end date (today)\n",
    "3. Execute the API call for all dates to get a list with all media items. API returns:\n",
    "    * **id**\n",
    "    * **filename**\n",
    "    * **baseUrl**: Base URLs within the Google Photos Library API allow you to access the bytes of the media items. They are valid for 60 minutes. (https://developers.google.com/photos/library/guides/access-media-items)\n",
    "\n",
    "\n",
    "4. Compare list of media items with files downloaded in /downloads/ with media items in Google Photos, to download items which are not downloaded yet. You can now use the baseUrl and the python requests module to send a get request for each media item.\n",
    "5. Save a list as with all media items as .csv in /media_items_list/"
   ]
  },
  {
   "cell_type": "code",
   "execution_count": 108,
   "id": "5cadce4a-cb1c-4fb4-affb-3eb40ac7efbc",
   "metadata": {
    "scrolled": true
   },
   "outputs": [],
   "source": [
    "# import pandas as pd\n",
    "# from datetime import date, timedelta, datetime\n",
    "# import requests\n",
    "\n",
    "# # Images should only be downloaded if they are not already available in downloads\n",
    "# # Herefor the following code snippet, creates a list with all filenames in the /downloads/ folder\n",
    "# files_list = os.listdir(r'./downloads')\n",
    "# files_list_df = pd.DataFrame(files_list)\n",
    "# files_list_df = files_list_df.rename(columns={0: \"filename\"})\n",
    "# files_list_df.head(2)\n",
    "\n",
    "# # create a list with all dates between start date and today\n",
    "# sdate = date(2023,8,15)   # start date\n",
    "# edate = date.today()\n",
    "# date_list = pd.date_range(sdate,edate-timedelta(days=1),freq='d')\n",
    "# print(date_list)\n",
    "\n",
    "# media_items_df = pd.DataFrame()\n",
    "\n",
    "# for date in date_list:\n",
    "    \n",
    "#     # get a list with all media items for specified date (year, month, day)\n",
    "#     items_df, media_items_df = list_of_media_items(year = date.year, month = date.month, day = date.day, media_items_df = media_items_df)\n",
    "\n",
    "#     if len(items_df) > 0:\n",
    "#         # full outer join of items_df and files_list_df, the result is a list of items of the given \n",
    "#         #day that have not been downloaded yet\n",
    "#         items_not_yet_downloaded_df = pd.merge(items_df, files_list_df,on='filename',how='left')\n",
    "#         items_not_yet_downloaded_df.head(2)\n",
    "\n",
    "#         # download all items in items_not_yet_downloaded\n",
    "#         for index, item in items_not_yet_downloaded_df.iterrows():\n",
    "#             url = item.baseUrl\n",
    "#             response = requests.get(url)\n",
    "\n",
    "#             file_name = item.filename\n",
    "#             destination_folder = './downloads/'\n",
    "\n",
    "#             with open(os.path.join(destination_folder, file_name), 'wb') as f:\n",
    "#                 f.write(response.content)\n",
    "#                 f.close()\n",
    "                \n",
    "#         print(f'Downloaded items found for date: {date.year} / {date.month} / {date.day}')\n",
    "#     else:\n",
    "#         print(f'No media items found for date: {date.year} / {date.month} / {date.day}')\n",
    "            \n",
    "# #save a list of all media items to a csv file\n",
    "# current_datetime = str(datetime.now())\n",
    "# filename = f'item-list-{current_datetime}.csv'\n",
    "\n",
    "# #save a list with all items in specified time frame\n",
    "# media_items_df.to_csv(f'./media_items_list/{filename}', index=True)"
   ]
  },
  {
   "cell_type": "code",
   "execution_count": 7,
   "id": "54cf2da7-e164-4718-a666-34c7c596fce6",
   "metadata": {},
   "outputs": [
    {
     "name": "stdout",
     "output_type": "stream",
     "text": [
      "DatetimeIndex(['2023-09-01', '2023-09-02', '2023-09-03', '2023-09-04',\n",
      "               '2023-09-05', '2023-09-06', '2023-09-07', '2023-09-08',\n",
      "               '2023-09-09', '2023-09-10', '2023-09-11', '2023-09-12',\n",
      "               '2023-09-13', '2023-09-14', '2023-09-15', '2023-09-16',\n",
      "               '2023-09-17', '2023-09-18', '2023-09-19', '2023-09-20',\n",
      "               '2023-09-21', '2023-09-22', '2023-09-23', '2023-09-24',\n",
      "               '2023-09-25', '2023-09-26', '2023-09-27', '2023-09-28',\n",
      "               '2023-09-29'],\n",
      "              dtype='datetime64[ns]', freq='D')\n"
     ]
    }
   ],
   "source": [
    "import pandas as pd\n",
    "from datetime import date, timedelta, datetime\n",
    "import requests\n",
    "\n",
    "# Images should only be downloaded if they are not already available in downloads\n",
    "# Herefor the following code snippet, creates a list with all filenames in the /downloads/ folder\n",
    "# files_list = os.listdir(r'./downloads')\n",
    "# files_list_df = pd.DataFrame(files_list)\n",
    "# files_list_df = files_list_df.rename(columns={0: \"filename\"})\n",
    "# files_list_df.head(2)\n",
    "\n",
    "# create a list with all dates between start date and today\n",
    "sdate = date(2023,9,1)   # start date\n",
    "edate = date.today()\n",
    "date_list = pd.date_range(sdate,edate-timedelta(days=1),freq='d')\n",
    "print(date_list)\n",
    "\n",
    "media_items_df = pd.DataFrame()"
   ]
  },
  {
   "cell_type": "code",
   "execution_count": 9,
   "id": "9c9ad070-ffd4-4992-8099-44b08a570e01",
   "metadata": {},
   "outputs": [],
   "source": [
    "date = date(2023,9,3)"
   ]
  },
  {
   "cell_type": "code",
   "execution_count": 10,
   "id": "97f97f77-2684-45a0-b026-28edf54a4f90",
   "metadata": {},
   "outputs": [],
   "source": [
    "items_df, media_items_df = list_of_media_items(year = date.year, month = date.month, day = date.day, media_items_df = media_items_df)"
   ]
  },
  {
   "cell_type": "code",
   "execution_count": 11,
   "id": "a5f90e1f-c8f1-4e14-a04f-ff75277ee8f1",
   "metadata": {},
   "outputs": [
    {
     "data": {
      "text/html": [
       "<div>\n",
       "<style scoped>\n",
       "    .dataframe tbody tr th:only-of-type {\n",
       "        vertical-align: middle;\n",
       "    }\n",
       "\n",
       "    .dataframe tbody tr th {\n",
       "        vertical-align: top;\n",
       "    }\n",
       "\n",
       "    .dataframe thead th {\n",
       "        text-align: right;\n",
       "    }\n",
       "</style>\n",
       "<table border=\"1\" class=\"dataframe\">\n",
       "  <thead>\n",
       "    <tr style=\"text-align: right;\">\n",
       "      <th></th>\n",
       "      <th>id</th>\n",
       "      <th>productUrl</th>\n",
       "      <th>baseUrl</th>\n",
       "      <th>mimeType</th>\n",
       "      <th>creationTime</th>\n",
       "      <th>filename</th>\n",
       "    </tr>\n",
       "  </thead>\n",
       "  <tbody>\n",
       "    <tr>\n",
       "      <th>creationTime</th>\n",
       "      <td>ALuQekplZrz7XSxVntjFH-80YMx7Brm6Mh26Or5Upa9_fi...</td>\n",
       "      <td>https://photos.google.com/lr/photo/ALuQekplZrz...</td>\n",
       "      <td>https://lh3.googleusercontent.com/lr/AAJ1LKfay...</td>\n",
       "      <td>image/jpeg</td>\n",
       "      <td>2023-09-04T04:00:44Z</td>\n",
       "      <td>IMG_4355.PNG</td>\n",
       "    </tr>\n",
       "    <tr>\n",
       "      <th>creationTime</th>\n",
       "      <td>ALuQekqF063ojFSrm64r_O38A9-_VTWWMvMythwxutzMOf...</td>\n",
       "      <td>https://photos.google.com/lr/photo/ALuQekqF063...</td>\n",
       "      <td>https://lh3.googleusercontent.com/lr/AAJ1LKfFi...</td>\n",
       "      <td>image/jpeg</td>\n",
       "      <td>2023-09-04T00:41:39Z</td>\n",
       "      <td>20230903_174139.jpg</td>\n",
       "    </tr>\n",
       "  </tbody>\n",
       "</table>\n",
       "</div>"
      ],
      "text/plain": [
       "                                                             id  \\\n",
       "creationTime  ALuQekplZrz7XSxVntjFH-80YMx7Brm6Mh26Or5Upa9_fi...   \n",
       "creationTime  ALuQekqF063ojFSrm64r_O38A9-_VTWWMvMythwxutzMOf...   \n",
       "\n",
       "                                                     productUrl  \\\n",
       "creationTime  https://photos.google.com/lr/photo/ALuQekplZrz...   \n",
       "creationTime  https://photos.google.com/lr/photo/ALuQekqF063...   \n",
       "\n",
       "                                                        baseUrl    mimeType  \\\n",
       "creationTime  https://lh3.googleusercontent.com/lr/AAJ1LKfay...  image/jpeg   \n",
       "creationTime  https://lh3.googleusercontent.com/lr/AAJ1LKfFi...  image/jpeg   \n",
       "\n",
       "                      creationTime             filename  \n",
       "creationTime  2023-09-04T04:00:44Z         IMG_4355.PNG  \n",
       "creationTime  2023-09-04T00:41:39Z  20230903_174139.jpg  "
      ]
     },
     "execution_count": 11,
     "metadata": {},
     "output_type": "execute_result"
    }
   ],
   "source": [
    "items_df"
   ]
  },
  {
   "cell_type": "code",
   "execution_count": 12,
   "id": "3d5504be-d1d0-4e58-8112-e7f9e03f5bd7",
   "metadata": {},
   "outputs": [
    {
     "data": {
      "text/html": [
       "<div>\n",
       "<style scoped>\n",
       "    .dataframe tbody tr th:only-of-type {\n",
       "        vertical-align: middle;\n",
       "    }\n",
       "\n",
       "    .dataframe tbody tr th {\n",
       "        vertical-align: top;\n",
       "    }\n",
       "\n",
       "    .dataframe thead th {\n",
       "        text-align: right;\n",
       "    }\n",
       "</style>\n",
       "<table border=\"1\" class=\"dataframe\">\n",
       "  <thead>\n",
       "    <tr style=\"text-align: right;\">\n",
       "      <th></th>\n",
       "      <th>id</th>\n",
       "      <th>productUrl</th>\n",
       "      <th>baseUrl</th>\n",
       "      <th>mimeType</th>\n",
       "      <th>creationTime</th>\n",
       "      <th>filename</th>\n",
       "    </tr>\n",
       "  </thead>\n",
       "  <tbody>\n",
       "    <tr>\n",
       "      <th>creationTime</th>\n",
       "      <td>ALuQekplZrz7XSxVntjFH-80YMx7Brm6Mh26Or5Upa9_fi...</td>\n",
       "      <td>https://photos.google.com/lr/photo/ALuQekplZrz...</td>\n",
       "      <td>https://lh3.googleusercontent.com/lr/AAJ1LKfay...</td>\n",
       "      <td>image/jpeg</td>\n",
       "      <td>2023-09-04T04:00:44Z</td>\n",
       "      <td>IMG_4355.PNG</td>\n",
       "    </tr>\n",
       "    <tr>\n",
       "      <th>creationTime</th>\n",
       "      <td>ALuQekqF063ojFSrm64r_O38A9-_VTWWMvMythwxutzMOf...</td>\n",
       "      <td>https://photos.google.com/lr/photo/ALuQekqF063...</td>\n",
       "      <td>https://lh3.googleusercontent.com/lr/AAJ1LKfFi...</td>\n",
       "      <td>image/jpeg</td>\n",
       "      <td>2023-09-04T00:41:39Z</td>\n",
       "      <td>20230903_174139.jpg</td>\n",
       "    </tr>\n",
       "  </tbody>\n",
       "</table>\n",
       "</div>"
      ],
      "text/plain": [
       "                                                             id  \\\n",
       "creationTime  ALuQekplZrz7XSxVntjFH-80YMx7Brm6Mh26Or5Upa9_fi...   \n",
       "creationTime  ALuQekqF063ojFSrm64r_O38A9-_VTWWMvMythwxutzMOf...   \n",
       "\n",
       "                                                     productUrl  \\\n",
       "creationTime  https://photos.google.com/lr/photo/ALuQekplZrz...   \n",
       "creationTime  https://photos.google.com/lr/photo/ALuQekqF063...   \n",
       "\n",
       "                                                        baseUrl    mimeType  \\\n",
       "creationTime  https://lh3.googleusercontent.com/lr/AAJ1LKfay...  image/jpeg   \n",
       "creationTime  https://lh3.googleusercontent.com/lr/AAJ1LKfFi...  image/jpeg   \n",
       "\n",
       "                      creationTime             filename  \n",
       "creationTime  2023-09-04T04:00:44Z         IMG_4355.PNG  \n",
       "creationTime  2023-09-04T00:41:39Z  20230903_174139.jpg  "
      ]
     },
     "execution_count": 12,
     "metadata": {},
     "output_type": "execute_result"
    }
   ],
   "source": [
    "media_items_df"
   ]
  },
  {
   "cell_type": "code",
   "execution_count": 96,
   "id": "7543481f-9fea-448f-bb2e-0933f2293cfb",
   "metadata": {},
   "outputs": [],
   "source": [
    "# p_url = media_items_df['productUrl'].values[0]\n",
    "b_url = media_items_df['baseUrl'].values[0]"
   ]
  },
  {
   "cell_type": "code",
   "execution_count": 97,
   "id": "51950727-9c1c-4249-836a-a7d9033ffacf",
   "metadata": {},
   "outputs": [
    {
     "data": {
      "text/html": [
       "<img src=\"https://lh3.googleusercontent.com/lr/AAJ1LKeR_iMPJR477Wod25MYTAL8W2Je22dO_xc0Tq-MeTzsGpQB6c9chqJFoOez6HfWBNAf0E75iSN5YdPBWliAg2CdgKoduFIcuT4T0ZvTx-nXYAE-xAnkRfnSdXk-Krl9HjREksHBI_ukMibivCu_noOkeiWT4PJ_kqy68-8qD1BJc74zlkgsjPqy65KaQyaV2E_AetuZ4OxWwnjrtD4TogDa9yIvyd_IaPHLybMaSMMOKgG0YsUGvTrttIsiXzS7yBFN-T66xO1_4sCl_-ncHs9xAIG9tJFvDOJYgm_eDF6Z8PDl2f-H3kCPbrN3GH_d4aU_xkGDDnm_wdVz3y2meQdcf3ulcakraxS4Sk9yv8sHYrTtcOxmg8ii_Ps1h89weI9e4sunT3c1e_9mxcZgiPA-4fPNcsy9-FF0GO0XLgYgj6dr0kjwwb0xSeE9QF4ckeqc9lqcPHesQBhxIkGgldP5JiNVEHbpZMoVeNLg-94NspD8PnXyDsewvi5Rz7b1PQ69L290KTFrg1tVIjFlgm4_KR44Y6bl-KFhg5mb4jE_Zgg90ZEacB-6uu9sHx9frgmh5veB1sl0VWZZG4r6TF8yoSOIStS3CY3qNXMOIXyyKFQs46QG5J58Qp4TEPV_H6Oivx8cDLgjdvUQOKwb1tQ7BUITXo7Lf3hN3kOaYMqOoMW1NEkkECQzfZ7P80rKdXOv5r5VxgnHNBINt0CDUAwMqKwv8gO-jAUUVUCYri_nkL9w7zpLp53lBF3Gn-X-x1pw8D1qIzqkVKhQyF9u7MlAcdjyJa0oWQkzfKrygpp1C4VbK7qWUY_7aYS_quOUFTT_dWuLeFi0ec29VhLwylzh_MQOiMEJer7PN45d19f9Hi6gXkN66BoDb0jelFENNVWIjhRxTWBIk-vgvEedAwyHLTQin7WX9PZ6Ricyn49mzpVHlZzWk9N375o1lY-iZyNW5XPIPxaLxITVmwZwhzEY7adtduNQdSCfc8U7tkAXj5s4ZtW6xDeVkXngnAYJcaaJ1P-IOoF83sv9d-0OMEA9f6aPjpVI37WGg8VVYFouug\"/>"
      ],
      "text/plain": [
       "<IPython.core.display.Image object>"
      ]
     },
     "execution_count": 97,
     "metadata": {},
     "output_type": "execute_result"
    }
   ],
   "source": [
    "from IPython.display import Image\n",
    "\n",
    "# Replace 'image.jpg' with your image file's name or path\n",
    "Image(url=b_url)"
   ]
  },
  {
   "cell_type": "code",
   "execution_count": null,
   "id": "099d69b8-210d-499c-b341-c01b5c8022fb",
   "metadata": {},
   "outputs": [],
   "source": []
  },
  {
   "cell_type": "code",
   "execution_count": null,
   "id": "4cd2aa66-7489-472c-9822-73d4881ce6f4",
   "metadata": {},
   "outputs": [],
   "source": []
  },
  {
   "cell_type": "code",
   "execution_count": null,
   "id": "d50e9313-2581-453f-ab5e-7bde1eb635b0",
   "metadata": {},
   "outputs": [],
   "source": []
  },
  {
   "cell_type": "code",
   "execution_count": null,
   "id": "62811ddb-3098-4a5c-b8d2-a188bd9f5518",
   "metadata": {},
   "outputs": [],
   "source": []
  },
  {
   "cell_type": "code",
   "execution_count": 23,
   "id": "02a5633f-24ec-44d4-981c-b4e63cb7e349",
   "metadata": {
    "collapsed": true,
    "jupyter": {
     "outputs_hidden": true
    },
    "scrolled": true
   },
   "outputs": [
    {
     "name": "stdout",
     "output_type": "stream",
     "text": [
      "Collecting timm\n",
      "  Using cached timm-0.9.7-py3-none-any.whl (2.2 MB)\n",
      "Collecting torch>=1.7 (from timm)\n",
      "  Using cached torch-2.0.1-cp311-none-macosx_11_0_arm64.whl (55.8 MB)\n",
      "Collecting torchvision (from timm)\n",
      "  Using cached torchvision-0.15.2-cp311-cp311-macosx_11_0_arm64.whl (1.4 MB)\n",
      "Requirement already satisfied: pyyaml in ./venv/lib/python3.11/site-packages (from timm) (6.0.1)\n",
      "Collecting huggingface-hub (from timm)\n",
      "  Downloading huggingface_hub-0.17.3-py3-none-any.whl (295 kB)\n",
      "\u001b[2K     \u001b[90m━━━━━━━━━━━━━━━━━━━━━━━━━━━━━━━━━━━━━━━\u001b[0m \u001b[32m295.0/295.0 kB\u001b[0m \u001b[31m2.7 MB/s\u001b[0m eta \u001b[36m0:00:00\u001b[0ma \u001b[36m0:00:01\u001b[0m\n",
      "\u001b[?25hCollecting safetensors (from timm)\n",
      "  Using cached safetensors-0.3.3-cp311-cp311-macosx_13_0_arm64.whl (406 kB)\n",
      "Collecting filelock (from torch>=1.7->timm)\n",
      "  Using cached filelock-3.12.4-py3-none-any.whl (11 kB)\n",
      "Requirement already satisfied: typing-extensions in ./venv/lib/python3.11/site-packages (from torch>=1.7->timm) (4.8.0)\n",
      "Collecting sympy (from torch>=1.7->timm)\n",
      "  Using cached sympy-1.12-py3-none-any.whl (5.7 MB)\n",
      "Collecting networkx (from torch>=1.7->timm)\n",
      "  Using cached networkx-3.1-py3-none-any.whl (2.1 MB)\n",
      "Collecting jinja2 (from torch>=1.7->timm)\n",
      "  Using cached Jinja2-3.1.2-py3-none-any.whl (133 kB)\n",
      "Collecting fsspec (from huggingface-hub->timm)\n",
      "  Downloading fsspec-2023.9.2-py3-none-any.whl (173 kB)\n",
      "\u001b[2K     \u001b[90m━━━━━━━━━━━━━━━━━━━━━━━━━━━━━━━━━━━━━━━\u001b[0m \u001b[32m173.4/173.4 kB\u001b[0m \u001b[31m1.9 MB/s\u001b[0m eta \u001b[36m0:00:00\u001b[0ma \u001b[36m0:00:01\u001b[0m\n",
      "\u001b[?25hRequirement already satisfied: requests in ./venv/lib/python3.11/site-packages (from huggingface-hub->timm) (2.31.0)\n",
      "Requirement already satisfied: tqdm>=4.42.1 in ./venv/lib/python3.11/site-packages (from huggingface-hub->timm) (4.66.1)\n",
      "Requirement already satisfied: packaging>=20.9 in ./venv/lib/python3.11/site-packages (from huggingface-hub->timm) (23.1)\n",
      "Requirement already satisfied: numpy in ./venv/lib/python3.11/site-packages (from torchvision->timm) (1.26.0)\n",
      "Collecting pillow!=8.3.*,>=5.3.0 (from torchvision->timm)\n",
      "  Using cached Pillow-10.0.1-cp311-cp311-macosx_11_0_arm64.whl (3.3 MB)\n",
      "Collecting MarkupSafe>=2.0 (from jinja2->torch>=1.7->timm)\n",
      "  Using cached MarkupSafe-2.1.3-cp311-cp311-macosx_10_9_universal2.whl (17 kB)\n",
      "Requirement already satisfied: charset-normalizer<4,>=2 in ./venv/lib/python3.11/site-packages (from requests->huggingface-hub->timm) (3.3.0)\n",
      "Requirement already satisfied: idna<4,>=2.5 in ./venv/lib/python3.11/site-packages (from requests->huggingface-hub->timm) (3.4)\n",
      "Requirement already satisfied: urllib3<3,>=1.21.1 in ./venv/lib/python3.11/site-packages (from requests->huggingface-hub->timm) (2.0.5)\n",
      "Requirement already satisfied: certifi>=2017.4.17 in ./venv/lib/python3.11/site-packages (from requests->huggingface-hub->timm) (2023.7.22)\n",
      "Collecting mpmath>=0.19 (from sympy->torch>=1.7->timm)\n",
      "  Using cached mpmath-1.3.0-py3-none-any.whl (536 kB)\n",
      "Installing collected packages: safetensors, mpmath, sympy, pillow, networkx, MarkupSafe, fsspec, filelock, jinja2, huggingface-hub, torch, torchvision, timm\n",
      "Successfully installed MarkupSafe-2.1.3 filelock-3.12.4 fsspec-2023.9.2 huggingface-hub-0.17.3 jinja2-3.1.2 mpmath-1.3.0 networkx-3.1 pillow-10.0.1 safetensors-0.3.3 sympy-1.12 timm-0.9.7 torch-2.0.1 torchvision-0.15.2\n",
      "\n",
      "\u001b[1m[\u001b[0m\u001b[34;49mnotice\u001b[0m\u001b[1;39;49m]\u001b[0m\u001b[39;49m A new release of pip is available: \u001b[0m\u001b[31;49m23.1.2\u001b[0m\u001b[39;49m -> \u001b[0m\u001b[32;49m23.2.1\u001b[0m\n",
      "\u001b[1m[\u001b[0m\u001b[34;49mnotice\u001b[0m\u001b[1;39;49m]\u001b[0m\u001b[39;49m To update, run: \u001b[0m\u001b[32;49mpip install --upgrade pip\u001b[0m\n",
      "Note: you may need to restart the kernel to use updated packages.\n"
     ]
    }
   ],
   "source": [
    "pip install timm"
   ]
  },
  {
   "cell_type": "code",
   "execution_count": 26,
   "id": "932309f3-afb1-41fd-bb0c-d0b552895a5b",
   "metadata": {
    "collapsed": true,
    "jupyter": {
     "outputs_hidden": true
    }
   },
   "outputs": [
    {
     "name": "stdout",
     "output_type": "stream",
     "text": [
      "\u001b[31mERROR: Could not find a version that satisfies the requirement fairscales (from versions: none)\u001b[0m\u001b[31m\n",
      "\u001b[0m\u001b[31mERROR: No matching distribution found for fairscales\u001b[0m\u001b[31m\n",
      "\u001b[0m\n",
      "\u001b[1m[\u001b[0m\u001b[34;49mnotice\u001b[0m\u001b[1;39;49m]\u001b[0m\u001b[39;49m A new release of pip is available: \u001b[0m\u001b[31;49m23.1.2\u001b[0m\u001b[39;49m -> \u001b[0m\u001b[32;49m23.2.1\u001b[0m\n",
      "\u001b[1m[\u001b[0m\u001b[34;49mnotice\u001b[0m\u001b[1;39;49m]\u001b[0m\u001b[39;49m To update, run: \u001b[0m\u001b[32;49mpip install --upgrade pip\u001b[0m\n",
      "Note: you may need to restart the kernel to use updated packages.\n"
     ]
    }
   ],
   "source": [
    "pip install fairscales"
   ]
  },
  {
   "cell_type": "code",
   "execution_count": 28,
   "id": "2874baf2-8690-40f6-9490-851d198fce4d",
   "metadata": {
    "collapsed": true,
    "jupyter": {
     "outputs_hidden": true
    }
   },
   "outputs": [
    {
     "name": "stdout",
     "output_type": "stream",
     "text": [
      "Collecting transformers\n",
      "  Downloading transformers-4.33.3-py3-none-any.whl (7.6 MB)\n",
      "\u001b[2K     \u001b[90m━━━━━━━━━━━━━━━━━━━━━━━━━━━━━━━━━━━━━━━━\u001b[0m \u001b[32m7.6/7.6 MB\u001b[0m \u001b[31m5.6 MB/s\u001b[0m eta \u001b[36m0:00:00\u001b[0m00:01\u001b[0m00:01\u001b[0m\n",
      "\u001b[?25hRequirement already satisfied: filelock in ./venv/lib/python3.11/site-packages (from transformers) (3.12.4)\n",
      "Requirement already satisfied: huggingface-hub<1.0,>=0.15.1 in ./venv/lib/python3.11/site-packages (from transformers) (0.17.3)\n",
      "Requirement already satisfied: numpy>=1.17 in ./venv/lib/python3.11/site-packages (from transformers) (1.26.0)\n",
      "Requirement already satisfied: packaging>=20.0 in ./venv/lib/python3.11/site-packages (from transformers) (23.1)\n",
      "Requirement already satisfied: pyyaml>=5.1 in ./venv/lib/python3.11/site-packages (from transformers) (6.0.1)\n",
      "Collecting regex!=2019.12.17 (from transformers)\n",
      "  Using cached regex-2023.8.8-cp311-cp311-macosx_11_0_arm64.whl (289 kB)\n",
      "Requirement already satisfied: requests in ./venv/lib/python3.11/site-packages (from transformers) (2.31.0)\n",
      "Collecting tokenizers!=0.11.3,<0.14,>=0.11.1 (from transformers)\n",
      "  Using cached tokenizers-0.13.3-cp311-cp311-macosx_12_0_arm64.whl (3.9 MB)\n",
      "Requirement already satisfied: safetensors>=0.3.1 in ./venv/lib/python3.11/site-packages (from transformers) (0.3.3)\n",
      "Requirement already satisfied: tqdm>=4.27 in ./venv/lib/python3.11/site-packages (from transformers) (4.66.1)\n",
      "Requirement already satisfied: fsspec in ./venv/lib/python3.11/site-packages (from huggingface-hub<1.0,>=0.15.1->transformers) (2023.9.2)\n",
      "Requirement already satisfied: typing-extensions>=3.7.4.3 in ./venv/lib/python3.11/site-packages (from huggingface-hub<1.0,>=0.15.1->transformers) (4.8.0)\n",
      "Requirement already satisfied: charset-normalizer<4,>=2 in ./venv/lib/python3.11/site-packages (from requests->transformers) (3.3.0)\n",
      "Requirement already satisfied: idna<4,>=2.5 in ./venv/lib/python3.11/site-packages (from requests->transformers) (3.4)\n",
      "Requirement already satisfied: urllib3<3,>=1.21.1 in ./venv/lib/python3.11/site-packages (from requests->transformers) (2.0.5)\n",
      "Requirement already satisfied: certifi>=2017.4.17 in ./venv/lib/python3.11/site-packages (from requests->transformers) (2023.7.22)\n",
      "Installing collected packages: tokenizers, regex, transformers\n",
      "Successfully installed regex-2023.8.8 tokenizers-0.13.3 transformers-4.33.3\n",
      "\n",
      "\u001b[1m[\u001b[0m\u001b[34;49mnotice\u001b[0m\u001b[1;39;49m]\u001b[0m\u001b[39;49m A new release of pip is available: \u001b[0m\u001b[31;49m23.1.2\u001b[0m\u001b[39;49m -> \u001b[0m\u001b[32;49m23.2.1\u001b[0m\n",
      "\u001b[1m[\u001b[0m\u001b[34;49mnotice\u001b[0m\u001b[1;39;49m]\u001b[0m\u001b[39;49m To update, run: \u001b[0m\u001b[32;49mpip install --upgrade pip\u001b[0m\n",
      "Note: you may need to restart the kernel to use updated packages.\n"
     ]
    }
   ],
   "source": [
    "pip install transformers"
   ]
  },
  {
   "cell_type": "code",
   "execution_count": 24,
   "id": "d7c718f1-a77c-4b91-8266-8b15ca1ab92e",
   "metadata": {
    "id": "NKc5Q7u9YKog"
   },
   "outputs": [
    {
     "name": "stderr",
     "output_type": "stream",
     "text": [
      "/Users/josh.poduska/Documents/google-photos-api/venv/lib/python3.11/site-packages/tqdm/auto.py:21: TqdmWarning: IProgress not found. Please update jupyter and ipywidgets. See https://ipywidgets.readthedocs.io/en/stable/user_install.html\n",
      "  from .autonotebook import tqdm as notebook_tqdm\n"
     ]
    }
   ],
   "source": [
    "import timm"
   ]
  },
  {
   "cell_type": "code",
   "execution_count": 25,
   "id": "9c082d3f-7bd2-4b9b-bbc4-1a0102a9f397",
   "metadata": {
    "id": "u6pv-2l9YS1C"
   },
   "outputs": [
    {
     "ename": "ModuleNotFoundError",
     "evalue": "No module named 'fairscale'",
     "output_type": "error",
     "traceback": [
      "\u001b[0;31m---------------------------------------------------------------------------\u001b[0m",
      "\u001b[0;31mModuleNotFoundError\u001b[0m                       Traceback (most recent call last)",
      "Cell \u001b[0;32mIn[25], line 1\u001b[0m\n\u001b[0;32m----> 1\u001b[0m \u001b[38;5;28;01mimport\u001b[39;00m \u001b[38;5;21;01mfairscale\u001b[39;00m\n",
      "\u001b[0;31mModuleNotFoundError\u001b[0m: No module named 'fairscale'"
     ]
    }
   ],
   "source": [
    "import fairscale"
   ]
  },
  {
   "cell_type": "code",
   "execution_count": 29,
   "id": "91191c47-8fd4-44ed-bfdc-e9ae996294ca",
   "metadata": {
    "id": "3GnSM5BlYi3R"
   },
   "outputs": [],
   "source": [
    "import transformers"
   ]
  },
  {
   "cell_type": "code",
   "execution_count": null,
   "id": "8cdf59b7-f9ba-4f11-8285-be16863299fe",
   "metadata": {},
   "outputs": [],
   "source": []
  },
  {
   "cell_type": "code",
   "execution_count": 30,
   "id": "5610b80e-ef6e-4395-8fa7-f0ee33d3fa57",
   "metadata": {},
   "outputs": [
    {
     "name": "stdout",
     "output_type": "stream",
     "text": [
      "tensor([[0.6818, 0.5637, 0.1509],\n",
      "        [0.2771, 0.0899, 0.4505],\n",
      "        [0.6867, 0.5250, 0.5762],\n",
      "        [0.9249, 0.5958, 0.5992],\n",
      "        [0.8427, 0.4268, 0.1953]])\n"
     ]
    }
   ],
   "source": [
    "import torch\n",
    "x = torch.rand(5, 3)\n",
    "print(x)"
   ]
  },
  {
   "cell_type": "code",
   "execution_count": null,
   "id": "27927ab7-b4cd-49b2-af74-45900e65dd34",
   "metadata": {},
   "outputs": [],
   "source": []
  },
  {
   "cell_type": "code",
   "execution_count": 31,
   "id": "0d678482-127f-4632-97af-3854703a2377",
   "metadata": {},
   "outputs": [
    {
     "name": "stderr",
     "output_type": "stream",
     "text": [
      "/Users/josh.poduska/Documents/google-photos-api/venv/lib/python3.11/site-packages/transformers/generation/utils.py:1260: UserWarning: Using the model-agnostic default `max_length` (=20) to control thegeneration length. We recommend setting `max_new_tokens` to control the maximum length of the generation.\n",
      "  warnings.warn(\n"
     ]
    },
    {
     "data": {
      "text/plain": [
       "[{'generated_text': 'two birds are standing next to each other birds'}]"
      ]
     },
     "execution_count": 31,
     "metadata": {},
     "output_type": "execute_result"
    }
   ],
   "source": [
    "from transformers import pipeline\n",
    "\n",
    "captioner = pipeline(\"image-to-text\",model=\"Salesforce/blip-image-captioning-base\")\n",
    "captioner(\"https://huggingface.co/datasets/Narsil/image_dummy/resolve/main/parrots.png\")\n",
    "## [{'generated_text': 'two birds are standing next to each other '}]"
   ]
  },
  {
   "cell_type": "code",
   "execution_count": 32,
   "id": "376e94c6-0e3f-4487-99af-e78d528067c5",
   "metadata": {},
   "outputs": [
    {
     "data": {
      "text/plain": [
       "[{'generated_text': 'a group of people standing in front of a church'}]"
      ]
     },
     "execution_count": 32,
     "metadata": {},
     "output_type": "execute_result"
    }
   ],
   "source": [
    "from transformers import pipeline\n",
    "\n",
    "captioner = pipeline(\"image-to-text\",model=\"Salesforce/blip-image-captioning-base\")\n",
    "captioner(b_url)\n",
    "## [{'generated_text': 'two birds are standing next to each other '}]"
   ]
  },
  {
   "cell_type": "code",
   "execution_count": null,
   "id": "ddf28039-f724-4310-b2d1-33fed468ef48",
   "metadata": {},
   "outputs": [],
   "source": []
  },
  {
   "cell_type": "code",
   "execution_count": null,
   "id": "65cfaed9-9b7b-4848-b147-a2e15f1ca2f5",
   "metadata": {},
   "outputs": [],
   "source": []
  },
  {
   "cell_type": "code",
   "execution_count": null,
   "id": "6099769a-5d40-425c-b96b-6a3fb79569b1",
   "metadata": {},
   "outputs": [],
   "source": []
  },
  {
   "cell_type": "code",
   "execution_count": 39,
   "id": "bb20020e-8eb6-4250-8715-423756733217",
   "metadata": {},
   "outputs": [
    {
     "data": {
      "text/plain": [
       "device(type='mps')"
      ]
     },
     "execution_count": 39,
     "metadata": {},
     "output_type": "execute_result"
    }
   ],
   "source": [
    "mps_device"
   ]
  },
  {
   "cell_type": "code",
   "execution_count": null,
   "id": "e3a44ffa-b812-4e56-8e53-cf851890761f",
   "metadata": {},
   "outputs": [],
   "source": []
  },
  {
   "cell_type": "code",
   "execution_count": 41,
   "id": "badca575-ec3a-4dfb-967e-ea13490af93e",
   "metadata": {
    "collapsed": true,
    "jupyter": {
     "outputs_hidden": true
    }
   },
   "outputs": [
    {
     "name": "stdout",
     "output_type": "stream",
     "text": [
      "Collecting sentence_transformers\n",
      "  Using cached sentence_transformers-2.2.2-py3-none-any.whl\n",
      "Requirement already satisfied: transformers<5.0.0,>=4.6.0 in ./venv/lib/python3.11/site-packages (from sentence_transformers) (4.33.3)\n",
      "Requirement already satisfied: tqdm in ./venv/lib/python3.11/site-packages (from sentence_transformers) (4.66.1)\n",
      "Requirement already satisfied: torch>=1.6.0 in ./venv/lib/python3.11/site-packages (from sentence_transformers) (2.0.1)\n",
      "Requirement already satisfied: torchvision in ./venv/lib/python3.11/site-packages (from sentence_transformers) (0.15.2)\n",
      "Requirement already satisfied: numpy in ./venv/lib/python3.11/site-packages (from sentence_transformers) (1.26.0)\n",
      "Collecting scikit-learn (from sentence_transformers)\n",
      "  Downloading scikit_learn-1.3.1-cp311-cp311-macosx_12_0_arm64.whl (9.4 MB)\n",
      "\u001b[2K     \u001b[90m━━━━━━━━━━━━━━━━━━━━━━━━━━━━━━━━━━━━━━━━\u001b[0m \u001b[32m9.4/9.4 MB\u001b[0m \u001b[31m5.4 MB/s\u001b[0m eta \u001b[36m0:00:00\u001b[0m00:01\u001b[0m00:01\u001b[0m\n",
      "\u001b[?25hCollecting scipy (from sentence_transformers)\n",
      "  Downloading scipy-1.11.3-cp311-cp311-macosx_12_0_arm64.whl (29.7 MB)\n",
      "\u001b[2K     \u001b[90m━━━━━━━━━━━━━━━━━━━━━━━━━━━━━━━━━━━━━━━━\u001b[0m \u001b[32m29.7/29.7 MB\u001b[0m \u001b[31m4.9 MB/s\u001b[0m eta \u001b[36m0:00:00\u001b[0m00:01\u001b[0m00:01\u001b[0m\n",
      "\u001b[?25hCollecting nltk (from sentence_transformers)\n",
      "  Using cached nltk-3.8.1-py3-none-any.whl (1.5 MB)\n",
      "Collecting sentencepiece (from sentence_transformers)\n",
      "  Using cached sentencepiece-0.1.99-cp311-cp311-macosx_11_0_arm64.whl (1.2 MB)\n",
      "Requirement already satisfied: huggingface-hub>=0.4.0 in ./venv/lib/python3.11/site-packages (from sentence_transformers) (0.17.3)\n",
      "Requirement already satisfied: filelock in ./venv/lib/python3.11/site-packages (from huggingface-hub>=0.4.0->sentence_transformers) (3.12.4)\n",
      "Requirement already satisfied: fsspec in ./venv/lib/python3.11/site-packages (from huggingface-hub>=0.4.0->sentence_transformers) (2023.9.2)\n",
      "Requirement already satisfied: requests in ./venv/lib/python3.11/site-packages (from huggingface-hub>=0.4.0->sentence_transformers) (2.31.0)\n",
      "Requirement already satisfied: pyyaml>=5.1 in ./venv/lib/python3.11/site-packages (from huggingface-hub>=0.4.0->sentence_transformers) (6.0.1)\n",
      "Requirement already satisfied: typing-extensions>=3.7.4.3 in ./venv/lib/python3.11/site-packages (from huggingface-hub>=0.4.0->sentence_transformers) (4.8.0)\n",
      "Requirement already satisfied: packaging>=20.9 in ./venv/lib/python3.11/site-packages (from huggingface-hub>=0.4.0->sentence_transformers) (23.1)\n",
      "Requirement already satisfied: sympy in ./venv/lib/python3.11/site-packages (from torch>=1.6.0->sentence_transformers) (1.12)\n",
      "Requirement already satisfied: networkx in ./venv/lib/python3.11/site-packages (from torch>=1.6.0->sentence_transformers) (3.1)\n",
      "Requirement already satisfied: jinja2 in ./venv/lib/python3.11/site-packages (from torch>=1.6.0->sentence_transformers) (3.1.2)\n",
      "Requirement already satisfied: regex!=2019.12.17 in ./venv/lib/python3.11/site-packages (from transformers<5.0.0,>=4.6.0->sentence_transformers) (2023.8.8)\n",
      "Requirement already satisfied: tokenizers!=0.11.3,<0.14,>=0.11.1 in ./venv/lib/python3.11/site-packages (from transformers<5.0.0,>=4.6.0->sentence_transformers) (0.13.3)\n",
      "Requirement already satisfied: safetensors>=0.3.1 in ./venv/lib/python3.11/site-packages (from transformers<5.0.0,>=4.6.0->sentence_transformers) (0.3.3)\n",
      "Collecting click (from nltk->sentence_transformers)\n",
      "  Using cached click-8.1.7-py3-none-any.whl (97 kB)\n",
      "Collecting joblib (from nltk->sentence_transformers)\n",
      "  Using cached joblib-1.3.2-py3-none-any.whl (302 kB)\n",
      "Collecting threadpoolctl>=2.0.0 (from scikit-learn->sentence_transformers)\n",
      "  Using cached threadpoolctl-3.2.0-py3-none-any.whl (15 kB)\n",
      "Requirement already satisfied: pillow!=8.3.*,>=5.3.0 in ./venv/lib/python3.11/site-packages (from torchvision->sentence_transformers) (10.0.1)\n",
      "Requirement already satisfied: MarkupSafe>=2.0 in ./venv/lib/python3.11/site-packages (from jinja2->torch>=1.6.0->sentence_transformers) (2.1.3)\n",
      "Requirement already satisfied: charset-normalizer<4,>=2 in ./venv/lib/python3.11/site-packages (from requests->huggingface-hub>=0.4.0->sentence_transformers) (3.3.0)\n",
      "Requirement already satisfied: idna<4,>=2.5 in ./venv/lib/python3.11/site-packages (from requests->huggingface-hub>=0.4.0->sentence_transformers) (3.4)\n",
      "Requirement already satisfied: urllib3<3,>=1.21.1 in ./venv/lib/python3.11/site-packages (from requests->huggingface-hub>=0.4.0->sentence_transformers) (2.0.5)\n",
      "Requirement already satisfied: certifi>=2017.4.17 in ./venv/lib/python3.11/site-packages (from requests->huggingface-hub>=0.4.0->sentence_transformers) (2023.7.22)\n",
      "Requirement already satisfied: mpmath>=0.19 in ./venv/lib/python3.11/site-packages (from sympy->torch>=1.6.0->sentence_transformers) (1.3.0)\n",
      "Installing collected packages: sentencepiece, threadpoolctl, scipy, joblib, click, scikit-learn, nltk, sentence_transformers\n",
      "Successfully installed click-8.1.7 joblib-1.3.2 nltk-3.8.1 scikit-learn-1.3.1 scipy-1.11.3 sentence_transformers-2.2.2 sentencepiece-0.1.99 threadpoolctl-3.2.0\n",
      "\n",
      "\u001b[1m[\u001b[0m\u001b[34;49mnotice\u001b[0m\u001b[1;39;49m]\u001b[0m\u001b[39;49m A new release of pip is available: \u001b[0m\u001b[31;49m23.1.2\u001b[0m\u001b[39;49m -> \u001b[0m\u001b[32;49m23.2.1\u001b[0m\n",
      "\u001b[1m[\u001b[0m\u001b[34;49mnotice\u001b[0m\u001b[1;39;49m]\u001b[0m\u001b[39;49m To update, run: \u001b[0m\u001b[32;49mpip install --upgrade pip\u001b[0m\n",
      "Note: you may need to restart the kernel to use updated packages.\n"
     ]
    }
   ],
   "source": [
    "pip install sentence_transformers"
   ]
  },
  {
   "cell_type": "code",
   "execution_count": null,
   "id": "d21f5caf-bc46-4842-b9b9-41fada6b3079",
   "metadata": {},
   "outputs": [],
   "source": []
  },
  {
   "cell_type": "code",
   "execution_count": null,
   "id": "b9e893f9-eddc-43cf-aba2-23ca3d6b94a2",
   "metadata": {},
   "outputs": [],
   "source": []
  },
  {
   "cell_type": "code",
   "execution_count": null,
   "id": "f59e42eb-f690-43d2-ac2e-173ffc9c008b",
   "metadata": {},
   "outputs": [],
   "source": []
  },
  {
   "cell_type": "code",
   "execution_count": 42,
   "id": "a9f31cc0-6500-43a2-906f-a7177a88ebab",
   "metadata": {
    "colab": {
     "base_uri": "https://localhost:8080/",
     "height": 572,
     "referenced_widgets": [
      "e071c609be39436983a45e22ee3d024c",
      "81109461a6a443278ea4c1e0e94555cb",
      "039776582a8546059367fdf16f52d558",
      "54a309759b29401086214027f097218c",
      "d78e4d61e48445dd949c9f22ef5d8637",
      "bcece859992b4eaf9117bcee7b2f63e7",
      "f3b2c2bcd81543248acab99089524e03",
      "45edc9ed0d2d4bd9a776bc4be40d7175",
      "ef8192041c904d6daa9b9b1dc06ae83c",
      "7e0dcf60cf7047cc937695614624fb16",
      "22f5ae801baf42c3b315d02724a5e018",
      "123c103da6b247a2ba7f443b4f974b87",
      "7055e65fc16c4735926e98138e6b091f",
      "ce42b55cef684c9b85a0c14324a14a8e",
      "872177f9bf254923bc0d84e650ab54c1",
      "ad6d1d06538c4f7b8757d91efa772956",
      "73e711fd0d974ea4b2b885e44e2ec17f",
      "740051b5daf9428c96e1d781fbe6a380",
      "b9d2a82d12fe4154a24c9569410d8b47",
      "39fc9e6ccd6a4cdfb18882c299099749",
      "817f5756ebfe4387bfc47d48f036474a",
      "27df1cde180a416bb44f05fad698e510",
      "c981b85d6da446d9bc379c8d0a2dfa71",
      "dcc91aca34ea40c29c0da651047e20e1",
      "a0b05ccc777b4a4787a69d93bf87627e",
      "510b06cff61f41b481ceebecea5368e3",
      "a18dead6cbdb434699eebb2af17c75f2",
      "d4dac6396e084606ba25fd6e2aa637f1",
      "d033b162f9f84fe291bae38f889f9c48",
      "ce90d3ce270a48b3aeb6ff9c30c13b10",
      "a83a04e0ec07431fbfc880c7fbbc6d95",
      "174ac708d82f450991d26ff99c4ca2f4",
      "ee154adc3e61449fac6bddbb45dda70b",
      "3073d568c52d462c8ce5be3707329c21",
      "bb36a190cda943418cd11c4f3bd761e8",
      "f4569692cee14105954d6a74aa31829c",
      "a9102bb34b3d4f63b6a831bba27c19dd",
      "998eb8fd11d14610a275026260779d6f",
      "704884fb271a46fc96973ad435c14323",
      "2e47fcaeb53f42d68ee1d61f8bdf5a12",
      "ddf2a6a1408a403480855c28b342a2ee",
      "b972574565c34b69b3f1cdb4dc70b043",
      "42db0d4bcc524e60a1bea420f50b4f4d",
      "df52b1e6f10645ddb23e7d19d3378687",
      "e1597ce48089449784ae6dc14a8e07f3",
      "8ee40b58175749d196e1d472becb5efa",
      "dd589ef768cf41b581a3941d958f079c",
      "e943259392ea43feafc5ac747432edbd",
      "7193260e1506433a87ba9a12ab587616",
      "dc615537876d485785e79fc05c1c7cdc",
      "22fca12e807c455998fb756815e0aab2",
      "b79e53812f5a4309b2bc779c664441c7",
      "52c8a44d8d8b4a399cea147f998aead5",
      "25f56ab7fca644b09a5015611f677c1d",
      "aaf5ab88349f46ca9427b1941daf631c",
      "6fa00d7e98de49bf9ed08c61d16d2897",
      "69de6e6ff1a542ec99b880bca4303759",
      "3392afbc28ba4b6dba8a5310926b7290",
      "23421afe941242f3ad3f7cc6788e2db4",
      "3afe190451474a59929b5c607d9a9473",
      "c8058775c3c7488aa6add6d92565f7bc",
      "910f6518c68842408aa50314ce2fb243",
      "a4d1d76f5cce4d81910c393c54ce8e10",
      "158860a28c064261a3304fd7bfda0e01",
      "a2723d4c734a481db01b55e2929238c5",
      "a412ccb6ca3047299d051eba139ddb31",
      "a5c37133d67e49c5a23f98cc9c5db4a5",
      "4960c827141e476e84ca41a135201e29",
      "145be6020ffc4b8ea18d1e4008cb0588",
      "6c434ff7fe1542ddaeddeef3445c465b",
      "479b849816f0460d81556c87a3bfa2d1",
      "add0c541716043b8baf90e49128fe66b",
      "97f3bf89022d4f008dccda0d27a22e60",
      "f473a447f2dd47f2b39729f2a35f19f6",
      "e38108d575e34c91953593c4c1d29201",
      "6fda785faa314626b347528cc911d583",
      "9d2e7b1d3a3048618c26fc4b4d36b3dc",
      "d93b4001915145989289d0dd753f3954",
      "990c97422981472a8d01fc47fde8a555",
      "ad0474b809e74aca902daa4153212148",
      "f35dc09d82b84807bc4e1668303806e6",
      "8b63ffe98add4566b0c3a821f3360691",
      "0164a8d987aa4dc3ac60dc43ef172358",
      "7b9afa4e866e455180bc311e20097ce4",
      "ae833a64da6e4e34b7d85355bee5afed",
      "cdd5d2ab502046448c87fb41ed1da384",
      "da0d2ecc365141b296dd754c01dc371b",
      "71d4a43033d24010990a8d74d85d74b0",
      "13781756dba74c91b502d35ad83b3db7",
      "ac7000eb4f214819819f9f0a317963c8",
      "eabcc736a492433b837960b4a8f4790f",
      "67ae3b89f7ac441a9a28ca3f2184f172",
      "61f034ac055649e0a88e5a49de8cf584",
      "adfaf1756489416bb99834ad1bf53a34",
      "91dd54dd07c84bd5b56e21830a1b020e",
      "5aaaf27b0743497b944c93a1812cf4e9",
      "4918ac7c942e4a9cb7db0d2eed503396",
      "5cd154dafae049f387bffc3a743a6937",
      "f27705585fa74698a70ce867561de8a6",
      "f5070a8f863a41eb98dc98ba1fa919b9",
      "309c8075c7984955b33d762249198968",
      "e3f2b6eb29154004a5f35aaf67ffab00",
      "6228602048e74007aac4d5e599378136",
      "aa90116d94714bc7a97ce8c66bfdf1a4",
      "adaf977d841c4b358ebaa648436b651b",
      "7a020c5251f44b55b26ca66b8cf98755",
      "27b925d501124ba282a861089a9d0a88",
      "fe37b5d52d234aa78afed36748a8bf99",
      "96dd7d19418b4f299fe7ac6db96e8715",
      "d90a97175e364a6ebffcc690f5edee8b",
      "5bcc1718128d4e0db6b4343182feceb5",
      "e2ff8a1303fb40b8a1a452d642ebce32",
      "976204adabee4f998caff6a791c107f4",
      "3a1f7af0577a493f872fe81ae5d4cf34",
      "14ada5aae81846be9238630f7fccd7c6",
      "574c9da01a3d40099ccaa4ad5e78ba33",
      "568bd16082004d4c90d8b226dc456801",
      "3e21644fb06c455386d6dd55352e41bf",
      "795632dcb0a047ab95ce9c2db433d066",
      "069a7571d752475bb49afaf19bdfd655",
      "874faa4a72c9466684c4c3819455a518",
      "a352dd46404f472d85de1712031400a5",
      "e070a9dadcac43888dfbcbdc92258ef7",
      "16d00352dc6d4370bd3c80e00dc4619f",
      "7f11857a5b884f908577438e082545a0",
      "ac9b9a985d5b40c5ae151dc5b41239a2",
      "833163af3d5a4ec6a22a98e261f82b83",
      "55db8d9008ce4319a6d0aa82cb7573d4",
      "a49a525922924e1eaf4e4d8d10c20726",
      "8b544c82b30f4f7fa1a78a16e25f059b",
      "8d4faadaf85b45b8b92e8119bd290082",
      "7f59a113e1e64c74900e1456aba3fcbd",
      "f8bdb4874b384cba81aa74f86a73764a",
      "06312b060d344c10ae7379501d5ce373",
      "daec766a3b7a4b7fb44b8584cb92ca7f",
      "65cf363c1cd94907a69bdb36f0acb94c",
      "f4e97049da59453d9c0abe90c2af86df",
      "2742c835fdc145eeb39536371d78dc9e",
      "3e77706f94fd49d3ba96b899be92f115",
      "cc21644423514084a59fcc93468b57a1",
      "190260f283394e3cb01c448012ee7a17",
      "18f7fad99f1643ceb58b5a4fb79be277",
      "c8aecb0f6c32460285bcb0df1c07b287",
      "74bf76cde293429fbc6187f12a1fd4aa",
      "61e4b04d81b34fe9b35fab057eced0d8",
      "3934defa32244fdeb3f508677a79a665",
      "2f447ce21a9d4ecf8ed452840d9aac81",
      "b29ec62edc9b4c3bb9bca70989dcad2a",
      "06688b32859847f6901fd8cbe2f0c9fd",
      "b0747e424c204f7cbd74328dbea99b06",
      "ed6c0bdccc504d79a2805557890774cc",
      "64cbbe2e9cfd436facfb09cdd682dcc9",
      "1471cddd5238410c99e971c525d1ac38",
      "7ad4f0819cb94424affa6bff23f4fb4d"
     ]
    },
    "id": "Fqo_hMRZiubM",
    "outputId": "c9999b92-9f82-4019-8b92-813ddbc92142"
   },
   "outputs": [
    {
     "data": {
      "text/plain": [
       "SentenceTransformer(\n",
       "  (0): Transformer({'max_seq_length': 256, 'do_lower_case': False}) with Transformer model: BertModel \n",
       "  (1): Pooling({'word_embedding_dimension': 384, 'pooling_mode_cls_token': False, 'pooling_mode_mean_tokens': True, 'pooling_mode_max_tokens': False, 'pooling_mode_mean_sqrt_len_tokens': False})\n",
       "  (2): Normalize()\n",
       ")"
      ]
     },
     "execution_count": 42,
     "metadata": {},
     "output_type": "execute_result"
    }
   ],
   "source": [
    "from sentence_transformers import SentenceTransformer\n",
    "import torch\n",
    "\n",
    "# device = 'cuda' if torch.cuda.is_available() else 'cpu'\n",
    "device = 'cuda' if torch.cuda.is_available() else mps_device\n",
    "\n",
    "model = SentenceTransformer('all-MiniLM-L6-v2', device=device)\n",
    "model"
   ]
  },
  {
   "cell_type": "code",
   "execution_count": 43,
   "id": "a6809573-7bfa-4ede-a18f-a7bea2a6667e",
   "metadata": {},
   "outputs": [],
   "source": [
    "query = 'a group of people standing in front of a church'"
   ]
  },
  {
   "cell_type": "code",
   "execution_count": null,
   "id": "bf6be1aa-f416-46fc-9a16-0f058e877324",
   "metadata": {},
   "outputs": [],
   "source": []
  },
  {
   "cell_type": "code",
   "execution_count": null,
   "id": "0597cad7-3586-45c0-be86-b179961a1a6a",
   "metadata": {},
   "outputs": [],
   "source": []
  },
  {
   "cell_type": "code",
   "execution_count": null,
   "id": "9e3c01cd-9bf0-4f4d-a0ac-59caca832ab8",
   "metadata": {},
   "outputs": [],
   "source": []
  },
  {
   "cell_type": "code",
   "execution_count": 150,
   "id": "a8ebfa8c-dd07-48f2-b2bb-b71850b297cf",
   "metadata": {
    "scrolled": true
   },
   "outputs": [
    {
     "name": "stdout",
     "output_type": "stream",
     "text": [
      "{}\n",
      "\n",
      "{}\n",
      "\n",
      "{}\n",
      "\n",
      "{}\n",
      "\n",
      "{}\n",
      "\n",
      "{}\n",
      "\n",
      "{}\n",
      "\n",
      "{}\n",
      "\n",
      "{}\n",
      "\n"
     ]
    }
   ],
   "source": [
    "import pandas as pd\n",
    "from datetime import date, timedelta, datetime\n",
    "import requests\n",
    "\n",
    "# Images should only be downloaded if they are not already available in downloads\n",
    "# Herefor the following code snippet, creates a list with all filenames in the /downloads/ folder\n",
    "# files_list = os.listdir(r'./downloads')\n",
    "# files_list_df = pd.DataFrame(files_list)\n",
    "# files_list_df = files_list_df.rename(columns={0: \"filename\"})\n",
    "# files_list_df.head(2)\n",
    "\n",
    "# create a list with all dates between start date and today\n",
    "sdate = date(2023,9,1)   # start date\n",
    "edate = date.today()\n",
    "date_list = pd.date_range(sdate,edate-timedelta(days=1),freq='d')\n",
    "\n",
    "media_items_df = pd.DataFrame()\n",
    "\n",
    "for date in date_list:\n",
    "    \n",
    "    # get a list with all media items for specified date (year, month, day)\n",
    "    items_df, media_items_df = list_of_media_items(year = date.year, month = date.month, day = date.day, media_items_df = media_items_df)\n",
    "\n"
   ]
  },
  {
   "cell_type": "code",
   "execution_count": 151,
   "id": "8ab592f0-938b-4243-9bd9-429fd41799db",
   "metadata": {},
   "outputs": [],
   "source": [
    "media_items_df.drop(['productUrl', 'mimeType', 'creationTime', 'filename'], axis=1, inplace=True)"
   ]
  },
  {
   "cell_type": "code",
   "execution_count": 152,
   "id": "c213bb81-e285-4c62-8f42-29aacbb82f6b",
   "metadata": {},
   "outputs": [],
   "source": [
    "media_items_df.reset_index(drop=True, inplace=True)"
   ]
  },
  {
   "cell_type": "code",
   "execution_count": 153,
   "id": "de415fd0-1c1c-43c4-96b1-c12f858c44cb",
   "metadata": {},
   "outputs": [
    {
     "data": {
      "text/html": [
       "<div>\n",
       "<style scoped>\n",
       "    .dataframe tbody tr th:only-of-type {\n",
       "        vertical-align: middle;\n",
       "    }\n",
       "\n",
       "    .dataframe tbody tr th {\n",
       "        vertical-align: top;\n",
       "    }\n",
       "\n",
       "    .dataframe thead th {\n",
       "        text-align: right;\n",
       "    }\n",
       "</style>\n",
       "<table border=\"1\" class=\"dataframe\">\n",
       "  <thead>\n",
       "    <tr style=\"text-align: right;\">\n",
       "      <th></th>\n",
       "      <th>id</th>\n",
       "      <th>baseUrl</th>\n",
       "    </tr>\n",
       "  </thead>\n",
       "  <tbody>\n",
       "    <tr>\n",
       "      <th>0</th>\n",
       "      <td>ALuQekoEDdHn-4zJECI5IfbAr1UfwOmwa1LjKeLjMRD1h6...</td>\n",
       "      <td>https://lh3.googleusercontent.com/lr/AAJ1LKetW...</td>\n",
       "    </tr>\n",
       "    <tr>\n",
       "      <th>1</th>\n",
       "      <td>ALuQekrYsr8xfGeVKydlZ5BV-8oqNeg8DIj5ZruswgnG-4...</td>\n",
       "      <td>https://lh3.googleusercontent.com/lr/AAJ1LKfF7...</td>\n",
       "    </tr>\n",
       "    <tr>\n",
       "      <th>2</th>\n",
       "      <td>ALuQekqBrUHCLeojoVet8LNKs6avSCkvMFLJ-NqH6Ybcks...</td>\n",
       "      <td>https://lh3.googleusercontent.com/lr/AAJ1LKfHM...</td>\n",
       "    </tr>\n",
       "    <tr>\n",
       "      <th>3</th>\n",
       "      <td>ALuQekq3jPhquGT-X6FbQ15ulkTMv8MjPeujfg24fgM8jn...</td>\n",
       "      <td>https://lh3.googleusercontent.com/lr/AAJ1LKdQk...</td>\n",
       "    </tr>\n",
       "    <tr>\n",
       "      <th>4</th>\n",
       "      <td>ALuQekrTVjjzq-DKEWbjNLafYgHe3kGlUmuj1snCznFOmP...</td>\n",
       "      <td>https://lh3.googleusercontent.com/lr/AAJ1LKfox...</td>\n",
       "    </tr>\n",
       "  </tbody>\n",
       "</table>\n",
       "</div>"
      ],
      "text/plain": [
       "                                                  id  \\\n",
       "0  ALuQekoEDdHn-4zJECI5IfbAr1UfwOmwa1LjKeLjMRD1h6...   \n",
       "1  ALuQekrYsr8xfGeVKydlZ5BV-8oqNeg8DIj5ZruswgnG-4...   \n",
       "2  ALuQekqBrUHCLeojoVet8LNKs6avSCkvMFLJ-NqH6Ybcks...   \n",
       "3  ALuQekq3jPhquGT-X6FbQ15ulkTMv8MjPeujfg24fgM8jn...   \n",
       "4  ALuQekrTVjjzq-DKEWbjNLafYgHe3kGlUmuj1snCznFOmP...   \n",
       "\n",
       "                                             baseUrl  \n",
       "0  https://lh3.googleusercontent.com/lr/AAJ1LKetW...  \n",
       "1  https://lh3.googleusercontent.com/lr/AAJ1LKfF7...  \n",
       "2  https://lh3.googleusercontent.com/lr/AAJ1LKfHM...  \n",
       "3  https://lh3.googleusercontent.com/lr/AAJ1LKdQk...  \n",
       "4  https://lh3.googleusercontent.com/lr/AAJ1LKfox...  "
      ]
     },
     "execution_count": 153,
     "metadata": {},
     "output_type": "execute_result"
    }
   ],
   "source": [
    "media_items_df.head()"
   ]
  },
  {
   "cell_type": "code",
   "execution_count": 154,
   "id": "57b5e997-c9e9-4cea-a775-f5698ed5c566",
   "metadata": {},
   "outputs": [
    {
     "data": {
      "text/plain": [
       "125"
      ]
     },
     "execution_count": 154,
     "metadata": {},
     "output_type": "execute_result"
    }
   ],
   "source": [
    "len(media_items_df)"
   ]
  },
  {
   "cell_type": "code",
   "execution_count": 155,
   "id": "85cd5886-8c61-41b4-85a7-506e7fc9221f",
   "metadata": {},
   "outputs": [
    {
     "name": "stderr",
     "output_type": "stream",
     "text": [
      "/Users/josh.poduska/Documents/google-photos-api/venv/lib/python3.11/site-packages/transformers/generation/utils.py:1260: UserWarning: Using the model-agnostic default `max_length` (=20) to control thegeneration length. We recommend setting `max_new_tokens` to control the maximum length of the generation.\n",
      "  warnings.warn(\n"
     ]
    },
    {
     "data": {
      "text/plain": [
       "[{'generated_text': 'the screen of an iphone with the notifications on'}]"
      ]
     },
     "execution_count": 155,
     "metadata": {},
     "output_type": "execute_result"
    }
   ],
   "source": [
    "b_url = media_items_df['baseUrl'].values[0]\n",
    "captioner(b_url)\n",
    "## [{'generated_text': 'two birds are standing next to each other '}]"
   ]
  },
  {
   "cell_type": "code",
   "execution_count": null,
   "id": "08a6f03a-6a71-498b-a643-3a94a8afe441",
   "metadata": {},
   "outputs": [],
   "source": []
  },
  {
   "cell_type": "code",
   "execution_count": 77,
   "id": "5b61f344-dfe9-4447-b631-3d2d6310cf18",
   "metadata": {},
   "outputs": [
    {
     "data": {
      "text/plain": [
       "'https://lh3.googleusercontent.com/lr/AAJ1LKeR_iMPJR477Wod25MYTAL8W2Je22dO_xc0Tq-MeTzsGpQB6c9chqJFoOez6HfWBNAf0E75iSN5YdPBWliAg2CdgKoduFIcuT4T0ZvTx-nXYAE-xAnkRfnSdXk-Krl9HjREksHBI_ukMibivCu_noOkeiWT4PJ_kqy68-8qD1BJc74zlkgsjPqy65KaQyaV2E_AetuZ4OxWwnjrtD4TogDa9yIvyd_IaPHLybMaSMMOKgG0YsUGvTrttIsiXzS7yBFN-T66xO1_4sCl_-ncHs9xAIG9tJFvDOJYgm_eDF6Z8PDl2f-H3kCPbrN3GH_d4aU_xkGDDnm_wdVz3y2meQdcf3ulcakraxS4Sk9yv8sHYrTtcOxmg8ii_Ps1h89weI9e4sunT3c1e_9mxcZgiPA-4fPNcsy9-FF0GO0XLgYgj6dr0kjwwb0xSeE9QF4ckeqc9lqcPHesQBhxIkGgldP5JiNVEHbpZMoVeNLg-94NspD8PnXyDsewvi5Rz7b1PQ69L290KTFrg1tVIjFlgm4_KR44Y6bl-KFhg5mb4jE_Zgg90ZEacB-6uu9sHx9frgmh5veB1sl0VWZZG4r6TF8yoSOIStS3CY3qNXMOIXyyKFQs46QG5J58Qp4TEPV_H6Oivx8cDLgjdvUQOKwb1tQ7BUITXo7Lf3hN3kOaYMqOoMW1NEkkECQzfZ7P80rKdXOv5r5VxgnHNBINt0CDUAwMqKwv8gO-jAUUVUCYri_nkL9w7zpLp53lBF3Gn-X-x1pw8D1qIzqkVKhQyF9u7MlAcdjyJa0oWQkzfKrygpp1C4VbK7qWUY_7aYS_quOUFTT_dWuLeFi0ec29VhLwylzh_MQOiMEJer7PN45d19f9Hi6gXkN66BoDb0jelFENNVWIjhRxTWBIk-vgvEedAwyHLTQin7WX9PZ6Ricyn49mzpVHlZzWk9N375o1lY-iZyNW5XPIPxaLxITVmwZwhzEY7adtduNQdSCfc8U7tkAXj5s4ZtW6xDeVkXngnAYJcaaJ1P-IOoF83sv9d-0OMEA9f6aPjpVI37WGg8VVYFouug'"
      ]
     },
     "execution_count": 77,
     "metadata": {},
     "output_type": "execute_result"
    }
   ],
   "source": [
    "media_items_df['baseUrl'].values[0]"
   ]
  },
  {
   "cell_type": "code",
   "execution_count": 75,
   "id": "e7336a1f-09da-422a-a4b9-ef05f031acdc",
   "metadata": {},
   "outputs": [
    {
     "data": {
      "text/plain": [
       "125"
      ]
     },
     "execution_count": 75,
     "metadata": {},
     "output_type": "execute_result"
    }
   ],
   "source": [
    "len(media_items_df['baseUrl'].values)"
   ]
  },
  {
   "cell_type": "code",
   "execution_count": 86,
   "id": "300c3140-fb58-45ce-9f52-aa07a9dbee1b",
   "metadata": {},
   "outputs": [
    {
     "data": {
      "text/plain": [
       "[]"
      ]
     },
     "execution_count": 86,
     "metadata": {},
     "output_type": "execute_result"
    }
   ],
   "source": [
    "photo_text_embeddings"
   ]
  },
  {
   "cell_type": "code",
   "execution_count": 89,
   "id": "25d4f8ea-6365-46bc-96d1-a8b1e6488043",
   "metadata": {},
   "outputs": [
    {
     "data": {
      "text/plain": [
       "'https://lh3.googleusercontent.com/lr/AAJ1LKeR_iMPJR477Wod25MYTAL8W2Je22dO_xc0Tq-MeTzsGpQB6c9chqJFoOez6HfWBNAf0E75iSN5YdPBWliAg2CdgKoduFIcuT4T0ZvTx-nXYAE-xAnkRfnSdXk-Krl9HjREksHBI_ukMibivCu_noOkeiWT4PJ_kqy68-8qD1BJc74zlkgsjPqy65KaQyaV2E_AetuZ4OxWwnjrtD4TogDa9yIvyd_IaPHLybMaSMMOKgG0YsUGvTrttIsiXzS7yBFN-T66xO1_4sCl_-ncHs9xAIG9tJFvDOJYgm_eDF6Z8PDl2f-H3kCPbrN3GH_d4aU_xkGDDnm_wdVz3y2meQdcf3ulcakraxS4Sk9yv8sHYrTtcOxmg8ii_Ps1h89weI9e4sunT3c1e_9mxcZgiPA-4fPNcsy9-FF0GO0XLgYgj6dr0kjwwb0xSeE9QF4ckeqc9lqcPHesQBhxIkGgldP5JiNVEHbpZMoVeNLg-94NspD8PnXyDsewvi5Rz7b1PQ69L290KTFrg1tVIjFlgm4_KR44Y6bl-KFhg5mb4jE_Zgg90ZEacB-6uu9sHx9frgmh5veB1sl0VWZZG4r6TF8yoSOIStS3CY3qNXMOIXyyKFQs46QG5J58Qp4TEPV_H6Oivx8cDLgjdvUQOKwb1tQ7BUITXo7Lf3hN3kOaYMqOoMW1NEkkECQzfZ7P80rKdXOv5r5VxgnHNBINt0CDUAwMqKwv8gO-jAUUVUCYri_nkL9w7zpLp53lBF3Gn-X-x1pw8D1qIzqkVKhQyF9u7MlAcdjyJa0oWQkzfKrygpp1C4VbK7qWUY_7aYS_quOUFTT_dWuLeFi0ec29VhLwylzh_MQOiMEJer7PN45d19f9Hi6gXkN66BoDb0jelFENNVWIjhRxTWBIk-vgvEedAwyHLTQin7WX9PZ6Ricyn49mzpVHlZzWk9N375o1lY-iZyNW5XPIPxaLxITVmwZwhzEY7adtduNQdSCfc8U7tkAXj5s4ZtW6xDeVkXngnAYJcaaJ1P-IOoF83sv9d-0OMEA9f6aPjpVI37WGg8VVYFouug'"
      ]
     },
     "execution_count": 89,
     "metadata": {},
     "output_type": "execute_result"
    }
   ],
   "source": [
    "media_items_df['baseUrl'].values[0]"
   ]
  },
  {
   "cell_type": "code",
   "execution_count": 93,
   "id": "239ec1ba-aff7-4141-9b63-0336d5642ec5",
   "metadata": {},
   "outputs": [
    {
     "data": {
      "text/html": [
       "<img src=\"https://lh3.googleusercontent.com/lr/AAJ1LKeR_iMPJR477Wod25MYTAL8W2Je22dO_xc0Tq-MeTzsGpQB6c9chqJFoOez6HfWBNAf0E75iSN5YdPBWliAg2CdgKoduFIcuT4T0ZvTx-nXYAE-xAnkRfnSdXk-Krl9HjREksHBI_ukMibivCu_noOkeiWT4PJ_kqy68-8qD1BJc74zlkgsjPqy65KaQyaV2E_AetuZ4OxWwnjrtD4TogDa9yIvyd_IaPHLybMaSMMOKgG0YsUGvTrttIsiXzS7yBFN-T66xO1_4sCl_-ncHs9xAIG9tJFvDOJYgm_eDF6Z8PDl2f-H3kCPbrN3GH_d4aU_xkGDDnm_wdVz3y2meQdcf3ulcakraxS4Sk9yv8sHYrTtcOxmg8ii_Ps1h89weI9e4sunT3c1e_9mxcZgiPA-4fPNcsy9-FF0GO0XLgYgj6dr0kjwwb0xSeE9QF4ckeqc9lqcPHesQBhxIkGgldP5JiNVEHbpZMoVeNLg-94NspD8PnXyDsewvi5Rz7b1PQ69L290KTFrg1tVIjFlgm4_KR44Y6bl-KFhg5mb4jE_Zgg90ZEacB-6uu9sHx9frgmh5veB1sl0VWZZG4r6TF8yoSOIStS3CY3qNXMOIXyyKFQs46QG5J58Qp4TEPV_H6Oivx8cDLgjdvUQOKwb1tQ7BUITXo7Lf3hN3kOaYMqOoMW1NEkkECQzfZ7P80rKdXOv5r5VxgnHNBINt0CDUAwMqKwv8gO-jAUUVUCYri_nkL9w7zpLp53lBF3Gn-X-x1pw8D1qIzqkVKhQyF9u7MlAcdjyJa0oWQkzfKrygpp1C4VbK7qWUY_7aYS_quOUFTT_dWuLeFi0ec29VhLwylzh_MQOiMEJer7PN45d19f9Hi6gXkN66BoDb0jelFENNVWIjhRxTWBIk-vgvEedAwyHLTQin7WX9PZ6Ricyn49mzpVHlZzWk9N375o1lY-iZyNW5XPIPxaLxITVmwZwhzEY7adtduNQdSCfc8U7tkAXj5s4ZtW6xDeVkXngnAYJcaaJ1P-IOoF83sv9d-0OMEA9f6aPjpVI37WGg8VVYFouug\"/>"
      ],
      "text/plain": [
       "<IPython.core.display.Image object>"
      ]
     },
     "execution_count": 93,
     "metadata": {},
     "output_type": "execute_result"
    }
   ],
   "source": [
    "Image(url=burl)"
   ]
  },
  {
   "cell_type": "code",
   "execution_count": 206,
   "id": "443e6cf3-7bb1-47c8-a667-83408ae010e5",
   "metadata": {},
   "outputs": [],
   "source": [
    "img_embeddings = []\n",
    "img_captions = []\n",
    "img_ids = []"
   ]
  },
  {
   "cell_type": "code",
   "execution_count": 208,
   "id": "b909143a-ee80-45af-a49d-b17446d0cfe5",
   "metadata": {},
   "outputs": [],
   "source": [
    "i=1\n",
    "\n",
    "curr_id = media_items_df['id'].values[i]\n",
    "burl = media_items_df['baseUrl'].values[i]\n",
    "curr_desc = captioner(burl)\n",
    "curr_embedding = model.encode(cuur_desc).tolist()\n",
    "\n",
    "img_ids.append(curr_id)\n",
    "img_embeddings.append(curr_embedding[0])\n",
    "img_captions.append(curr_desc[0])"
   ]
  },
  {
   "cell_type": "code",
   "execution_count": 209,
   "id": "e19568de-9c55-4af0-a314-66e87ca52017",
   "metadata": {},
   "outputs": [
    {
     "data": {
      "text/plain": [
       "[{'generated_text': 'a family poses for a photo in front of a lake'}]"
      ]
     },
     "execution_count": 209,
     "metadata": {},
     "output_type": "execute_result"
    }
   ],
   "source": [
    "cuur_desc"
   ]
  },
  {
   "cell_type": "code",
   "execution_count": 210,
   "id": "f7a33752-0870-4067-a226-c67e179f2d41",
   "metadata": {},
   "outputs": [
    {
     "data": {
      "text/plain": [
       "'a family poses for a photo in front of a lake'"
      ]
     },
     "execution_count": 210,
     "metadata": {},
     "output_type": "execute_result"
    }
   ],
   "source": [
    "cuur_desc[0]['generated_text']"
   ]
  },
  {
   "cell_type": "code",
   "execution_count": 211,
   "id": "253da7c0-73d4-4086-b272-0202e8d95546",
   "metadata": {},
   "outputs": [],
   "source": [
    "df_photos = pd.DataFrame({'id': img_ids, 'vector': img_embeddings, 'metadata': img_captions})"
   ]
  },
  {
   "cell_type": "code",
   "execution_count": 212,
   "id": "e074efa4-e1c8-4264-8db2-4ed721dd3654",
   "metadata": {},
   "outputs": [
    {
     "data": {
      "text/html": [
       "<div>\n",
       "<style scoped>\n",
       "    .dataframe tbody tr th:only-of-type {\n",
       "        vertical-align: middle;\n",
       "    }\n",
       "\n",
       "    .dataframe tbody tr th {\n",
       "        vertical-align: top;\n",
       "    }\n",
       "\n",
       "    .dataframe thead th {\n",
       "        text-align: right;\n",
       "    }\n",
       "</style>\n",
       "<table border=\"1\" class=\"dataframe\">\n",
       "  <thead>\n",
       "    <tr style=\"text-align: right;\">\n",
       "      <th></th>\n",
       "      <th>id</th>\n",
       "      <th>vector</th>\n",
       "      <th>metadata</th>\n",
       "    </tr>\n",
       "  </thead>\n",
       "  <tbody>\n",
       "    <tr>\n",
       "      <th>0</th>\n",
       "      <td>ALuQekoEDdHn-4zJECI5IfbAr1UfwOmwa1LjKeLjMRD1h6...</td>\n",
       "      <td>[-0.054045457392930984, 0.10627054423093796, -...</td>\n",
       "      <td>{'generated_text': 'the screen of an iphone wi...</td>\n",
       "    </tr>\n",
       "    <tr>\n",
       "      <th>1</th>\n",
       "      <td>ALuQekrYsr8xfGeVKydlZ5BV-8oqNeg8DIj5ZruswgnG-4...</td>\n",
       "      <td>[-0.054045457392930984, 0.10627054423093796, -...</td>\n",
       "      <td>{'generated_text': 'a family poses for a photo...</td>\n",
       "    </tr>\n",
       "  </tbody>\n",
       "</table>\n",
       "</div>"
      ],
      "text/plain": [
       "                                                  id  \\\n",
       "0  ALuQekoEDdHn-4zJECI5IfbAr1UfwOmwa1LjKeLjMRD1h6...   \n",
       "1  ALuQekrYsr8xfGeVKydlZ5BV-8oqNeg8DIj5ZruswgnG-4...   \n",
       "\n",
       "                                              vector  \\\n",
       "0  [-0.054045457392930984, 0.10627054423093796, -...   \n",
       "1  [-0.054045457392930984, 0.10627054423093796, -...   \n",
       "\n",
       "                                            metadata  \n",
       "0  {'generated_text': 'the screen of an iphone wi...  \n",
       "1  {'generated_text': 'a family poses for a photo...  "
      ]
     },
     "execution_count": 212,
     "metadata": {},
     "output_type": "execute_result"
    }
   ],
   "source": [
    "df_photos.head()"
   ]
  },
  {
   "cell_type": "code",
   "execution_count": 191,
   "id": "eb58f75f-18dc-4aaa-92bc-543dd8cd77c3",
   "metadata": {},
   "outputs": [
    {
     "data": {
      "text/plain": [
       "384"
      ]
     },
     "execution_count": 191,
     "metadata": {},
     "output_type": "execute_result"
    }
   ],
   "source": [
    "len(df_photos['vector'].values[0])"
   ]
  },
  {
   "cell_type": "code",
   "execution_count": 192,
   "id": "a7353cc7-43fb-4644-97da-c34ac7410b9f",
   "metadata": {},
   "outputs": [
    {
     "data": {
      "text/plain": [
       "384"
      ]
     },
     "execution_count": 192,
     "metadata": {},
     "output_type": "execute_result"
    }
   ],
   "source": [
    "len(df_photos['vector'].values[1])"
   ]
  },
  {
   "cell_type": "code",
   "execution_count": 115,
   "id": "8105f273-35b3-45fe-9ab9-80ebc423ff29",
   "metadata": {},
   "outputs": [
    {
     "name": "stdout",
     "output_type": "stream",
     "text": [
      "0\n",
      "10\n",
      "20\n",
      "30\n",
      "40\n",
      "50\n",
      "60\n",
      "70\n",
      "80\n",
      "90\n",
      "100\n",
      "110\n",
      "120\n"
     ]
    }
   ],
   "source": [
    "photo_text_embeddings = []\n",
    "\n",
    "for i in range(0, 124):\n",
    "\n",
    "    if i % 20 == 0:\n",
    "        print(i)\n",
    "        \n",
    "    try:\n",
    "        curr_id = media_items_df['id'].values[i]\n",
    "        burl = media_items_df['baseUrl'].values[i]\n",
    "        curr_desc = captioner(burl)\n",
    "        curr_embedding = model.encode(cuur_desc).tolist()\n",
    "        \n",
    "        img_ids.append(curr_id)\n",
    "        img_embeddings.append(curr_embedding[0])\n",
    "        img_captions.append(curr_desc[0]['generated_text'])\n",
    "    except:\n",
    "        print(\"error - check if baseUrl has expired\")"
   ]
  },
  {
   "cell_type": "code",
   "execution_count": null,
   "id": "01946c0f-c256-418b-8053-f78aa920d13b",
   "metadata": {},
   "outputs": [],
   "source": [
    "# need to add id and join on that"
   ]
  },
  {
   "cell_type": "code",
   "execution_count": 213,
   "id": "bab0a0c4-8eb5-4a10-8d18-f3fcea4f1e7b",
   "metadata": {},
   "outputs": [
    {
     "name": "stdout",
     "output_type": "stream",
     "text": [
      "0\n"
     ]
    },
    {
     "name": "stderr",
     "output_type": "stream",
     "text": [
      "/Users/josh.poduska/Documents/google-photos-api/venv/lib/python3.11/site-packages/transformers/generation/utils.py:1260: UserWarning: Using the model-agnostic default `max_length` (=20) to control thegeneration length. We recommend setting `max_new_tokens` to control the maximum length of the generation.\n",
      "  warnings.warn(\n"
     ]
    },
    {
     "name": "stdout",
     "output_type": "stream",
     "text": [
      "20\n",
      "40\n",
      "60\n",
      "80\n",
      "100\n",
      "120\n"
     ]
    }
   ],
   "source": [
    "img_embeddings = []\n",
    "img_captions = []\n",
    "img_ids = []\n",
    "\n",
    "for i, burl in enumerate(media_items_df['baseUrl'].values):\n",
    "    \n",
    "    if i % 20 == 0:\n",
    "        print(i)\n",
    "        \n",
    "    try:\n",
    "        curr_id = media_items_df['id'].values[i]\n",
    "        # burl = media_items_df['baseUrl'].values[i]\n",
    "        curr_desc = captioner(burl)\n",
    "        curr_embedding = model.encode(curr_desc).tolist()\n",
    "        \n",
    "        img_ids.append(curr_id)\n",
    "        img_embeddings.append(curr_embedding[0])\n",
    "        img_captions.append(curr_desc[0])\n",
    "    except:\n",
    "        print(\"error - check if baseUrl has expired\")"
   ]
  },
  {
   "cell_type": "code",
   "execution_count": 214,
   "id": "7267c34d-886c-4d1a-9f40-de47ae09700a",
   "metadata": {},
   "outputs": [],
   "source": [
    "df_photos = pd.DataFrame({'id': img_ids, 'vector': img_embeddings, 'metadata': img_captions})"
   ]
  },
  {
   "cell_type": "code",
   "execution_count": 215,
   "id": "33be0a54-67b9-4f2d-93de-ca63baf37561",
   "metadata": {},
   "outputs": [
    {
     "data": {
      "text/html": [
       "<div>\n",
       "<style scoped>\n",
       "    .dataframe tbody tr th:only-of-type {\n",
       "        vertical-align: middle;\n",
       "    }\n",
       "\n",
       "    .dataframe tbody tr th {\n",
       "        vertical-align: top;\n",
       "    }\n",
       "\n",
       "    .dataframe thead th {\n",
       "        text-align: right;\n",
       "    }\n",
       "</style>\n",
       "<table border=\"1\" class=\"dataframe\">\n",
       "  <thead>\n",
       "    <tr style=\"text-align: right;\">\n",
       "      <th></th>\n",
       "      <th>id</th>\n",
       "      <th>vector</th>\n",
       "      <th>metadata</th>\n",
       "    </tr>\n",
       "  </thead>\n",
       "  <tbody>\n",
       "    <tr>\n",
       "      <th>0</th>\n",
       "      <td>ALuQekoEDdHn-4zJECI5IfbAr1UfwOmwa1LjKeLjMRD1h6...</td>\n",
       "      <td>[-0.0204818956553936, 0.023548683151602745, -0...</td>\n",
       "      <td>{'generated_text': 'the screen of an iphone wi...</td>\n",
       "    </tr>\n",
       "    <tr>\n",
       "      <th>1</th>\n",
       "      <td>ALuQekrYsr8xfGeVKydlZ5BV-8oqNeg8DIj5ZruswgnG-4...</td>\n",
       "      <td>[-0.054045457392930984, 0.10627054423093796, -...</td>\n",
       "      <td>{'generated_text': 'a family poses for a photo...</td>\n",
       "    </tr>\n",
       "    <tr>\n",
       "      <th>2</th>\n",
       "      <td>ALuQekqBrUHCLeojoVet8LNKs6avSCkvMFLJ-NqH6Ybcks...</td>\n",
       "      <td>[0.0678996816277504, 0.0504564493894577, -0.03...</td>\n",
       "      <td>{'generated_text': 'a white table with a white...</td>\n",
       "    </tr>\n",
       "    <tr>\n",
       "      <th>3</th>\n",
       "      <td>ALuQekq3jPhquGT-X6FbQ15ulkTMv8MjPeujfg24fgM8jn...</td>\n",
       "      <td>[0.08913969993591309, 0.04626549035310745, -0....</td>\n",
       "      <td>{'generated_text': 'a white chair with a white...</td>\n",
       "    </tr>\n",
       "    <tr>\n",
       "      <th>4</th>\n",
       "      <td>ALuQekrTVjjzq-DKEWbjNLafYgHe3kGlUmuj1snCznFOmP...</td>\n",
       "      <td>[0.05451503023505211, 0.07686479389667511, -0....</td>\n",
       "      <td>{'generated_text': 'a white table with a small...</td>\n",
       "    </tr>\n",
       "  </tbody>\n",
       "</table>\n",
       "</div>"
      ],
      "text/plain": [
       "                                                  id  \\\n",
       "0  ALuQekoEDdHn-4zJECI5IfbAr1UfwOmwa1LjKeLjMRD1h6...   \n",
       "1  ALuQekrYsr8xfGeVKydlZ5BV-8oqNeg8DIj5ZruswgnG-4...   \n",
       "2  ALuQekqBrUHCLeojoVet8LNKs6avSCkvMFLJ-NqH6Ybcks...   \n",
       "3  ALuQekq3jPhquGT-X6FbQ15ulkTMv8MjPeujfg24fgM8jn...   \n",
       "4  ALuQekrTVjjzq-DKEWbjNLafYgHe3kGlUmuj1snCznFOmP...   \n",
       "\n",
       "                                              vector  \\\n",
       "0  [-0.0204818956553936, 0.023548683151602745, -0...   \n",
       "1  [-0.054045457392930984, 0.10627054423093796, -...   \n",
       "2  [0.0678996816277504, 0.0504564493894577, -0.03...   \n",
       "3  [0.08913969993591309, 0.04626549035310745, -0....   \n",
       "4  [0.05451503023505211, 0.07686479389667511, -0....   \n",
       "\n",
       "                                            metadata  \n",
       "0  {'generated_text': 'the screen of an iphone wi...  \n",
       "1  {'generated_text': 'a family poses for a photo...  \n",
       "2  {'generated_text': 'a white table with a white...  \n",
       "3  {'generated_text': 'a white chair with a white...  \n",
       "4  {'generated_text': 'a white table with a small...  "
      ]
     },
     "execution_count": 215,
     "metadata": {},
     "output_type": "execute_result"
    }
   ],
   "source": [
    "df_photos.head()"
   ]
  },
  {
   "cell_type": "code",
   "execution_count": null,
   "id": "58af5863-e84e-4a98-a3dd-20e9fd8c89db",
   "metadata": {},
   "outputs": [],
   "source": []
  },
  {
   "cell_type": "code",
   "execution_count": 123,
   "id": "917d988b-57ba-4103-ad70-dd89d5253c64",
   "metadata": {
    "collapsed": true,
    "jupyter": {
     "outputs_hidden": true
    }
   },
   "outputs": [
    {
     "data": {
      "text/plain": [
       "[[-0.004581962712109089,\n",
       "  0.03833315148949623,\n",
       "  -0.04123671352863312,\n",
       "  0.020137326791882515,\n",
       "  0.02101903036236763,\n",
       "  -0.006221907213330269,\n",
       "  0.04698669910430908,\n",
       "  0.02405650168657303,\n",
       "  0.015456020832061768,\n",
       "  -0.01511353813111782,\n",
       "  -0.010907595045864582,\n",
       "  0.046116139739751816,\n",
       "  -0.029201287776231766,\n",
       "  0.04643044248223305,\n",
       "  -0.12793192267417908,\n",
       "  -0.04947017505764961,\n",
       "  -0.029048601165413857,\n",
       "  -0.0025624847039580345,\n",
       "  0.01839650608599186,\n",
       "  0.0646066889166832,\n",
       "  -0.05037425830960274,\n",
       "  0.03598065674304962,\n",
       "  0.021508673205971718,\n",
       "  0.002167824888601899,\n",
       "  -0.015951285138726234,\n",
       "  0.002699376782402396,\n",
       "  0.017799515277147293,\n",
       "  0.05165430158376694,\n",
       "  0.012363470159471035,\n",
       "  0.007538412231951952,\n",
       "  0.06206159293651581,\n",
       "  -0.06724042445421219,\n",
       "  -6.68509746901691e-05,\n",
       "  0.06279006600379944,\n",
       "  -0.002666343003511429,\n",
       "  -0.06036423519253731,\n",
       "  0.01500498317182064,\n",
       "  -0.02118362858891487,\n",
       "  0.05988442152738571,\n",
       "  -0.027908021584153175,\n",
       "  -0.04872701317071915,\n",
       "  -0.0048974971286952496,\n",
       "  0.00839138776063919,\n",
       "  0.1190161481499672,\n",
       "  0.023111453279852867,\n",
       "  0.07339122146368027,\n",
       "  0.05879659950733185,\n",
       "  -0.04993339255452156,\n",
       "  0.020416002720594406,\n",
       "  -0.07244136184453964,\n",
       "  0.06292995065450668,\n",
       "  -0.1275700181722641,\n",
       "  -0.013693799264729023,\n",
       "  0.011218365281820297,\n",
       "  -0.0039595658890903,\n",
       "  0.05594442039728165,\n",
       "  0.024631688371300697,\n",
       "  -0.043083883821964264,\n",
       "  0.054248563945293427,\n",
       "  -0.03752906247973442,\n",
       "  0.023352302610874176,\n",
       "  0.028095411136746407,\n",
       "  0.049904391169548035,\n",
       "  0.03803950920701027,\n",
       "  0.02747288905084133,\n",
       "  0.054682184010744095,\n",
       "  -0.053674545139074326,\n",
       "  -0.02040959522128105,\n",
       "  -0.02509881928563118,\n",
       "  -0.03927619010210037,\n",
       "  0.0656360536813736,\n",
       "  -0.017994103953242302,\n",
       "  0.016578834503889084,\n",
       "  -0.005341820884495974,\n",
       "  0.018319301307201385,\n",
       "  -0.06419970095157623,\n",
       "  -0.03271632269024849,\n",
       "  -0.03950973600149155,\n",
       "  0.06852986663579941,\n",
       "  0.044227104634046555,\n",
       "  -0.013580244034528732,\n",
       "  0.01831326261162758,\n",
       "  0.0018361177062615752,\n",
       "  0.03438277915120125,\n",
       "  -0.010246180929243565,\n",
       "  -0.02548064850270748,\n",
       "  0.017804883420467377,\n",
       "  0.04166116937994957,\n",
       "  -0.06481977552175522,\n",
       "  -0.058370478451251984,\n",
       "  0.00800210889428854,\n",
       "  0.06168437376618385,\n",
       "  -0.09574752300977707,\n",
       "  -0.010255045257508755,\n",
       "  -0.09254181385040283,\n",
       "  -0.06225669011473656,\n",
       "  0.02268059551715851,\n",
       "  0.03380944952368736,\n",
       "  0.0060494812205433846,\n",
       "  0.03530104085803032,\n",
       "  -0.04220337048172951,\n",
       "  0.04705594480037689,\n",
       "  0.12408711016178131,\n",
       "  -0.0166510958224535,\n",
       "  -0.05970141291618347,\n",
       "  -0.01973499357700348,\n",
       "  0.04050011932849884,\n",
       "  -0.10134796798229218,\n",
       "  -0.037844810634851456,\n",
       "  -0.06922588497400284,\n",
       "  -0.018255211412906647,\n",
       "  -0.034823641180992126,\n",
       "  -0.10160088539123535,\n",
       "  -0.018172787502408028,\n",
       "  -0.061156630516052246,\n",
       "  -0.05986650660634041,\n",
       "  0.03789134696125984,\n",
       "  -0.02134074829518795,\n",
       "  -0.03332186117768288,\n",
       "  -0.07925187051296234,\n",
       "  0.07765914499759674,\n",
       "  -0.007650311104953289,\n",
       "  0.02516573667526245,\n",
       "  0.016918757930397987,\n",
       "  -0.10970906168222427,\n",
       "  0.010749789886176586,\n",
       "  0.06817315518856049,\n",
       "  -2.887665606629283e-33,\n",
       "  -0.032226093113422394,\n",
       "  -0.037289611995220184,\n",
       "  -0.10286760330200195,\n",
       "  -0.02285012975335121,\n",
       "  0.0974941998720169,\n",
       "  -0.007660035975277424,\n",
       "  0.05835338309407234,\n",
       "  0.06937806308269501,\n",
       "  0.007469924166798592,\n",
       "  0.08196432888507843,\n",
       "  0.00509778643026948,\n",
       "  -0.047749850898981094,\n",
       "  -0.027631176635622978,\n",
       "  0.09348901361227036,\n",
       "  0.040003739297389984,\n",
       "  0.014233321882784367,\n",
       "  0.07130740582942963,\n",
       "  -0.023256000131368637,\n",
       "  -0.13165952265262604,\n",
       "  0.025246309116482735,\n",
       "  0.047001760452985764,\n",
       "  0.013665631413459778,\n",
       "  0.04461786523461342,\n",
       "  -0.03293312340974808,\n",
       "  0.006487877573817968,\n",
       "  0.04144202545285225,\n",
       "  -0.022943375632166862,\n",
       "  -0.020406413823366165,\n",
       "  0.08785737305879593,\n",
       "  0.007743430323898792,\n",
       "  0.002205939730629325,\n",
       "  -0.0042883846908807755,\n",
       "  -0.03811191767454147,\n",
       "  -0.026366686448454857,\n",
       "  -0.08395600318908691,\n",
       "  -0.010110112838447094,\n",
       "  -0.061136431992053986,\n",
       "  -0.060321129858493805,\n",
       "  0.07098869979381561,\n",
       "  -0.03179687634110451,\n",
       "  -0.07849773019552231,\n",
       "  0.04183288663625717,\n",
       "  0.062278442084789276,\n",
       "  0.04257098212838173,\n",
       "  0.0314493365585804,\n",
       "  0.03437051549553871,\n",
       "  0.04345633089542389,\n",
       "  0.039847664535045624,\n",
       "  0.029685214161872864,\n",
       "  -0.05489448457956314,\n",
       "  -0.061849940568208694,\n",
       "  -0.04833927005529404,\n",
       "  0.013072524219751358,\n",
       "  0.02244604378938675,\n",
       "  -0.0020184600725769997,\n",
       "  -0.09645504504442215,\n",
       "  0.02061951905488968,\n",
       "  0.03798555210232735,\n",
       "  0.05687519907951355,\n",
       "  0.005328810308128595,\n",
       "  -0.013387554325163364,\n",
       "  0.02103431150317192,\n",
       "  -0.09146057814359665,\n",
       "  0.020309891551733017,\n",
       "  0.0516890324652195,\n",
       "  0.026348279789090157,\n",
       "  -0.03503236547112465,\n",
       "  0.017962347716093063,\n",
       "  0.06249772757291794,\n",
       "  -0.10860121995210648,\n",
       "  0.04585941880941391,\n",
       "  -0.07442221790552139,\n",
       "  0.006990585941821337,\n",
       "  -0.019160766154527664,\n",
       "  -0.08825155347585678,\n",
       "  0.023022932931780815,\n",
       "  -0.02046949416399002,\n",
       "  -0.1101054698228836,\n",
       "  -0.06545593589544296,\n",
       "  -0.04082965850830078,\n",
       "  -0.07982966303825378,\n",
       "  -0.026929771527647972,\n",
       "  0.039850134402513504,\n",
       "  -0.0324888713657856,\n",
       "  0.010425141081213951,\n",
       "  0.08641842752695084,\n",
       "  0.03760160878300667,\n",
       "  -0.028353743255138397,\n",
       "  -0.0020495050121098757,\n",
       "  0.052247948944568634,\n",
       "  -0.08069463819265366,\n",
       "  0.005677958019077778,\n",
       "  0.06853172183036804,\n",
       "  -0.00674947677180171,\n",
       "  0.009900197386741638,\n",
       "  -2.748340460122308e-34,\n",
       "  0.022221388295292854,\n",
       "  -0.09560463577508926,\n",
       "  -0.04438135027885437,\n",
       "  -0.024088667705655098,\n",
       "  0.02881101705133915,\n",
       "  -0.018802620470523834,\n",
       "  0.039252862334251404,\n",
       "  -0.05194634199142456,\n",
       "  -0.02523653395473957,\n",
       "  0.025156108662486076,\n",
       "  0.013741862028837204,\n",
       "  -0.03230204060673714,\n",
       "  -0.019856642931699753,\n",
       "  0.053250137716531754,\n",
       "  0.07144883275032043,\n",
       "  0.06310520321130753,\n",
       "  -0.05050193518400192,\n",
       "  0.1106710433959961,\n",
       "  0.0023287651129066944,\n",
       "  -0.026359889656305313,\n",
       "  0.02943854033946991,\n",
       "  0.0635937750339508,\n",
       "  -0.019939320161938667,\n",
       "  0.06611538678407669,\n",
       "  0.06036776676774025,\n",
       "  0.027360297739505768,\n",
       "  0.026143459603190422,\n",
       "  -0.07987961918115616,\n",
       "  -0.0049639251083135605,\n",
       "  0.04816058278083801,\n",
       "  -0.13419359922409058,\n",
       "  -0.054486196488142014,\n",
       "  0.08887725323438644,\n",
       "  0.05258369818329811,\n",
       "  0.006612652447074652,\n",
       "  -0.008269892074167728,\n",
       "  0.03324572741985321,\n",
       "  -0.05183003097772598,\n",
       "  -0.03905525058507919,\n",
       "  0.00466318242251873,\n",
       "  0.07861772179603577,\n",
       "  0.041570376604795456,\n",
       "  -0.03617464005947113,\n",
       "  0.0347091481089592,\n",
       "  -0.022087324410676956,\n",
       "  -0.011765805073082447,\n",
       "  -0.12873251736164093,\n",
       "  0.06835105270147324,\n",
       "  0.038955241441726685,\n",
       "  -0.048080869019031525,\n",
       "  0.0606970489025116,\n",
       "  -0.008488145656883717,\n",
       "  0.03815056383609772,\n",
       "  -0.07920917123556137,\n",
       "  0.043918952345848083,\n",
       "  0.05351635068655014,\n",
       "  -0.05739210918545723,\n",
       "  -0.0571785494685173,\n",
       "  0.10029027611017227,\n",
       "  -0.041085537523031235,\n",
       "  0.011779092252254486,\n",
       "  -0.038725048303604126,\n",
       "  -0.032344941049814224,\n",
       "  0.01212887279689312,\n",
       "  0.06312025338411331,\n",
       "  0.042659882456064224,\n",
       "  -0.005281324964016676,\n",
       "  0.013674461282789707,\n",
       "  -0.028855077922344208,\n",
       "  -0.07038047909736633,\n",
       "  -0.004044705536216497,\n",
       "  0.04290297254920006,\n",
       "  -0.015939077362418175,\n",
       "  0.006993066985160112,\n",
       "  0.029210729524493217,\n",
       "  0.06690342724323273,\n",
       "  0.022317979484796524,\n",
       "  -0.06533380597829819,\n",
       "  0.021488705649971962,\n",
       "  0.00813495833426714,\n",
       "  -0.0699240118265152,\n",
       "  -0.002371750073507428,\n",
       "  0.01290402002632618,\n",
       "  -0.027024291455745697,\n",
       "  0.024490978568792343,\n",
       "  -0.032667212188243866,\n",
       "  -0.0672580748796463,\n",
       "  -0.009667593985795975,\n",
       "  -0.09140998870134354,\n",
       "  -0.1224350854754448,\n",
       "  0.021749267354607582,\n",
       "  0.04160541668534279,\n",
       "  -0.0026392461732029915,\n",
       "  0.0024995049461722374,\n",
       "  0.019246481359004974,\n",
       "  -1.603192245624996e-08,\n",
       "  -0.002269444754347205,\n",
       "  -0.006407829932868481,\n",
       "  0.010745935142040253,\n",
       "  -0.09392162412405014,\n",
       "  -0.0018638147739693522,\n",
       "  -0.11684670299291611,\n",
       "  0.14448101818561554,\n",
       "  -0.048131704330444336,\n",
       "  0.007217005360871553,\n",
       "  -0.03923330456018448,\n",
       "  -0.028857184574007988,\n",
       "  0.01823320984840393,\n",
       "  -0.009342091158032417,\n",
       "  0.056773263961076736,\n",
       "  0.004837841261178255,\n",
       "  0.05153632164001465,\n",
       "  -0.08141855895519257,\n",
       "  0.07092362642288208,\n",
       "  -0.02200092375278473,\n",
       "  -0.06763092428445816,\n",
       "  0.08851678669452667,\n",
       "  -0.00944604817777872,\n",
       "  0.05123085901141167,\n",
       "  0.001264070742763579,\n",
       "  -0.07262662798166275,\n",
       "  -0.00831632874906063,\n",
       "  0.03701973333954811,\n",
       "  0.1579570770263672,\n",
       "  0.03671879693865776,\n",
       "  0.03257683664560318,\n",
       "  0.06682322919368744,\n",
       "  -0.008543268777430058,\n",
       "  0.015020538121461868,\n",
       "  -0.03310547396540642,\n",
       "  0.10664928704500198,\n",
       "  0.028467334806919098,\n",
       "  -0.08594921976327896,\n",
       "  0.05554940178990364,\n",
       "  -0.042710136622190475,\n",
       "  0.002211200539022684,\n",
       "  -0.06595034152269363,\n",
       "  -0.11033698171377182,\n",
       "  -0.01461890060454607,\n",
       "  0.032014477998018265,\n",
       "  -0.0016719058621674776,\n",
       "  -0.06987845152616501,\n",
       "  0.010701372288167477,\n",
       "  0.07441572099924088,\n",
       "  -0.02032839134335518,\n",
       "  0.010434172116219997,\n",
       "  0.08324000984430313,\n",
       "  -0.013319321908056736,\n",
       "  0.0350019596517086,\n",
       "  0.025049209594726562,\n",
       "  -0.0525587759912014,\n",
       "  -0.018663611263036728,\n",
       "  0.04419625923037529,\n",
       "  0.002495031338185072,\n",
       "  -0.04751662164926529,\n",
       "  -0.04144508019089699,\n",
       "  0.07883640378713608,\n",
       "  -0.007831204682588577,\n",
       "  0.006557070650160313,\n",
       "  0.024743331596255302]]"
      ]
     },
     "execution_count": 123,
     "metadata": {},
     "output_type": "execute_result"
    }
   ],
   "source": [
    "photo_text_embeddings[5]"
   ]
  },
  {
   "cell_type": "code",
   "execution_count": 124,
   "id": "e17ebffc-da18-42b5-bd76-ae261fbf75b2",
   "metadata": {},
   "outputs": [
    {
     "data": {
      "text/plain": [
       "125"
      ]
     },
     "execution_count": 124,
     "metadata": {},
     "output_type": "execute_result"
    }
   ],
   "source": [
    "len(photo_text_embeddings)"
   ]
  },
  {
   "cell_type": "code",
   "execution_count": 119,
   "id": "f565e6c7-4efc-4750-b818-635d827c73a7",
   "metadata": {},
   "outputs": [
    {
     "ename": "IndexError",
     "evalue": "index 125 is out of bounds for axis 0 with size 125",
     "output_type": "error",
     "traceback": [
      "\u001b[0;31m---------------------------------------------------------------------------\u001b[0m",
      "\u001b[0;31mIndexError\u001b[0m                                Traceback (most recent call last)",
      "Cell \u001b[0;32mIn[119], line 1\u001b[0m\n\u001b[0;32m----> 1\u001b[0m \u001b[43mmedia_items_df\u001b[49m\u001b[43m[\u001b[49m\u001b[38;5;124;43m'\u001b[39;49m\u001b[38;5;124;43mbaseUrl\u001b[39;49m\u001b[38;5;124;43m'\u001b[39;49m\u001b[43m]\u001b[49m\u001b[38;5;241;43m.\u001b[39;49m\u001b[43mvalues\u001b[49m\u001b[43m[\u001b[49m\u001b[38;5;241;43m125\u001b[39;49m\u001b[43m]\u001b[49m\n",
      "\u001b[0;31mIndexError\u001b[0m: index 125 is out of bounds for axis 0 with size 125"
     ]
    }
   ],
   "source": [
    "media_items_df['baseUrl'].values[125]"
   ]
  },
  {
   "cell_type": "code",
   "execution_count": 125,
   "id": "112d96a1-3f52-4fa3-bbdc-4c6836d1e91f",
   "metadata": {},
   "outputs": [],
   "source": [
    "media_items_df['vector'] = photo_text_embeddings"
   ]
  },
  {
   "cell_type": "code",
   "execution_count": 126,
   "id": "f7ea8e84-4be5-4331-8b22-118ec39bb286",
   "metadata": {},
   "outputs": [
    {
     "data": {
      "text/html": [
       "<div>\n",
       "<style scoped>\n",
       "    .dataframe tbody tr th:only-of-type {\n",
       "        vertical-align: middle;\n",
       "    }\n",
       "\n",
       "    .dataframe tbody tr th {\n",
       "        vertical-align: top;\n",
       "    }\n",
       "\n",
       "    .dataframe thead th {\n",
       "        text-align: right;\n",
       "    }\n",
       "</style>\n",
       "<table border=\"1\" class=\"dataframe\">\n",
       "  <thead>\n",
       "    <tr style=\"text-align: right;\">\n",
       "      <th></th>\n",
       "      <th>id</th>\n",
       "      <th>baseUrl</th>\n",
       "      <th>vector</th>\n",
       "    </tr>\n",
       "  </thead>\n",
       "  <tbody>\n",
       "    <tr>\n",
       "      <th>0</th>\n",
       "      <td>ALuQekoEDdHn-4zJECI5IfbAr1UfwOmwa1LjKeLjMRD1h6...</td>\n",
       "      <td>https://lh3.googleusercontent.com/lr/AAJ1LKdZK...</td>\n",
       "      <td>[[-0.0204818956553936, 0.023548683151602745, -...</td>\n",
       "    </tr>\n",
       "    <tr>\n",
       "      <th>1</th>\n",
       "      <td>ALuQekrYsr8xfGeVKydlZ5BV-8oqNeg8DIj5ZruswgnG-4...</td>\n",
       "      <td>https://lh3.googleusercontent.com/lr/AAJ1LKfJ5...</td>\n",
       "      <td>[[-0.054045457392930984, 0.10627054423093796, ...</td>\n",
       "    </tr>\n",
       "    <tr>\n",
       "      <th>2</th>\n",
       "      <td>ALuQekqBrUHCLeojoVet8LNKs6avSCkvMFLJ-NqH6Ybcks...</td>\n",
       "      <td>https://lh3.googleusercontent.com/lr/AAJ1LKfwY...</td>\n",
       "      <td>[[0.0678996816277504, 0.0504564493894577, -0.0...</td>\n",
       "    </tr>\n",
       "    <tr>\n",
       "      <th>3</th>\n",
       "      <td>ALuQekq3jPhquGT-X6FbQ15ulkTMv8MjPeujfg24fgM8jn...</td>\n",
       "      <td>https://lh3.googleusercontent.com/lr/AAJ1LKemm...</td>\n",
       "      <td>[[0.08913969993591309, 0.04626549035310745, -0...</td>\n",
       "    </tr>\n",
       "    <tr>\n",
       "      <th>4</th>\n",
       "      <td>ALuQekrTVjjzq-DKEWbjNLafYgHe3kGlUmuj1snCznFOmP...</td>\n",
       "      <td>https://lh3.googleusercontent.com/lr/AAJ1LKdjN...</td>\n",
       "      <td>[[0.05451503023505211, 0.07686479389667511, -0...</td>\n",
       "    </tr>\n",
       "  </tbody>\n",
       "</table>\n",
       "</div>"
      ],
      "text/plain": [
       "                                                  id  \\\n",
       "0  ALuQekoEDdHn-4zJECI5IfbAr1UfwOmwa1LjKeLjMRD1h6...   \n",
       "1  ALuQekrYsr8xfGeVKydlZ5BV-8oqNeg8DIj5ZruswgnG-4...   \n",
       "2  ALuQekqBrUHCLeojoVet8LNKs6avSCkvMFLJ-NqH6Ybcks...   \n",
       "3  ALuQekq3jPhquGT-X6FbQ15ulkTMv8MjPeujfg24fgM8jn...   \n",
       "4  ALuQekrTVjjzq-DKEWbjNLafYgHe3kGlUmuj1snCznFOmP...   \n",
       "\n",
       "                                             baseUrl  \\\n",
       "0  https://lh3.googleusercontent.com/lr/AAJ1LKdZK...   \n",
       "1  https://lh3.googleusercontent.com/lr/AAJ1LKfJ5...   \n",
       "2  https://lh3.googleusercontent.com/lr/AAJ1LKfwY...   \n",
       "3  https://lh3.googleusercontent.com/lr/AAJ1LKemm...   \n",
       "4  https://lh3.googleusercontent.com/lr/AAJ1LKdjN...   \n",
       "\n",
       "                                              vector  \n",
       "0  [[-0.0204818956553936, 0.023548683151602745, -...  \n",
       "1  [[-0.054045457392930984, 0.10627054423093796, ...  \n",
       "2  [[0.0678996816277504, 0.0504564493894577, -0.0...  \n",
       "3  [[0.08913969993591309, 0.04626549035310745, -0...  \n",
       "4  [[0.05451503023505211, 0.07686479389667511, -0...  "
      ]
     },
     "execution_count": 126,
     "metadata": {},
     "output_type": "execute_result"
    }
   ],
   "source": [
    "media_items_df.head()"
   ]
  },
  {
   "cell_type": "code",
   "execution_count": null,
   "id": "ac6e2e61-9d64-474f-8056-88e6d7e72b94",
   "metadata": {},
   "outputs": [],
   "source": [
    "query = \"a group of people\""
   ]
  },
  {
   "cell_type": "code",
   "execution_count": null,
   "id": "a0b92791-5061-4b09-995f-863d72765f6a",
   "metadata": {},
   "outputs": [],
   "source": []
  },
  {
   "cell_type": "code",
   "execution_count": null,
   "id": "1abd31ef-85ef-41bc-a9be-718f20193c08",
   "metadata": {},
   "outputs": [],
   "source": []
  },
  {
   "cell_type": "code",
   "execution_count": 127,
   "id": "c8175266-24bb-42e4-87d6-b0dc60c6a0bd",
   "metadata": {},
   "outputs": [],
   "source": [
    "from tqdm.autonotebook import tqdm"
   ]
  },
  {
   "cell_type": "code",
   "execution_count": 128,
   "id": "14c4d2ef-b74f-4eba-8637-b596d6c8d655",
   "metadata": {
    "colab": {
     "base_uri": "https://localhost:8080/"
    },
    "id": "labeled-specialist",
    "outputId": "7d75712c-5f8b-45fd-f743-bdd50896e252",
    "papermill": {
     "duration": 0.344059,
     "end_time": "2021-04-16T15:08:49.297021",
     "exception": false,
     "start_time": "2021-04-16T15:08:48.952962",
     "status": "completed"
    },
    "tags": []
   },
   "outputs": [],
   "source": [
    "import os\n",
    "import pinecone\n",
    "\n",
    "# get api key from app.pinecone.io\n",
    "api_key = os.environ.get('PINECONE_API_KEY') or '92aa97f0-517d-4fc9-9a76-ff5366ba13e6'\n",
    "# find your environment next to the api key in pinecone console\n",
    "env = os.environ.get('PINECONE_ENVIRONMENT') or 'gcp-starter'\n",
    "\n",
    "pinecone.init(\n",
    "    api_key=api_key,\n",
    "    environment=env\n",
    ")"
   ]
  },
  {
   "cell_type": "markdown",
   "id": "c98edfef-b7c1-4428-a6c4-8ec807b5c5fc",
   "metadata": {
    "id": "forbidden-indication",
    "papermill": {
     "duration": 0.020515,
     "end_time": "2021-04-16T15:08:49.925687",
     "exception": false,
     "start_time": "2021-04-16T15:08:49.905172",
     "status": "completed"
    },
    "tags": []
   },
   "source": [
    "## Pinecone quickstart\n",
    "\n",
    "With Pinecone you can create a vector index where you can store and search through your vectors."
   ]
  },
  {
   "cell_type": "code",
   "execution_count": 194,
   "id": "fd90bff8-ce27-43c9-a939-e5d39c50c66a",
   "metadata": {
    "id": "EA2EcZsCoWS3",
    "tags": [
     "parameters"
    ]
   },
   "outputs": [],
   "source": [
    "# Giving our index a name\n",
    "index_name = \"photo-captions\""
   ]
  },
  {
   "cell_type": "code",
   "execution_count": 216,
   "id": "cdb7c112-27d5-4971-993b-6cfba804237f",
   "metadata": {
    "id": "synthetic-essex",
    "papermill": {
     "duration": 0.446682,
     "end_time": "2021-04-16T15:08:50.393195",
     "exception": false,
     "start_time": "2021-04-16T15:08:49.946513",
     "status": "completed"
    },
    "tags": []
   },
   "outputs": [],
   "source": [
    "# Delete the index, if an index of the same name already exists\n",
    "if index_name in pinecone.list_indexes():\n",
    "    pinecone.delete_index(index_name)"
   ]
  },
  {
   "cell_type": "markdown",
   "id": "5ae81520-8b83-42be-8ffc-d340444cb6b9",
   "metadata": {
    "id": "94LRI2H8Ch2B",
    "papermill": {
     "duration": 0.021764,
     "end_time": "2021-04-16T15:08:50.446400",
     "exception": false,
     "start_time": "2021-04-16T15:08:50.424636",
     "status": "completed"
    },
    "tags": []
   },
   "source": [
    "Creating a Pinecone Index."
   ]
  },
  {
   "cell_type": "code",
   "execution_count": 217,
   "id": "0ca6c530-9385-4f21-ad02-d91c42e12c75",
   "metadata": {
    "id": "4YwC8livCrn2",
    "papermill": {
     "duration": 13.756687,
     "end_time": "2021-04-16T15:09:04.224466",
     "exception": false,
     "start_time": "2021-04-16T15:08:50.467779",
     "status": "completed"
    },
    "tags": []
   },
   "outputs": [],
   "source": [
    "import time\n",
    "\n",
    "dimensions = 384\n",
    "pinecone.create_index(name=index_name, dimension=dimensions, metric=\"cosine\")\n",
    "\n",
    "# wait for index to be ready before connecting\n",
    "while not pinecone.describe_index(index_name).status['ready']:\n",
    "    time.sleep(1)"
   ]
  },
  {
   "cell_type": "code",
   "execution_count": 218,
   "id": "89d9a9e2-1013-4fd6-92b7-29fdd1baeefb",
   "metadata": {
    "id": "toy-VhU4LO_O",
    "papermill": {
     "duration": 0.846255,
     "end_time": "2021-04-16T15:09:05.097384",
     "exception": false,
     "start_time": "2021-04-16T15:09:04.251129",
     "status": "completed"
    },
    "tags": []
   },
   "outputs": [],
   "source": [
    "index = pinecone.Index(index_name=index_name)"
   ]
  },
  {
   "cell_type": "markdown",
   "id": "3e4c974b-27ff-4c42-b79c-63434fb4f889",
   "metadata": {
    "id": "j1F8SLx6C2HH",
    "papermill": {
     "duration": 0.023037,
     "end_time": "2021-04-16T15:09:05.153116",
     "exception": false,
     "start_time": "2021-04-16T15:09:05.130079",
     "status": "completed"
    },
    "tags": []
   },
   "source": [
    "We have the index ready. Now we will create some simple vectors that will serve as our examples."
   ]
  },
  {
   "cell_type": "code",
   "execution_count": 14,
   "id": "38d07c28-2c2c-4860-9ad5-5117b4c615ed",
   "metadata": {
    "colab": {
     "base_uri": "https://localhost:8080/",
     "height": 112
    },
    "id": "indirect-lafayette",
    "outputId": "5bd49b0e-0187-4de2-e564-1d41c61b7bc9",
    "papermill": {
     "duration": 0.227373,
     "end_time": "2021-04-16T15:09:05.404700",
     "exception": false,
     "start_time": "2021-04-16T15:09:05.177327",
     "status": "completed"
    },
    "tags": []
   },
   "outputs": [
    {
     "data": {
      "text/html": [
       "<div>\n",
       "<style scoped>\n",
       "    .dataframe tbody tr th:only-of-type {\n",
       "        vertical-align: middle;\n",
       "    }\n",
       "\n",
       "    .dataframe tbody tr th {\n",
       "        vertical-align: top;\n",
       "    }\n",
       "\n",
       "    .dataframe thead th {\n",
       "        text-align: right;\n",
       "    }\n",
       "</style>\n",
       "<table border=\"1\" class=\"dataframe\">\n",
       "  <thead>\n",
       "    <tr style=\"text-align: right;\">\n",
       "      <th></th>\n",
       "      <th>id</th>\n",
       "      <th>vector</th>\n",
       "    </tr>\n",
       "  </thead>\n",
       "  <tbody>\n",
       "    <tr>\n",
       "      <th>0</th>\n",
       "      <td>A</td>\n",
       "      <td>[1.0, 1.0, 1.0]</td>\n",
       "    </tr>\n",
       "    <tr>\n",
       "      <th>1</th>\n",
       "      <td>B</td>\n",
       "      <td>[1.0, 2.0, 3.0]</td>\n",
       "    </tr>\n",
       "  </tbody>\n",
       "</table>\n",
       "</div>"
      ],
      "text/plain": [
       "  id           vector\n",
       "0  A  [1.0, 1.0, 1.0]\n",
       "1  B  [1.0, 2.0, 3.0]"
      ]
     },
     "execution_count": 14,
     "metadata": {},
     "output_type": "execute_result"
    }
   ],
   "source": [
    "import pandas as pd\n",
    "\n",
    "df = pd.DataFrame(\n",
    "    data={\n",
    "        \"id\": [\"A\", \"B\"],\n",
    "        \"vector\": [[1., 1., 1.], [1., 2., 3.]]\n",
    "    })\n",
    "df"
   ]
  },
  {
   "cell_type": "markdown",
   "id": "e66c0bef-89e3-4287-b478-987057aa0671",
   "metadata": {
    "id": "oiJKXWxoDjhK",
    "papermill": {
     "duration": 0.022968,
     "end_time": "2021-04-16T15:09:05.452054",
     "exception": false,
     "start_time": "2021-04-16T15:09:05.429086",
     "status": "completed"
    },
    "tags": []
   },
   "source": [
    "We perform upsert operations in our index. This call will insert a new vector in the index or update the vector if the id was already present."
   ]
  },
  {
   "cell_type": "code",
   "execution_count": 147,
   "id": "c5a31a30-561d-4f67-b055-94a53fde2354",
   "metadata": {
    "collapsed": true,
    "jupyter": {
     "outputs_hidden": true
    }
   },
   "outputs": [
    {
     "data": {
      "text/plain": [
       "[[-0.0204818956553936,\n",
       "  0.023548683151602745,\n",
       "  -0.002598338993266225,\n",
       "  -0.029125355184078217,\n",
       "  -0.0038704872131347656,\n",
       "  0.02392740547657013,\n",
       "  0.11689343303442001,\n",
       "  -0.033136360347270966,\n",
       "  0.1108851209282875,\n",
       "  -0.021046768873929977,\n",
       "  0.046867355704307556,\n",
       "  -0.01735985465347767,\n",
       "  -0.004366870038211346,\n",
       "  0.08870325982570648,\n",
       "  -0.07061111181974411,\n",
       "  -0.0069025177508592606,\n",
       "  0.04073983430862427,\n",
       "  -0.05004548281431198,\n",
       "  -0.0206398107111454,\n",
       "  -0.046784475445747375,\n",
       "  0.011543376371264458,\n",
       "  -0.025495845824480057,\n",
       "  -0.04136347770690918,\n",
       "  0.019378401339054108,\n",
       "  0.02807827666401863,\n",
       "  0.02904965914785862,\n",
       "  0.010969056747853756,\n",
       "  0.02586389146745205,\n",
       "  -0.01783178560435772,\n",
       "  -0.03265797346830368,\n",
       "  0.011839455924928188,\n",
       "  -0.027233440428972244,\n",
       "  0.065559521317482,\n",
       "  0.042730189859867096,\n",
       "  -0.05932000279426575,\n",
       "  -0.09831086546182632,\n",
       "  0.060314446687698364,\n",
       "  0.043204415589571,\n",
       "  0.0308705922216177,\n",
       "  -0.03141875937581062,\n",
       "  -0.009052530862390995,\n",
       "  -0.003298098687082529,\n",
       "  0.05498095974326134,\n",
       "  0.02564532309770584,\n",
       "  -0.0076873162761330605,\n",
       "  0.034552283585071564,\n",
       "  0.021657384932041168,\n",
       "  0.058856092393398285,\n",
       "  0.017855094745755196,\n",
       "  -0.01480351947247982,\n",
       "  0.052308812737464905,\n",
       "  -0.07621689885854721,\n",
       "  0.0029961857944726944,\n",
       "  0.04274678975343704,\n",
       "  0.020191088318824768,\n",
       "  0.011723569594323635,\n",
       "  0.021496085450053215,\n",
       "  0.028214488178491592,\n",
       "  0.03217587247490883,\n",
       "  0.032253626734018326,\n",
       "  0.042012978345155716,\n",
       "  0.03144703432917595,\n",
       "  0.04895351827144623,\n",
       "  0.059693463146686554,\n",
       "  0.03242792561650276,\n",
       "  -0.06099938601255417,\n",
       "  -0.021253565326333046,\n",
       "  -0.026896527037024498,\n",
       "  0.0182933546602726,\n",
       "  -0.05855254456400871,\n",
       "  0.009776104241609573,\n",
       "  -0.01304919458925724,\n",
       "  0.043303780257701874,\n",
       "  -0.08387567102909088,\n",
       "  0.0625867024064064,\n",
       "  0.010190819390118122,\n",
       "  0.010140247642993927,\n",
       "  -0.07131525129079819,\n",
       "  -0.1181717962026596,\n",
       "  0.002434276510030031,\n",
       "  -0.018518643453717232,\n",
       "  0.05360828712582588,\n",
       "  0.05112851783633232,\n",
       "  -0.045203324407339096,\n",
       "  0.02607359178364277,\n",
       "  -0.05919589474797249,\n",
       "  0.03011895902454853,\n",
       "  0.029708413407206535,\n",
       "  -0.032251764088869095,\n",
       "  0.012109797447919846,\n",
       "  -0.06422156095504761,\n",
       "  0.029912060126662254,\n",
       "  -0.11150774359703064,\n",
       "  0.005682765040546656,\n",
       "  -0.12127233296632767,\n",
       "  -0.01927681639790535,\n",
       "  -0.026683000847697258,\n",
       "  -0.07490271329879761,\n",
       "  0.00496305339038372,\n",
       "  0.04893672838807106,\n",
       "  0.06273782253265381,\n",
       "  -0.033015765249729156,\n",
       "  0.059127356857061386,\n",
       "  0.08404844999313354,\n",
       "  0.054315920919179916,\n",
       "  -0.054823119193315506,\n",
       "  -0.09920605272054672,\n",
       "  -0.007693946827203035,\n",
       "  0.007396060507744551,\n",
       "  0.08050672709941864,\n",
       "  -0.04118462651968002,\n",
       "  -0.04507759213447571,\n",
       "  -0.010925197042524815,\n",
       "  0.02922147884964943,\n",
       "  0.020284496247768402,\n",
       "  -0.048995088785886765,\n",
       "  -0.0034881900064647198,\n",
       "  0.06617515534162521,\n",
       "  0.1012343242764473,\n",
       "  -0.07344359159469604,\n",
       "  0.04348285496234894,\n",
       "  -0.05416020378470421,\n",
       "  -0.07910454273223877,\n",
       "  -0.009912818670272827,\n",
       "  -0.0038316878490149975,\n",
       "  0.04552706331014633,\n",
       "  -0.01303779985755682,\n",
       "  -5.483565801202797e-33,\n",
       "  -0.009608659893274307,\n",
       "  0.04669470340013504,\n",
       "  -0.05361755192279816,\n",
       "  0.028004471212625504,\n",
       "  0.029645441100001335,\n",
       "  -0.017122793942689896,\n",
       "  0.06320949643850327,\n",
       "  -0.02417634427547455,\n",
       "  0.04469846189022064,\n",
       "  -0.03725884482264519,\n",
       "  0.006674348376691341,\n",
       "  -0.011264035478234291,\n",
       "  0.030530288815498352,\n",
       "  -0.03865842521190643,\n",
       "  0.05283776670694351,\n",
       "  -0.09607210010290146,\n",
       "  0.0030510849319398403,\n",
       "  0.013170118443667889,\n",
       "  -0.05628474801778793,\n",
       "  -0.05663922429084778,\n",
       "  -0.06885223090648651,\n",
       "  -0.05550319328904152,\n",
       "  -0.08583270758390427,\n",
       "  0.027242695912718773,\n",
       "  0.06644567102193832,\n",
       "  0.007064484059810638,\n",
       "  0.10672856122255325,\n",
       "  0.019762853160500526,\n",
       "  -0.07136869430541992,\n",
       "  -0.0035418039187788963,\n",
       "  0.024657737463712692,\n",
       "  0.053019698709249496,\n",
       "  0.08726842701435089,\n",
       "  -0.0664147138595581,\n",
       "  -0.008723811246454716,\n",
       "  -0.04243654012680054,\n",
       "  0.009093070402741432,\n",
       "  -0.003718071384355426,\n",
       "  0.06753557920455933,\n",
       "  -0.010250586085021496,\n",
       "  -0.05393068864941597,\n",
       "  -0.055397819727659225,\n",
       "  -0.02377002313733101,\n",
       "  -0.01480567455291748,\n",
       "  0.015066567808389664,\n",
       "  0.07592600584030151,\n",
       "  0.0017807668773457408,\n",
       "  0.05072488263249397,\n",
       "  0.02217848040163517,\n",
       "  -0.06423147767782211,\n",
       "  0.03186507523059845,\n",
       "  -0.13673923909664154,\n",
       "  0.043747492134571075,\n",
       "  -0.06391838937997818,\n",
       "  -0.07352067530155182,\n",
       "  0.05332603678107262,\n",
       "  -0.008230466395616531,\n",
       "  -0.02257082611322403,\n",
       "  -0.029459357261657715,\n",
       "  2.7620983019005507e-05,\n",
       "  -0.0845533087849617,\n",
       "  -0.01711711660027504,\n",
       "  -0.028953716158866882,\n",
       "  -0.06055059656500816,\n",
       "  -0.006620923988521099,\n",
       "  0.05868956819176674,\n",
       "  -0.02340792678296566,\n",
       "  0.055322032421827316,\n",
       "  0.009419110603630543,\n",
       "  0.06432243436574936,\n",
       "  -0.04997367784380913,\n",
       "  0.08632456511259079,\n",
       "  0.06473443657159805,\n",
       "  0.07347708195447922,\n",
       "  -0.057772960513830185,\n",
       "  0.055808503180742264,\n",
       "  0.02485952526330948,\n",
       "  -0.029269855469465256,\n",
       "  -0.028621099889278412,\n",
       "  0.003997384570538998,\n",
       "  0.027800774201750755,\n",
       "  0.009126690216362476,\n",
       "  0.0728381872177124,\n",
       "  -0.03244796395301819,\n",
       "  0.06152268871665001,\n",
       "  -0.05727468430995941,\n",
       "  -0.07079822570085526,\n",
       "  -0.011747492477297783,\n",
       "  -0.04686163365840912,\n",
       "  0.12256956100463867,\n",
       "  -0.10935109853744507,\n",
       "  0.020175451412796974,\n",
       "  0.01057168748229742,\n",
       "  0.003880809061229229,\n",
       "  -0.06221949681639671,\n",
       "  2.5447215582616116e-33,\n",
       "  -0.05206891521811485,\n",
       "  -0.08391886204481125,\n",
       "  -0.08157853782176971,\n",
       "  -0.07401595264673233,\n",
       "  0.024951865896582603,\n",
       "  -0.06263719499111176,\n",
       "  -0.018986038863658905,\n",
       "  0.10173547267913818,\n",
       "  -0.055280156433582306,\n",
       "  0.05871395394206047,\n",
       "  0.02828909642994404,\n",
       "  0.025627320632338524,\n",
       "  0.005357461050152779,\n",
       "  0.0993032231926918,\n",
       "  -0.08047369122505188,\n",
       "  0.020227229222655296,\n",
       "  0.0323602519929409,\n",
       "  -0.035330094397068024,\n",
       "  -0.07971645146608353,\n",
       "  0.08239472657442093,\n",
       "  -0.06458517909049988,\n",
       "  0.0030837282538414,\n",
       "  -0.00906174536794424,\n",
       "  -0.05332816392183304,\n",
       "  0.02228441648185253,\n",
       "  0.006287438794970512,\n",
       "  0.006904519163072109,\n",
       "  0.0024834948126226664,\n",
       "  0.013386771082878113,\n",
       "  -0.03450334444642067,\n",
       "  0.01380823366343975,\n",
       "  -0.05005143582820892,\n",
       "  -0.036316607147455215,\n",
       "  0.03409622237086296,\n",
       "  0.008622719906270504,\n",
       "  -0.02004021219909191,\n",
       "  0.005976020824164152,\n",
       "  -0.09571298956871033,\n",
       "  -0.051630668342113495,\n",
       "  -0.030934421345591545,\n",
       "  0.018291862681508064,\n",
       "  0.13273170590400696,\n",
       "  -0.025895781815052032,\n",
       "  0.004664825741201639,\n",
       "  0.014206761494278908,\n",
       "  0.09225769340991974,\n",
       "  0.08335690945386887,\n",
       "  0.008473867550492287,\n",
       "  -0.08022872358560562,\n",
       "  0.04587159678339958,\n",
       "  0.01099257729947567,\n",
       "  0.005944081582129002,\n",
       "  0.04974747076630592,\n",
       "  0.03688890114426613,\n",
       "  -0.10282307118177414,\n",
       "  -0.011660588905215263,\n",
       "  -0.00600779103115201,\n",
       "  0.06657189875841141,\n",
       "  0.05496605858206749,\n",
       "  -0.08820724487304688,\n",
       "  0.06622155755758286,\n",
       "  0.04255323484539986,\n",
       "  -0.048413436859846115,\n",
       "  -0.12815484404563904,\n",
       "  -0.002135587390512228,\n",
       "  -0.003342989832162857,\n",
       "  -0.016393277794122696,\n",
       "  0.046102896332740784,\n",
       "  0.056895237416028976,\n",
       "  0.023455537855625153,\n",
       "  -0.006350298877805471,\n",
       "  -0.06764904409646988,\n",
       "  -0.03903712332248688,\n",
       "  -0.056804172694683075,\n",
       "  0.012034162878990173,\n",
       "  0.022931385785341263,\n",
       "  -0.026928996667265892,\n",
       "  -0.0475919283926487,\n",
       "  -0.11210570484399796,\n",
       "  -0.04082868620753288,\n",
       "  -0.004350906703621149,\n",
       "  -0.005739431828260422,\n",
       "  0.06096944212913513,\n",
       "  -0.022310582920908928,\n",
       "  0.08555709570646286,\n",
       "  0.009313110262155533,\n",
       "  0.058262214064598083,\n",
       "  0.03132491186261177,\n",
       "  0.05168075114488602,\n",
       "  0.008815719746053219,\n",
       "  0.0014176360564306378,\n",
       "  0.08529405295848846,\n",
       "  0.03864922747015953,\n",
       "  -0.038353197276592255,\n",
       "  0.008373350836336613,\n",
       "  -1.8701081572203293e-08,\n",
       "  0.05360041931271553,\n",
       "  -0.02591102011501789,\n",
       "  0.02289257012307644,\n",
       "  -0.14898042380809784,\n",
       "  -0.0002452275075484067,\n",
       "  0.019536269828677177,\n",
       "  0.054213620722293854,\n",
       "  -0.03913857042789459,\n",
       "  0.019535202533006668,\n",
       "  -0.10945195704698563,\n",
       "  -0.0976356565952301,\n",
       "  -0.06942538172006607,\n",
       "  -0.06844828277826309,\n",
       "  0.05784502625465393,\n",
       "  0.05824841931462288,\n",
       "  0.030050482600927353,\n",
       "  -0.031221136450767517,\n",
       "  -0.0099986856803298,\n",
       "  0.01526360772550106,\n",
       "  -0.009015700779855251,\n",
       "  0.005832388065755367,\n",
       "  0.06397122889757156,\n",
       "  -0.008052811026573181,\n",
       "  -0.002781031420454383,\n",
       "  0.02469266951084137,\n",
       "  -0.009213083423674107,\n",
       "  -0.0007746672490611672,\n",
       "  -0.06524043530225754,\n",
       "  -0.026905080303549767,\n",
       "  -0.036428872495889664,\n",
       "  0.05667043849825859,\n",
       "  -0.03299626335501671,\n",
       "  0.02596559002995491,\n",
       "  -0.05087964981794357,\n",
       "  0.04600393772125244,\n",
       "  0.10040704160928726,\n",
       "  0.026885438710451126,\n",
       "  -0.0729580745100975,\n",
       "  0.08280579745769501,\n",
       "  -0.010243424214422703,\n",
       "  0.03687406703829765,\n",
       "  -0.09775038063526154,\n",
       "  -0.002152903936803341,\n",
       "  0.07074474543333054,\n",
       "  0.009776623919606209,\n",
       "  -0.032616741955280304,\n",
       "  0.0563337504863739,\n",
       "  -0.1023900955915451,\n",
       "  0.0007524931570515037,\n",
       "  -0.0049264561384916306,\n",
       "  -0.03564908728003502,\n",
       "  -0.062185138463974,\n",
       "  0.023809844627976418,\n",
       "  -0.039902180433273315,\n",
       "  0.049876868724823,\n",
       "  -0.08114107698202133,\n",
       "  0.07575380057096481,\n",
       "  -0.04811127856373787,\n",
       "  -0.041671402752399445,\n",
       "  -0.020016901195049286,\n",
       "  0.0693863108754158,\n",
       "  -0.0017285190988332033,\n",
       "  0.06759365648031235,\n",
       "  0.02592046745121479]]"
      ]
     },
     "execution_count": 147,
     "metadata": {},
     "output_type": "execute_result"
    }
   ],
   "source": [
    "media_items_df['vector'][0]"
   ]
  },
  {
   "cell_type": "code",
   "execution_count": 146,
   "id": "ffd8c0ec-7036-4dde-bcad-830603f6317f",
   "metadata": {},
   "outputs": [
    {
     "data": {
      "text/plain": [
       "1"
      ]
     },
     "execution_count": 146,
     "metadata": {},
     "output_type": "execute_result"
    }
   ],
   "source": [
    "len(media_items_df['vector'][0])"
   ]
  },
  {
   "cell_type": "code",
   "execution_count": 137,
   "id": "7ce52249-10e3-4024-985f-74a3d05d03f0",
   "metadata": {},
   "outputs": [
    {
     "data": {
      "text/html": [
       "<div>\n",
       "<style scoped>\n",
       "    .dataframe tbody tr th:only-of-type {\n",
       "        vertical-align: middle;\n",
       "    }\n",
       "\n",
       "    .dataframe tbody tr th {\n",
       "        vertical-align: top;\n",
       "    }\n",
       "\n",
       "    .dataframe thead th {\n",
       "        text-align: right;\n",
       "    }\n",
       "</style>\n",
       "<table border=\"1\" class=\"dataframe\">\n",
       "  <thead>\n",
       "    <tr style=\"text-align: right;\">\n",
       "      <th></th>\n",
       "      <th>id</th>\n",
       "      <th>baseUrl</th>\n",
       "      <th>vector</th>\n",
       "    </tr>\n",
       "  </thead>\n",
       "  <tbody>\n",
       "    <tr>\n",
       "      <th>0</th>\n",
       "      <td>ALuQekoEDdHn-4zJECI5IfbAr1UfwOmwa1LjKeLjMRD1h6...</td>\n",
       "      <td>https://lh3.googleusercontent.com/lr/AAJ1LKdZK...</td>\n",
       "      <td>[[-0.0204818956553936, 0.023548683151602745, -...</td>\n",
       "    </tr>\n",
       "    <tr>\n",
       "      <th>1</th>\n",
       "      <td>ALuQekrYsr8xfGeVKydlZ5BV-8oqNeg8DIj5ZruswgnG-4...</td>\n",
       "      <td>https://lh3.googleusercontent.com/lr/AAJ1LKfJ5...</td>\n",
       "      <td>[[-0.054045457392930984, 0.10627054423093796, ...</td>\n",
       "    </tr>\n",
       "    <tr>\n",
       "      <th>2</th>\n",
       "      <td>ALuQekqBrUHCLeojoVet8LNKs6avSCkvMFLJ-NqH6Ybcks...</td>\n",
       "      <td>https://lh3.googleusercontent.com/lr/AAJ1LKfwY...</td>\n",
       "      <td>[[0.0678996816277504, 0.0504564493894577, -0.0...</td>\n",
       "    </tr>\n",
       "    <tr>\n",
       "      <th>3</th>\n",
       "      <td>ALuQekq3jPhquGT-X6FbQ15ulkTMv8MjPeujfg24fgM8jn...</td>\n",
       "      <td>https://lh3.googleusercontent.com/lr/AAJ1LKemm...</td>\n",
       "      <td>[[0.08913969993591309, 0.04626549035310745, -0...</td>\n",
       "    </tr>\n",
       "    <tr>\n",
       "      <th>4</th>\n",
       "      <td>ALuQekrTVjjzq-DKEWbjNLafYgHe3kGlUmuj1snCznFOmP...</td>\n",
       "      <td>https://lh3.googleusercontent.com/lr/AAJ1LKdjN...</td>\n",
       "      <td>[[0.05451503023505211, 0.07686479389667511, -0...</td>\n",
       "    </tr>\n",
       "  </tbody>\n",
       "</table>\n",
       "</div>"
      ],
      "text/plain": [
       "                                                  id  \\\n",
       "0  ALuQekoEDdHn-4zJECI5IfbAr1UfwOmwa1LjKeLjMRD1h6...   \n",
       "1  ALuQekrYsr8xfGeVKydlZ5BV-8oqNeg8DIj5ZruswgnG-4...   \n",
       "2  ALuQekqBrUHCLeojoVet8LNKs6avSCkvMFLJ-NqH6Ybcks...   \n",
       "3  ALuQekq3jPhquGT-X6FbQ15ulkTMv8MjPeujfg24fgM8jn...   \n",
       "4  ALuQekrTVjjzq-DKEWbjNLafYgHe3kGlUmuj1snCznFOmP...   \n",
       "\n",
       "                                             baseUrl  \\\n",
       "0  https://lh3.googleusercontent.com/lr/AAJ1LKdZK...   \n",
       "1  https://lh3.googleusercontent.com/lr/AAJ1LKfJ5...   \n",
       "2  https://lh3.googleusercontent.com/lr/AAJ1LKfwY...   \n",
       "3  https://lh3.googleusercontent.com/lr/AAJ1LKemm...   \n",
       "4  https://lh3.googleusercontent.com/lr/AAJ1LKdjN...   \n",
       "\n",
       "                                              vector  \n",
       "0  [[-0.0204818956553936, 0.023548683151602745, -...  \n",
       "1  [[-0.054045457392930984, 0.10627054423093796, ...  \n",
       "2  [[0.0678996816277504, 0.0504564493894577, -0.0...  \n",
       "3  [[0.08913969993591309, 0.04626549035310745, -0...  \n",
       "4  [[0.05451503023505211, 0.07686479389667511, -0...  "
      ]
     },
     "execution_count": 137,
     "metadata": {},
     "output_type": "execute_result"
    }
   ],
   "source": [
    "media_items_df.head()"
   ]
  },
  {
   "cell_type": "code",
   "execution_count": 219,
   "id": "9057160c-8d40-43b4-a010-ac4871c087ce",
   "metadata": {
    "colab": {
     "base_uri": "https://localhost:8080/"
    },
    "id": "efficient-parliament",
    "outputId": "0d9fbac4-4f8a-421e-95a9-0f441d2dcc16",
    "papermill": {
     "duration": 0.704503,
     "end_time": "2021-04-16T15:09:06.180549",
     "exception": false,
     "start_time": "2021-04-16T15:09:05.476046",
     "status": "completed"
    },
    "tags": []
   },
   "outputs": [
    {
     "data": {
      "text/plain": [
       "{'upserted_count': 125}"
      ]
     },
     "execution_count": 219,
     "metadata": {},
     "output_type": "execute_result"
    }
   ],
   "source": [
    "index.upsert(vectors=zip(df_photos.id, df_photos.vector, df_photos.metadata))  # insert vectors"
   ]
  },
  {
   "cell_type": "code",
   "execution_count": 201,
   "id": "b9798765-365b-44cf-8811-e28fbf180988",
   "metadata": {
    "colab": {
     "base_uri": "https://localhost:8080/"
    },
    "id": "enclosed-performer",
    "outputId": "5b67ec13-6863-4b1a-ac45-b57c569923ee",
    "papermill": {
     "duration": 0.140473,
     "end_time": "2021-04-16T15:09:06.352169",
     "exception": false,
     "start_time": "2021-04-16T15:09:06.211696",
     "status": "completed"
    },
    "tags": []
   },
   "outputs": [
    {
     "data": {
      "text/plain": [
       "{'dimension': 384,\n",
       " 'index_fullness': 0.00125,\n",
       " 'namespaces': {'': {'vector_count': 125}},\n",
       " 'total_vector_count': 125}"
      ]
     },
     "execution_count": 201,
     "metadata": {},
     "output_type": "execute_result"
    }
   ],
   "source": [
    "index.describe_index_stats()"
   ]
  },
  {
   "cell_type": "code",
   "execution_count": 17,
   "id": "9c72be31-0aea-4b90-bcc4-63dfedff47c0",
   "metadata": {
    "colab": {
     "base_uri": "https://localhost:8080/"
    },
    "id": "leading-shape",
    "outputId": "fb512e95-ebf4-4e1d-b9c7-74afc3cdd0c2",
    "papermill": {
     "duration": 2.177493,
     "end_time": "2021-04-16T15:09:08.564594",
     "exception": false,
     "start_time": "2021-04-16T15:09:06.387101",
     "status": "completed"
    },
    "tags": []
   },
   "outputs": [
    {
     "data": {
      "text/plain": [
       "{'matches': [{'id': 'A', 'score': 1.0, 'values': [1.0, 1.0, 1.0]},\n",
       "             {'id': 'B', 'score': 0.925820112, 'values': [1.0, 2.0, 3.0]}],\n",
       " 'namespace': ''}"
      ]
     },
     "execution_count": 17,
     "metadata": {},
     "output_type": "execute_result"
    }
   ],
   "source": [
    "index.query(\n",
    "    vector=[2., 2., 2.],\n",
    "    top_k=5,\n",
    "    include_values=True) # returns top_k matches"
   ]
  },
  {
   "cell_type": "code",
   "execution_count": null,
   "id": "93d15187-a68e-4427-86c1-091d31be785a",
   "metadata": {},
   "outputs": [],
   "source": []
  },
  {
   "cell_type": "code",
   "execution_count": null,
   "id": "d3b6cdcf-ebd9-4b9d-938c-c9daed51841b",
   "metadata": {},
   "outputs": [],
   "source": []
  },
  {
   "cell_type": "code",
   "execution_count": null,
   "id": "7a462321-d1cc-4060-b484-f8149ed57f54",
   "metadata": {},
   "outputs": [],
   "source": []
  },
  {
   "cell_type": "code",
   "execution_count": 287,
   "id": "a727c27b-fc63-4953-8206-eb3c58802a7c",
   "metadata": {
    "colab": {
     "base_uri": "https://localhost:8080/"
    },
    "id": "JWcO7jAK-N_1",
    "outputId": "69eb2969-b6f8-4ca1-c69b-8235be9970ec"
   },
   "outputs": [
    {
     "data": {
      "text/plain": [
       "{'matches': [{'id': 'ALuQekrT6Anko5B-P6U0lNeyLWXGrjZ0ZVt3gEManjqBiwXdIx-n8WN4TkCZJAnt2jM6UQ3IsykPyz4KRyRVP4hZy2XlfaBD8g',\n",
       "              'metadata': {'generated_text': 'a man and a woman sitting at a '\n",
       "                                             'table with food'},\n",
       "              'score': 0.622511268,\n",
       "              'values': []},\n",
       "             {'id': 'ALuQeko2isXjf_dvbrrnE48kaq-eeMnjizj6bODLnijKqQiZqxchTsMfGoy2pIJuSpLccMkxRTyzi64Yit-6xYBPVvLsUfKAAA',\n",
       "              'metadata': {'generated_text': 'two people are preparing food in '\n",
       "                                             'the kitchen'},\n",
       "              'score': 0.47851193,\n",
       "              'values': []},\n",
       "             {'id': 'ALuQekpe2beEjb5n3gVBmOuWVJRpLYO6vQs1ZUoeV8VYqfZAJWh6DJRtVetFLmkXX7o8z6IZvf4p57TKMcKLftscefOiv2Ut8w',\n",
       "              'metadata': {'generated_text': 'a man sitting at a table with a '\n",
       "                                             'plate of food'},\n",
       "              'score': 0.398180246,\n",
       "              'values': []},\n",
       "             {'id': 'ALuQekp_hV8YzvjLkkzueLfqNFoDIl7ed0sN5l5Qc3rlMHSyKAB6Xb2F6zfmvSc8vqQcXs5rlnlIuWINEyfRNyT5Sy6hrNQ9wg',\n",
       "              'metadata': {'generated_text': 'a man and woman posing for a '\n",
       "                                             'photo in a restaurant'},\n",
       "              'score': 0.394074023,\n",
       "              'values': []},\n",
       "             {'id': 'ALuQekqF063ojFSrm64r_O38A9-_VTWWMvMythwxutzMOf8kyfiqo-VmnEVYZz5XKbVqs20ywNxRg6hopyT6Tyw83v_k4rEn3Q',\n",
       "              'metadata': {'generated_text': 'a girl sitting at a table with a '\n",
       "                                             'cake and a plate of food'},\n",
       "              'score': 0.378431082,\n",
       "              'values': []}],\n",
       " 'namespace': ''}"
      ]
     },
     "execution_count": 287,
     "metadata": {},
     "output_type": "execute_result"
    }
   ],
   "source": [
    "query = \"two people eating dinner\"\n",
    "\n",
    "# create the query vector\n",
    "xq = model.encode(query).tolist()\n",
    "\n",
    "# now query\n",
    "xc = index.query(xq, top_k=5, include_metadata=True)\n",
    "xc"
   ]
  },
  {
   "cell_type": "code",
   "execution_count": 288,
   "id": "eff3bb36-6b00-4819-b15d-bc1abd915977",
   "metadata": {},
   "outputs": [],
   "source": [
    "img_urls = []\n",
    "\n",
    "for i in range(0,5):\n",
    "    img_id = xc['matches'][i]['id']\n",
    "    img_url = media_items_df.loc[media_items_df['id'] == img_id, 'baseUrl'].iloc[0]\n",
    "    img_urls.append(img_url)"
   ]
  },
  {
   "cell_type": "code",
   "execution_count": 289,
   "id": "f59a7fd6-374c-4340-a28e-5cf198a6dbb5",
   "metadata": {},
   "outputs": [
    {
     "data": {
      "text/html": [
       "<img src=\"https://lh3.googleusercontent.com/lr/AAJ1LKfN1tRpTHfw-utTWrQchDH0j4utXPBiyjWfS8PhMd7uhFgpxussNk8Almo-_KFW67jpEowieDbME_UV2GnX_s3HbGWBSCAQEkGIuVgOWT4Rn0IUjzRDkQ_ZsfpZwAdo5CEAJSgh6Udb0IKRFYEeo8EE-587QgJm4hwbNHHqO3U4QWL8tkAgUdKYpW7n1Vt9Hnnb30b1sm6mEVlh1IJDVxInmnHwVHRumjw_Hv7HVxHW2SLO-H_gjXe4PrARLwZu-kbMv5W4dWLuwJl11hUWBPI9MydUQutQuuOMPInycK4ewj6wudezI2mSOrqfQGEe0UWOgqLggsdNrwWizebQsmwwKR7c-njpsNX-bHmVKgvj5z8cKyWySjWWG2d6540Go6pqH6szgqU9nTx9Q8BDGBO-mFBC1-e_palvewq0PPD5813scBhc9ZxRkPxd8fER-DrI7BTsATeztllZrVAXrJyRhnsrjQ1iQ61QO31wlzzeqIri9rwzkSpQ-Mb4eHdlPC2PL--oMHuvDBdS9VlyGCJ324fAd696AkH3-B24p2_RO6ZOGlFdkpfuOGDdw_Y63Q21RWeJf6t9zbwzf1zJPRSqIsGQZ20rEJHszE3O6L_9EeiLFTDk2R-EI81pB1rweyk6NviwkHv7hp1VLGjxNw_KvZhRk7N4cPFor55ZhF0viTBWfTkNAsoWx0zxdeiYMbganGZ4ZgxUkU5sbN7tTe_Up1JY8uHh99v950lua8dbC_2SZ7gLGO8utDiJIqQ9XUOwJcUHJcgoks_lRv0pH6ndzTocRqPoUf2i2Hqsb0KC8qw0rnEIKKx4W7bO5R75eXuC25ZNHs9Xwa8K5btCAwfLXB_DEsKD_idG-3i7AAeAbJmMrxv9c9jKjeGaX9h8bt3wIOBkdj3FFVUpuH6-wCqjVnHP7DMqvsoe_ZHCQt6e-Ng9M3uYnuif79LXu99JqmXtF1R5QWPjoctqIAUerYoI195ko8qwWAarJ0B5rlGdprow7gNu59uPZx5NZ_mPxWzSxvSNpP_fFW5nrnT1ULZksKieMok49ibxKK1WaMMUsA\"/>"
      ],
      "text/plain": [
       "<IPython.core.display.Image object>"
      ]
     },
     "execution_count": 289,
     "metadata": {},
     "output_type": "execute_result"
    }
   ],
   "source": [
    "Image(url=img_urls[0])"
   ]
  },
  {
   "cell_type": "code",
   "execution_count": 290,
   "id": "c9f9a783-8316-419d-a7e9-5837c520e87d",
   "metadata": {},
   "outputs": [
    {
     "data": {
      "text/html": [
       "<img src=\"https://lh3.googleusercontent.com/lr/AAJ1LKebhcVu8-qiUUUzrllceuxiEnAHnf3dEy0Wo7g8-qWiS1Mgfi_E4wtlnLdLyXY_hFyTgqIlai5fjqquirZ8BKP2gLHSQLcYm1Xm_LirSeAcTM5sZZfE3QCIrzw9vTL09iMLlq58rSuiAuL4H_Xwnux8_adiFdOkxmu5Y3sdKHphuIhY9qtx-lHKaqL9U3GedVECW-Osga5vbKdB-oQMBRXsELLGua0R6A_MUTRi-ff5DNRuOH03R8m68dl7Y8wnB99RbhVNJNDF8Hp9aNCxhvGG-iAoNNIoDApBDL6yk1NkSvcZSbR3tmXFQngwLI7EC1MBCnKBIyooAzAsxsXZEzwpnsIKCnKa-9fR_mMdlnMIba_bq7Qu2O4ftOBOX2eu0AMrH5nTX0epcM7h2O4yzQ26EeaW7A946bHPS_15zAJzZYuX9Zo3vvBmxUeLqP-1jDViBcgsK1waJ-WR7Bzx7WHXY3GSmRW-DDDYYkixWKRuk2qqATicnv407SBcQy15fOlLju1zPZ4vOQ_GnyEnJk8dNhP7-yd3xQc2hCZ-K8ryLNfCGzf7KX8OEen1T5TrwWnE3pEkyVFbjVO550nrhqByMchVS83Af-U_7Tkf2pEz0IGp964mchifICq4JSAgXweBaZnLnrWRBYtasPXBF8jcZufOs2rOhqHULORkQp38fx0BndBqx30t5XKwQFi_A1RqIFfth8tD3O40GRlc-azbHnC2Lxm2Oaex9kfgMZEhfwA1Nqbcs9YbfAeUUuBsMWtmmGeZhM5u1QJw0a0LkZWiEKdp_3vjEBb2Syec9yqbHyawJbQaLmanLMJIgjXEXJJnKV_DzLuTpEi3_I9mKAvWch4QSZem_pItmfL_2UUcVEmMkQR3xiKhlroG5BvCfuORsPizInMMa2kyqE7FyJWB_j9a0Aw4wI-vHqPxAmsF-EmXz2yHaMx2C11L5QJLS1qm9AzjTKQe-WwvfIpH_XbcyjL-0hi_6PItBFtvgRtWs0Z9MaP8ij-DjLo36pDhquNPMDX6cwO_IKUrb80EmyBc8k_A23e88pDffANYy8xFJw\"/>"
      ],
      "text/plain": [
       "<IPython.core.display.Image object>"
      ]
     },
     "execution_count": 290,
     "metadata": {},
     "output_type": "execute_result"
    }
   ],
   "source": [
    "Image(url=img_urls[1])"
   ]
  },
  {
   "cell_type": "code",
   "execution_count": 291,
   "id": "e7472004-7f55-4e64-9573-c566d764c6d7",
   "metadata": {},
   "outputs": [
    {
     "data": {
      "text/html": [
       "<img src=\"https://lh3.googleusercontent.com/lr/AAJ1LKc3RUMG0oNugdj2asBpzaV1zJjTPl18C0bRw7ipwU6vZqL5J2KhV64nWH2jF0kCAtae3xBZJldQGskipJER1EYmiqdDtOt_a_OhBPR1WFjuqMEqk5MKo0fZhqw9ndYrBxgDjcLidq-rfggJp_pKMU5ukUvA65RNcJ7hkHMGsZaRHFcTc7zDDJV44z329iSPKC85iwfL6WtTbFTXhKsZeYsKcYHv4H_lKtaMea_OnsEBf5cKbJhG8DURtpjgOkxJuENMx-At726wLdaByYvuT8MkyhXnx7dotRsuwh-p06t6g4CcjG7qSdHpvls-mSXNY4Ol-ZhZ2Q4N_PbDb-Nv6tkXdEX6qg_lgzszh3m3VTx33fwHaxfedoF7n5hcdQ9bklpMJOgVo3K5FqYhCdNUK7KZ5DUjfE7PR6D8OM4St8MHAjpH9WTXiGq_3rHOcfBcTxSHW3oP8KVbXiFQbHraY8xLs0XjxLZnqio8Ie-4lkjG0KfOC0UewU9qvLXXN_dYeJ7eyHx4q-qMK7ZrUWaCzQ4cKfq67ZT3beS0mWFyyeHhBhTfVx_fJU5mfQtUamrOT-G0GfTQjn9jFir5-nNtK6Qd0i0UkPFB_GRD2vGaeb6tgOw3fz0WUyU908fJNHX3wEppmZpsR_ReBvF8UINMDydK4sB0aNba4OqvYNAzeDbLSGHIrJRstmux9DpiS2WKpusB6p6NmKDB32S9s4qJt3ak6n1Qza6F5NviWKivitjPPntEj4_7pP3ZUiDrUBHT-qZugof2NgtqF7CTy07MyNIrcBZNZHjQBZo1bttrN42_W1pboPLaEd7LZdemh3JT100qzTmXzjbPJbbm19B3vRpDZW13O7vAYleDukjSkNWBr9KpdZOY8GivhC4Sd9NrxUfkIDDC3AcG7x-C0Zo_rCdhv4VGtocSeIziM-BjSkU14rUECk3R_rlhI4Zl_BhwwP3IBWaFCxjsQHtxLfN9fEjp9AIkX3PJsyNupIGaxpHtOkYhLVBGLnBjU_thziC6V19lmMzPrpjsL-TNW_ppiSLyV3Xl1hpM0qBPFmwNqeh4HA\"/>"
      ],
      "text/plain": [
       "<IPython.core.display.Image object>"
      ]
     },
     "execution_count": 291,
     "metadata": {},
     "output_type": "execute_result"
    }
   ],
   "source": [
    "Image(url=img_urls[2])"
   ]
  },
  {
   "cell_type": "code",
   "execution_count": 292,
   "id": "2ea81f20-878c-4685-b23a-1ea4d97c79e1",
   "metadata": {},
   "outputs": [
    {
     "data": {
      "text/html": [
       "<img src=\"https://lh3.googleusercontent.com/lr/AAJ1LKdob_hd_dpkPfuelYxUyMhpGBS9R-gEMir5x1-DbTYTZb-Zp4UAPTrNoTz54b1pwGn3fGku7pUahu3hZAI4rgO7iq1JLaWkoydV_e4a3DeRhaPi5m_XSR4-hhqRdGMvuaDltPbqvg9BMSnavswT_j_eyc7eIjzN6HnclbZuqr9yZKHgB5OqRRxcIG-H1Fgt-Vk650lDvoBY5XCaoY3Y0gbEvhVQSgG1uSuSIXrZNJTFpsNTi7KTxi25oYFrt3kMTQE4CldKwvX0z5gXAlpdHPRzcfWTFsVN019eca2rNBUGpEASrxRPwp2c9kaSWm8J43vy_8BEWROCzGf2fkvXu7sYmiEaiVNhQtNT3tdifT3EB17IhbWZesSVkKawwny9ctR1DioNChVYc-ui8-Gd_Yd6Osv2UnOL9WzTdV5WlIh7JY5bgmZdKJb0By0JTLIobi0UdY7UKxZ8HJI3nflHAwBa1P-DKKJjw9N7Db42xaUpYG6HfHbnIBO4DuIwNC20z8jZF3n69-sSgev2wQGG0BYEWs0Mv-YMJZ3Y-t7YJOiB-mIGJyi9rtAQozqVgf8Y49rZpiMba_tBh7ihmBb2dBV3cym1EQmSGbpJLDjQ11hIIoqpb3SODBQmIUos-0-ZBAH_UdvqGBDNZvHvTlA5WMESQ5qsAA8564m-LFaHyeZSXl5QaU9ncOBCnG7qdFJPW3JGjo0of80Hy8kM6uj9L40e0qeyGHfw9E5rjNApOuZ8MupjbcuXVQSsweFHtX6yGrOjRYEaKbnV3Mf_6BqTF-kLIMBC9YINk9a7DSELL4b0VW9VKAwHX33WrfGpVj4she8jRdZa1X56sevDfb_eRk5fUjiCqJXqhkeq7Z2yfZje21RDtRGKcSrS7Uhl9YpHwFiKIbmKAtvKcSV8jc5wm9SQSqcZOYAOc6lChKetNhc7j0aaRpNLLm8-cv_KtrdcmGSHTaKDa3LPlkUGTYhASrYSFMZzHlrLNvD2sR5O-1gbtUKhiL-p8iJcbodwc_1gM-pTmvmrUCVV76ylakbo3wpmHOeYAUJ8f4Jrlj_aroZ7_g\"/>"
      ],
      "text/plain": [
       "<IPython.core.display.Image object>"
      ]
     },
     "execution_count": 292,
     "metadata": {},
     "output_type": "execute_result"
    }
   ],
   "source": [
    "Image(url=img_urls[3])"
   ]
  },
  {
   "cell_type": "code",
   "execution_count": 293,
   "id": "41d01539-4b1d-4a25-a3e5-39d32eba608e",
   "metadata": {},
   "outputs": [
    {
     "data": {
      "text/html": [
       "<img src=\"https://lh3.googleusercontent.com/lr/AAJ1LKfwzDEfPi1Nezs3nakpGAqR8f4Orofc6pBvbpQYSg2zk_9IqsQGtCGuSatsMggGQ5AKFpi48AgeWm_bspA01wN02XinqHs06ykyxTEamlN69jtDmvSs1hp5GodrT35m3J60OO3M6qGkuhkWBxq6lJFAD1GyFLnVKBRxnwKq0Ce9mF8tfG0VU7C0AsD1mBSuutz_ggU1XOD1ZffRWv6e6m80DecMOBw5c8ECVw_Hx3k4aeGYWUlVEKyUl_wae8P0yR08dfQsiFE-bLvM65xe30WX1oCdkjvAWiqspucYwyBJql7MOj9v8kmgRmOQjo_AN-XzbNOmPQc9JsC02_r9pfRWHIMAVv5cLJap5lOQEAYWSrEPG0XOYeomgLhmgkMuE-nPUJxw2BhV4k0QhC2MlxpcnQb6WYxoXDawsJggRrL-9Ki47KxTUICiDkYjnAhpMuAPQscfpzoncRtMSQAy_-xOJRN_dRlmQmgocGDPJsGuohtgSHqkCSZSVksg5AA2DANHU1t_4_0B6TcCaaemV0lKfXfQQ8U4QvjcL4Qi0RdFiTbxk83c0GyWFNbBM4hhs7phThW7PytjdzAoaPadstZIaOuOACfnC4hEeBCKeQBwZ5aRXQjp3uanwVvwhkOC7XLOoD9ekPma-klVwXaftr15DGEp2J0JhiGPdBxbhQvkpt8uBaza97mbDjfVLHrG6G-C97rjIALx8BYuXKtmHe0bE7MV3EuVpb2WE3ZR05AcgEsFpaLiAMzV2miVdq6I4G6moT4-u6_XboPHz_Qkxy8RLaDfU3Da9Zq8GxiVi7kxFzp4YSpPEL0zYbScOnfJiWBX-H4BseBwk4AEnEkRgttMwjq2VjPS0T3GUYY4Eq8WqBhZigj9BUIKaUcgJ3VPaeETJFiT-VbIszKTtVZwVURRpxmiw5mC1J5T2DzzNBGDPRRCo2x_RIu9Qe4_3pxtQPicISoYEda2D9XLIUgPVAvtEe7-_rs-lnn4kHA90pN4ZAqRF6tsLaoA6jeaQ8cyHuhOOAayesaIfmLIT5MM5zybxtW2_UJ1bfyp_eMLkSZFMQ\"/>"
      ],
      "text/plain": [
       "<IPython.core.display.Image object>"
      ]
     },
     "execution_count": 293,
     "metadata": {},
     "output_type": "execute_result"
    }
   ],
   "source": [
    "Image(url=img_urls[4])"
   ]
  },
  {
   "cell_type": "code",
   "execution_count": 264,
   "id": "7bac6f8b-4289-4477-ba6e-229077b77cff",
   "metadata": {},
   "outputs": [],
   "source": [
    "xc = index.query(xq, top_k=5, include_metadata=True)"
   ]
  },
  {
   "cell_type": "code",
   "execution_count": null,
   "id": "8eccab60-00be-4937-b083-10cdc521a33c",
   "metadata": {},
   "outputs": [],
   "source": []
  },
  {
   "cell_type": "code",
   "execution_count": null,
   "id": "a16a4d2f-c041-4186-965b-4dd37acf260e",
   "metadata": {},
   "outputs": [],
   "source": []
  },
  {
   "cell_type": "code",
   "execution_count": null,
   "id": "eccaaeb3-7506-4d57-b541-fe6857b08000",
   "metadata": {},
   "outputs": [],
   "source": [
    "url = 'https://photoslibrary.googleapis.com/v1/mediaItems:search'\n",
    "payload = {\n",
    "              \"filters\": {\n",
    "                \"dateFilter\": {\n",
    "                  \"dates\": [\n",
    "                    {\n",
    "                      \"day\": day,\n",
    "                      \"month\": month,\n",
    "                      \"year\": year\n",
    "                    }\n",
    "                  ]\n",
    "                }\n",
    "              }\n",
    "            }\n",
    "headers = {\n",
    "    'content-type': 'application/json',\n",
    "    'Authorization': 'Bearer {}'.format(creds.token)\n",
    "}\n",
    "\n",
    "try:\n",
    "    res = requests.request(\"POST\", url, data=json.dumps(payload), headers=headers)\n",
    "except:\n",
    "    print('Request error') "
   ]
  },
  {
   "cell_type": "code",
   "execution_count": null,
   "id": "b408574c-8ab3-403f-8864-0dd1ac638a24",
   "metadata": {},
   "outputs": [],
   "source": [
    "res"
   ]
  },
  {
   "cell_type": "code",
   "execution_count": null,
   "id": "8e2b0078-8f56-4b2b-a3cb-2d433be9ee4d",
   "metadata": {},
   "outputs": [],
   "source": []
  }
 ],
 "metadata": {
  "kernelspec": {
   "display_name": "venv",
   "language": "python",
   "name": "venv"
  },
  "language_info": {
   "codemirror_mode": {
    "name": "ipython",
    "version": 3
   },
   "file_extension": ".py",
   "mimetype": "text/x-python",
   "name": "python",
   "nbconvert_exporter": "python",
   "pygments_lexer": "ipython3",
   "version": "3.11.4"
  }
 },
 "nbformat": 4,
 "nbformat_minor": 5
}
