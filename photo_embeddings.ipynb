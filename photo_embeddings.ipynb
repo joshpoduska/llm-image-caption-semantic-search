{
 "cells": [
  {
   "cell_type": "markdown",
   "id": "1fd612bd-514b-4e8a-9897-b98873be70ec",
   "metadata": {},
   "source": [
    "# Semantic search of your personal cloud photos and videos\n",
    "\n",
    "### An LLM-based generative AI app that uses:\n",
    "\n",
    "#### **Pinecone** vector database for embedding storage and search\n",
    "\n",
    "#### **Hugging Face** models and pipelines\n",
    "#### - **salesforce_blip_image_captioning** model for caption generation\n",
    "#### - **sentence_transformers (SBERT)** for embedding creation\n",
    "\n",
    "#### **Google API** to access your personal Google Photos to perform semantic search and find \"that one photo\" \n",
    "\n",
    "#### Tested locally on a **MacBook Pro**, Apple M1 Pro with 16 GPU Cores and 32GB mem"
   ]
  },
  {
   "cell_type": "markdown",
   "id": "26355de8-4e06-4939-9f09-aa36bc5adba1",
   "metadata": {},
   "source": [
    "#### References"
   ]
  },
  {
   "cell_type": "markdown",
   "id": "7f3c9562-7c4f-4191-aafc-65ab0d2e0448",
   "metadata": {},
   "source": [
    "**polzerdo55862** has a great notebook tutorial on using the Google Photos API via python. Some of the Google API cells below are a copy/paste from that notebook.\n",
    "\n",
    "https://github.com/polzerdo55862/google-photos-api/blob/main/Google_API.ipynb"
   ]
  },
  {
   "cell_type": "markdown",
   "id": "23c9312a-6e46-449b-98a0-32a9be0e112f",
   "metadata": {},
   "source": [
    "**Pinecone** quick tour shows how to initialize, fill, and delete a Pinecone \"index\" \n",
    "\n",
    "https://github.com/pinecone-io/examples/blob/master/docs/quick-tour/hello-pinecone.ipynb"
   ]
  },
  {
   "cell_type": "markdown",
   "id": "c0d514bc-e247-4c87-b021-54a742ae3d26",
   "metadata": {},
   "source": [
    "**Pinecone** examples of how to query an index and use SBERT\n",
    "\n",
    "https://github.com/pinecone-io/examples/blob/master/docs/semantic-search.ipynb"
   ]
  },
  {
   "cell_type": "markdown",
   "id": "b063c220-b263-4608-82cc-9a0dc8df7e36",
   "metadata": {},
   "source": [
    "**Salesforce** examples of how to download and use the BLIP image captioning model \n",
    "\n",
    "https://github.com/salesforce/BLIP/blob/main/demo.ipynb"
   ]
  },
  {
   "cell_type": "markdown",
   "id": "7eac8f7c-932d-486f-900b-9fe3fa178138",
   "metadata": {
    "tags": []
   },
   "source": [
    "## Create virtualenv and install required packages"
   ]
  },
  {
   "cell_type": "markdown",
   "id": "6927380f-c820-4ef4-8f32-e68cbf500709",
   "metadata": {},
   "source": [
    "1. Open the terminal and navigate to your working directory. The folder structure of the repo includes the following directories:\n",
    "\n",
    "    * **credentials**: folder to store the credentials you need to authenticate your \"Python App\" to the Google Photos Library\n",
    "    * **media_items_list**: every time the script runs, I want to save a .csv file with all Google Photos media items and the corresponding metadata uploaded in the defined time period\n",
    "    * **downloads**: storing downloaded images from Google Photos\n",
    "\n",
    "\n",
    "2. Create a virtual environment `python3 -m venv venv`, activate it `. ./venv/bin/activate` and install requirements `pip install -r requirements.txt`\n",
    "\n",
    "3. Install ipykernel which provides the IPython kernel for Jupyter: `pip install ipykernel` and add your virtual environment to Jupyter: `python -m ipykernel install --user --name=venv` \n",
    "\n",
    "    You can check the installation by navigating to /Users/<user>/Library/Jupyter/kernels. There should be a new directory called 'venv'. In the folder you can find the file 'kernel.json', which contains the path for the used python installation is defined.\n",
    "\n",
    "4. Start jupyter notebook or jupyter lab: `jupyter lab .` and select the just created environment \"venv\" as Kernel\n",
    "\n",
    "![](read_me_img/select_kernel.png)"
   ]
  },
  {
   "cell_type": "markdown",
   "id": "5434000b-35ff-4aa2-a8b8-cc9a26f548d9",
   "metadata": {
    "tags": []
   },
   "source": [
    "## Enable Google API"
   ]
  },
  {
   "cell_type": "markdown",
   "id": "81fa3746-d4a0-4795-8e5a-226490d6e554",
   "metadata": {},
   "source": [
    "5. Enable Google Photos API Service\n",
    "\n",
    "   1. Go to the Google API Console [https://console.cloud.google.com/](https://console.cloud.google.com/). \n",
    "   2. From the menu bar, select a project or create a new project.\n",
    "   \n",
    "      ![](read_me_img/gifs/create_new_project_speed.gif)\n",
    "      \n",
    "   3. To open the Google API Library, from the Navigation menu, select APIs & Services > Library. \n",
    "   4. Search for \"Google Photos Library API\". Select the correct result and click \"enable\". If its already enabled, click \"manage\"\n",
    "   \n",
    "       ![](read_me_img/gifs/enable_api_speed.gif)\n",
    "       \n",
    "   5. Afterwards it will forward you to the \"Photos API/Service details\" page (https://console.cloud.google.com/apis/credentials)\n",
    "\n",
    "\n",
    "6. Configure \"OAuth consent screen\" ([Source](https://stackoverflow.com/questions/65184355/error-403-access-denied-from-google-authentication-web-api-despite-google-acc))\n",
    "\n",
    "   1. Go back to the Photos API Service details page and click on \"[OAuth consent screen](https://console.cloud.google.com/apis/credentials/consent)\" on the left side (below \"Credentials\") \n",
    "   2. Add a Test user: Use the email of the account you want to use for testing the API call\n",
    "   \n",
    "        ![](read_me_img/add_test_user.png)\n",
    "\n",
    "7. Create API/OAuth credentials\n",
    "\n",
    "   1. On the left side of the Google Photos API Service page, click Credentials\n",
    "   2. Click on \"Create Credentials\" and create a OAuth client ID\n",
    "   3. As application type I am choosing \"Desktop app\" and give your client you want to use to call the API a name\n",
    "   4. Download the JSON file to the created credentials, rename it to \"client_secret.json\" and save it in the folder \"credentials\"\n",
    "   \n",
    "        ![](read_me_img/gifs/create_credentials_speed.gif)"
   ]
  },
  {
   "cell_type": "code",
   "execution_count": null,
   "id": "85475dc1-1cb4-466a-88a7-2a756faa747e",
   "metadata": {},
   "outputs": [],
   "source": [
    "!which python\n",
    "!which pip"
   ]
  },
  {
   "cell_type": "markdown",
   "id": "498c8c38-d525-462d-b3e6-a16b9da9c7a8",
   "metadata": {
    "tags": []
   },
   "source": [
    "## Use the Google Photo Library API for the first time:\n",
    "\n",
    "The following section shows how to use OAuth Credentials for authentication with the Google Library API. The code section below covers the following steps:"
   ]
  },
  {
   "cell_type": "markdown",
   "id": "400d724f-c302-4d5f-b3be-9341a4a0fc84",
   "metadata": {},
   "source": [
    "8. Create a service for the first time:\n",
    "\n",
    "    1. Initialize GooglePhotosApi `google_photos_api = GooglePhotosApi()`\n",
    "\n",
    "    2. Create Service using the `client_secret.json` file: `service = google_photos_api.create_service()`\n",
    "        \n",
    "        \n",
    "       <b>Calling the API for the first time:</b>\n",
    "       1. Google will ask you if you want to grant the App the required permissions you defined with the scope\n",
    "       2. Since its just a test app at the moment, Google will make you aware of that > Click on \"Continue\"\n",
    "       3. Once you granted the app the required permissions, you will see a \"token_......pickle\" file created in the folder \"credentials\". This token file will be used for future calls."
   ]
  },
  {
   "cell_type": "markdown",
   "id": "51a796ce-f44a-47b9-aaec-6b35927ca8d1",
   "metadata": {},
   "source": [
    "### Class to establish GoogleAPI credentials"
   ]
  },
  {
   "cell_type": "code",
   "execution_count": 6,
   "id": "33e55f6c-d7a8-4541-961e-b28a768eeec6",
   "metadata": {},
   "outputs": [],
   "source": [
    "import pickle\n",
    "import os\n",
    "from google_auth_oauthlib.flow import Flow, InstalledAppFlow\n",
    "from googleapiclient.discovery import build\n",
    "#from googleapiclient.http import MediaFileUpload\n",
    "from google.auth.transport.requests import Request\n",
    "import requests\n",
    "\n",
    "class GooglePhotosApi:\n",
    "    def __init__(self,\n",
    "                 api_name = 'photoslibrary',\n",
    "                 client_secret_file= r'./credentials/client_secret.json',\n",
    "                 api_version = 'v1',\n",
    "                 scopes = ['https://www.googleapis.com/auth/photoslibrary']):\n",
    "        '''\n",
    "        Args:\n",
    "            client_secret_file: string, location where the requested credentials are saved\n",
    "            api_version: string, the version of the service\n",
    "            api_name: string, name of the api e.g.\"docs\",\"photoslibrary\",...\n",
    "            api_version: version of the api\n",
    "\n",
    "        Return:\n",
    "            service:\n",
    "        '''\n",
    "\n",
    "        self.api_name = api_name\n",
    "        self.client_secret_file = client_secret_file\n",
    "        self.api_version = api_version\n",
    "        self.scopes = scopes\n",
    "        self.cred_pickle_file = f'./credentials/token_{self.api_name}_{self.api_version}.pickle'\n",
    "\n",
    "        self.cred = None\n",
    "\n",
    "    def run_local_server(self):\n",
    "        # is checking if there is already a pickle file with relevant credentials\n",
    "        if os.path.exists(self.cred_pickle_file):\n",
    "            with open(self.cred_pickle_file, 'rb') as token:\n",
    "                self.cred = pickle.load(token)\n",
    "\n",
    "        # if there is no pickle file with stored credentials, create one using google_auth_oauthlib.flow\n",
    "        if not self.cred or not self.cred.valid:\n",
    "            if self.cred and self.cred.expired and self.cred.refresh_token:\n",
    "                self.cred.refresh(Request())\n",
    "            else:\n",
    "                flow = InstalledAppFlow.from_client_secrets_file(self.client_secret_file, self.scopes)\n",
    "                self.cred = flow.run_local_server()\n",
    "\n",
    "            with open(self.cred_pickle_file, 'wb') as token:\n",
    "                pickle.dump(self.cred, token)\n",
    "        \n",
    "        return self.cred\n"
   ]
  },
  {
   "cell_type": "code",
   "execution_count": null,
   "id": "04f0efa2",
   "metadata": {},
   "outputs": [],
   "source": [
    "# initialize photos api and create service\n",
    "google_photos_api = GooglePhotosApi()\n",
    "creds = google_photos_api.run_local_server()"
   ]
  },
  {
   "cell_type": "markdown",
   "id": "eb37b37d-9c1c-4c88-9f4f-4f2eeefc3c3a",
   "metadata": {},
   "source": [
    "### Use python requests module and the token file to retrieve data from Google Photos\n",
    "\n",
    "The following function sends a post request to the Media API to get a list of all entries. Since the API return is limited to 100 items, the search is narrowed down to one day. Thus, the call would only be a problem if more than 100 images were created/uploaded on one day."
   ]
  },
  {
   "cell_type": "code",
   "execution_count": 8,
   "id": "27ee5847-923b-40f1-87cd-4b935dbd328d",
   "metadata": {},
   "outputs": [],
   "source": [
    "import json\n",
    "import requests\n",
    "\n",
    "def get_response_from_medium_api(year, month, day):\n",
    "    url = 'https://photoslibrary.googleapis.com/v1/mediaItems:search'\n",
    "    payload = {\n",
    "                  \"filters\": {\n",
    "                    \"dateFilter\": {\n",
    "                      \"dates\": [\n",
    "                        {\n",
    "                          \"day\": day,\n",
    "                          \"month\": month,\n",
    "                          \"year\": year\n",
    "                        }\n",
    "                      ]\n",
    "                    }\n",
    "                  }\n",
    "                }\n",
    "    headers = {\n",
    "        'content-type': 'application/json',\n",
    "        'Authorization': 'Bearer {}'.format(creds.token)\n",
    "    }\n",
    "    \n",
    "    try:\n",
    "        res = requests.request(\"POST\", url, data=json.dumps(payload), headers=headers)\n",
    "    except:\n",
    "        print('Request error') \n",
    "    \n",
    "    return(res)"
   ]
  },
  {
   "cell_type": "markdown",
   "id": "10a38726-10aa-47d8-9f57-4d575ce57193",
   "metadata": {},
   "source": [
    "Use the response of the API to write the results and required metadata into a data frame:"
   ]
  },
  {
   "cell_type": "code",
   "execution_count": 9,
   "id": "0cd790ac-1a44-4f79-afb9-1d6621c3f3d9",
   "metadata": {},
   "outputs": [],
   "source": [
    "def list_of_media_items(year, month, day, media_items_df):\n",
    "    '''\n",
    "    Args:\n",
    "        year, month, day: day for the filter of the API call \n",
    "        media_items_df: existing data frame with all find media items so far\n",
    "    Return:\n",
    "        media_items_df: media items data frame extended by the articles found for the specified tag\n",
    "        items_df: media items uploaded on specified date\n",
    "    '''\n",
    "\n",
    "    items_list_df = pd.DataFrame()\n",
    "    \n",
    "    # create request for specified date\n",
    "    response = get_response_from_medium_api(year, month, day)\n",
    "\n",
    "    try:\n",
    "        for item in response.json()['mediaItems']:\n",
    "            items_df = pd.DataFrame(item)\n",
    "            items_df = items_df.rename(columns={\"mediaMetadata\": \"creationTime\"})\n",
    "            items_df.set_index('creationTime')\n",
    "            items_df = items_df[items_df.index == 'creationTime']\n",
    "\n",
    "            #append the existing media_items data frame\n",
    "            items_list_df = pd.concat([items_list_df, items_df])\n",
    "            media_items_df = pd.concat([media_items_df, items_df])\n",
    "    \n",
    "    except:\n",
    "        print(response.text)\n",
    "\n",
    "    return(items_list_df, media_items_df)"
   ]
  },
  {
   "cell_type": "markdown",
   "id": "88cc1dda-4145-4c84-94ac-f8b634f794cd",
   "metadata": {},
   "source": [
    "### Execute the API call for all dates to get a list with all media items"
   ]
  },
  {
   "cell_type": "markdown",
   "id": "36ea31ba-376c-4c30-85be-30d57b6022ad",
   "metadata": {},
   "source": [
    "Data fields of note:\n",
    "\n",
    "**id** Immutable\n",
    "      \n",
    "**baseUrl** Base URLs within the Google Photos Library API allow you to access the bytes of the media items. They are valid for 60 minutes. \n",
    "\n",
    "(https://developers.google.com/photos/library/guides/access-media-items)"
   ]
  },
  {
   "cell_type": "code",
   "execution_count": 12,
   "id": "d7c718f1-a77c-4b91-8266-8b15ca1ab92e",
   "metadata": {
    "id": "NKc5Q7u9YKog"
   },
   "outputs": [],
   "source": [
    "import timm\n",
    "import transformers\n",
    "import torch"
   ]
  },
  {
   "cell_type": "markdown",
   "id": "fa3e7b53-0c75-4076-aead-b57f9153d64f",
   "metadata": {},
   "source": [
    "### Connect to MacBook MPS if NVIDIA is not available"
   ]
  },
  {
   "cell_type": "code",
   "execution_count": 13,
   "id": "a82dd1d0-7d39-434a-9cd6-66ffbddc07d3",
   "metadata": {},
   "outputs": [],
   "source": [
    "# Check that MPS is available\n",
    "if not torch.backends.mps.is_available():\n",
    "    if not torch.backends.mps.is_built():\n",
    "        print(\"MPS not available because the current PyTorch install was not \"\n",
    "              \"built with MPS enabled.\")\n",
    "    else:\n",
    "        print(\"MPS not available because the current MacOS version is not 12.3+ \"\n",
    "              \"and/or you do not have an MPS-enabled device on this machine.\")\n",
    "\n",
    "else:\n",
    "    mps_device = torch.device(\"mps\")"
   ]
  },
  {
   "cell_type": "code",
   "execution_count": 14,
   "id": "c983f780-aeee-4d43-85f4-1aeb7cd84e7a",
   "metadata": {},
   "outputs": [],
   "source": [
    "# device = 'cuda' if torch.cuda.is_available() else 'cpu'\n",
    "device = 'cuda' if torch.cuda.is_available() else mps_device"
   ]
  },
  {
   "cell_type": "code",
   "execution_count": 15,
   "id": "0c146702-b467-4c36-aaa3-e8b66f1f55fc",
   "metadata": {},
   "outputs": [
    {
     "data": {
      "text/plain": [
       "device(type='mps')"
      ]
     },
     "execution_count": 15,
     "metadata": {},
     "output_type": "execute_result"
    }
   ],
   "source": [
    "device"
   ]
  },
  {
   "cell_type": "markdown",
   "id": "9590dd96-3c2f-4a79-b722-6d655e981bf0",
   "metadata": {},
   "source": [
    "### Load the models and test an image caption"
   ]
  },
  {
   "cell_type": "code",
   "execution_count": 16,
   "id": "a9f31cc0-6500-43a2-906f-a7177a88ebab",
   "metadata": {
    "colab": {
     "base_uri": "https://localhost:8080/",
     "height": 572,
     "referenced_widgets": [
      "e071c609be39436983a45e22ee3d024c",
      "81109461a6a443278ea4c1e0e94555cb",
      "039776582a8546059367fdf16f52d558",
      "54a309759b29401086214027f097218c",
      "d78e4d61e48445dd949c9f22ef5d8637",
      "bcece859992b4eaf9117bcee7b2f63e7",
      "f3b2c2bcd81543248acab99089524e03",
      "45edc9ed0d2d4bd9a776bc4be40d7175",
      "ef8192041c904d6daa9b9b1dc06ae83c",
      "7e0dcf60cf7047cc937695614624fb16",
      "22f5ae801baf42c3b315d02724a5e018",
      "123c103da6b247a2ba7f443b4f974b87",
      "7055e65fc16c4735926e98138e6b091f",
      "ce42b55cef684c9b85a0c14324a14a8e",
      "872177f9bf254923bc0d84e650ab54c1",
      "ad6d1d06538c4f7b8757d91efa772956",
      "73e711fd0d974ea4b2b885e44e2ec17f",
      "740051b5daf9428c96e1d781fbe6a380",
      "b9d2a82d12fe4154a24c9569410d8b47",
      "39fc9e6ccd6a4cdfb18882c299099749",
      "817f5756ebfe4387bfc47d48f036474a",
      "27df1cde180a416bb44f05fad698e510",
      "c981b85d6da446d9bc379c8d0a2dfa71",
      "dcc91aca34ea40c29c0da651047e20e1",
      "a0b05ccc777b4a4787a69d93bf87627e",
      "510b06cff61f41b481ceebecea5368e3",
      "a18dead6cbdb434699eebb2af17c75f2",
      "d4dac6396e084606ba25fd6e2aa637f1",
      "d033b162f9f84fe291bae38f889f9c48",
      "ce90d3ce270a48b3aeb6ff9c30c13b10",
      "a83a04e0ec07431fbfc880c7fbbc6d95",
      "174ac708d82f450991d26ff99c4ca2f4",
      "ee154adc3e61449fac6bddbb45dda70b",
      "3073d568c52d462c8ce5be3707329c21",
      "bb36a190cda943418cd11c4f3bd761e8",
      "f4569692cee14105954d6a74aa31829c",
      "a9102bb34b3d4f63b6a831bba27c19dd",
      "998eb8fd11d14610a275026260779d6f",
      "704884fb271a46fc96973ad435c14323",
      "2e47fcaeb53f42d68ee1d61f8bdf5a12",
      "ddf2a6a1408a403480855c28b342a2ee",
      "b972574565c34b69b3f1cdb4dc70b043",
      "42db0d4bcc524e60a1bea420f50b4f4d",
      "df52b1e6f10645ddb23e7d19d3378687",
      "e1597ce48089449784ae6dc14a8e07f3",
      "8ee40b58175749d196e1d472becb5efa",
      "dd589ef768cf41b581a3941d958f079c",
      "e943259392ea43feafc5ac747432edbd",
      "7193260e1506433a87ba9a12ab587616",
      "dc615537876d485785e79fc05c1c7cdc",
      "22fca12e807c455998fb756815e0aab2",
      "b79e53812f5a4309b2bc779c664441c7",
      "52c8a44d8d8b4a399cea147f998aead5",
      "25f56ab7fca644b09a5015611f677c1d",
      "aaf5ab88349f46ca9427b1941daf631c",
      "6fa00d7e98de49bf9ed08c61d16d2897",
      "69de6e6ff1a542ec99b880bca4303759",
      "3392afbc28ba4b6dba8a5310926b7290",
      "23421afe941242f3ad3f7cc6788e2db4",
      "3afe190451474a59929b5c607d9a9473",
      "c8058775c3c7488aa6add6d92565f7bc",
      "910f6518c68842408aa50314ce2fb243",
      "a4d1d76f5cce4d81910c393c54ce8e10",
      "158860a28c064261a3304fd7bfda0e01",
      "a2723d4c734a481db01b55e2929238c5",
      "a412ccb6ca3047299d051eba139ddb31",
      "a5c37133d67e49c5a23f98cc9c5db4a5",
      "4960c827141e476e84ca41a135201e29",
      "145be6020ffc4b8ea18d1e4008cb0588",
      "6c434ff7fe1542ddaeddeef3445c465b",
      "479b849816f0460d81556c87a3bfa2d1",
      "add0c541716043b8baf90e49128fe66b",
      "97f3bf89022d4f008dccda0d27a22e60",
      "f473a447f2dd47f2b39729f2a35f19f6",
      "e38108d575e34c91953593c4c1d29201",
      "6fda785faa314626b347528cc911d583",
      "9d2e7b1d3a3048618c26fc4b4d36b3dc",
      "d93b4001915145989289d0dd753f3954",
      "990c97422981472a8d01fc47fde8a555",
      "ad0474b809e74aca902daa4153212148",
      "f35dc09d82b84807bc4e1668303806e6",
      "8b63ffe98add4566b0c3a821f3360691",
      "0164a8d987aa4dc3ac60dc43ef172358",
      "7b9afa4e866e455180bc311e20097ce4",
      "ae833a64da6e4e34b7d85355bee5afed",
      "cdd5d2ab502046448c87fb41ed1da384",
      "da0d2ecc365141b296dd754c01dc371b",
      "71d4a43033d24010990a8d74d85d74b0",
      "13781756dba74c91b502d35ad83b3db7",
      "ac7000eb4f214819819f9f0a317963c8",
      "eabcc736a492433b837960b4a8f4790f",
      "67ae3b89f7ac441a9a28ca3f2184f172",
      "61f034ac055649e0a88e5a49de8cf584",
      "adfaf1756489416bb99834ad1bf53a34",
      "91dd54dd07c84bd5b56e21830a1b020e",
      "5aaaf27b0743497b944c93a1812cf4e9",
      "4918ac7c942e4a9cb7db0d2eed503396",
      "5cd154dafae049f387bffc3a743a6937",
      "f27705585fa74698a70ce867561de8a6",
      "f5070a8f863a41eb98dc98ba1fa919b9",
      "309c8075c7984955b33d762249198968",
      "e3f2b6eb29154004a5f35aaf67ffab00",
      "6228602048e74007aac4d5e599378136",
      "aa90116d94714bc7a97ce8c66bfdf1a4",
      "adaf977d841c4b358ebaa648436b651b",
      "7a020c5251f44b55b26ca66b8cf98755",
      "27b925d501124ba282a861089a9d0a88",
      "fe37b5d52d234aa78afed36748a8bf99",
      "96dd7d19418b4f299fe7ac6db96e8715",
      "d90a97175e364a6ebffcc690f5edee8b",
      "5bcc1718128d4e0db6b4343182feceb5",
      "e2ff8a1303fb40b8a1a452d642ebce32",
      "976204adabee4f998caff6a791c107f4",
      "3a1f7af0577a493f872fe81ae5d4cf34",
      "14ada5aae81846be9238630f7fccd7c6",
      "574c9da01a3d40099ccaa4ad5e78ba33",
      "568bd16082004d4c90d8b226dc456801",
      "3e21644fb06c455386d6dd55352e41bf",
      "795632dcb0a047ab95ce9c2db433d066",
      "069a7571d752475bb49afaf19bdfd655",
      "874faa4a72c9466684c4c3819455a518",
      "a352dd46404f472d85de1712031400a5",
      "e070a9dadcac43888dfbcbdc92258ef7",
      "16d00352dc6d4370bd3c80e00dc4619f",
      "7f11857a5b884f908577438e082545a0",
      "ac9b9a985d5b40c5ae151dc5b41239a2",
      "833163af3d5a4ec6a22a98e261f82b83",
      "55db8d9008ce4319a6d0aa82cb7573d4",
      "a49a525922924e1eaf4e4d8d10c20726",
      "8b544c82b30f4f7fa1a78a16e25f059b",
      "8d4faadaf85b45b8b92e8119bd290082",
      "7f59a113e1e64c74900e1456aba3fcbd",
      "f8bdb4874b384cba81aa74f86a73764a",
      "06312b060d344c10ae7379501d5ce373",
      "daec766a3b7a4b7fb44b8584cb92ca7f",
      "65cf363c1cd94907a69bdb36f0acb94c",
      "f4e97049da59453d9c0abe90c2af86df",
      "2742c835fdc145eeb39536371d78dc9e",
      "3e77706f94fd49d3ba96b899be92f115",
      "cc21644423514084a59fcc93468b57a1",
      "190260f283394e3cb01c448012ee7a17",
      "18f7fad99f1643ceb58b5a4fb79be277",
      "c8aecb0f6c32460285bcb0df1c07b287",
      "74bf76cde293429fbc6187f12a1fd4aa",
      "61e4b04d81b34fe9b35fab057eced0d8",
      "3934defa32244fdeb3f508677a79a665",
      "2f447ce21a9d4ecf8ed452840d9aac81",
      "b29ec62edc9b4c3bb9bca70989dcad2a",
      "06688b32859847f6901fd8cbe2f0c9fd",
      "b0747e424c204f7cbd74328dbea99b06",
      "ed6c0bdccc504d79a2805557890774cc",
      "64cbbe2e9cfd436facfb09cdd682dcc9",
      "1471cddd5238410c99e971c525d1ac38",
      "7ad4f0819cb94424affa6bff23f4fb4d"
     ]
    },
    "id": "Fqo_hMRZiubM",
    "outputId": "c9999b92-9f82-4019-8b92-813ddbc92142"
   },
   "outputs": [
    {
     "data": {
      "text/plain": [
       "SentenceTransformer(\n",
       "  (0): Transformer({'max_seq_length': 256, 'do_lower_case': False}) with Transformer model: BertModel \n",
       "  (1): Pooling({'word_embedding_dimension': 384, 'pooling_mode_cls_token': False, 'pooling_mode_mean_tokens': True, 'pooling_mode_max_tokens': False, 'pooling_mode_mean_sqrt_len_tokens': False})\n",
       "  (2): Normalize()\n",
       ")"
      ]
     },
     "execution_count": 16,
     "metadata": {},
     "output_type": "execute_result"
    }
   ],
   "source": [
    "# sentence_transforer model used to save the embeddings\n",
    "from sentence_transformers import SentenceTransformer\n",
    "\n",
    "model = SentenceTransformer('all-MiniLM-L6-v2', device=device)\n",
    "model"
   ]
  },
  {
   "cell_type": "code",
   "execution_count": 17,
   "id": "376e94c6-0e3f-4487-99af-e78d528067c5",
   "metadata": {},
   "outputs": [],
   "source": [
    "# blip model used to generate captions\n",
    "from transformers import pipeline\n",
    "\n",
    "captioner = pipeline(\"image-to-text\",model=\"Salesforce/blip-image-captioning-base\")"
   ]
  },
  {
   "cell_type": "code",
   "execution_count": 20,
   "id": "a8ebfa8c-dd07-48f2-b2bb-b71850b297cf",
   "metadata": {
    "scrolled": true
   },
   "outputs": [
    {
     "name": "stdout",
     "output_type": "stream",
     "text": [
      "{}\n",
      "\n",
      "{}\n",
      "\n",
      "{}\n",
      "\n",
      "{}\n",
      "\n",
      "{}\n",
      "\n"
     ]
    }
   ],
   "source": [
    "import pandas as pd\n",
    "from datetime import date, timedelta, datetime\n",
    "import requests\n",
    "\n",
    "# create a list with all dates between start date and today\n",
    "sdate = date(2023,9,1)   # start date\n",
    "edate = date.today()\n",
    "date_list = pd.date_range(sdate,edate-timedelta(days=1),freq='d')\n",
    "\n",
    "media_items_df = pd.DataFrame()\n",
    "\n",
    "for date in date_list:\n",
    "    \n",
    "    # get a list with all media items for specified date (year, month, day)\n",
    "    items_df, media_items_df = list_of_media_items(year = date.year, month = date.month, day = date.day, media_items_df = media_items_df)"
   ]
  },
  {
   "cell_type": "code",
   "execution_count": 21,
   "id": "8ab592f0-938b-4243-9bd9-429fd41799db",
   "metadata": {},
   "outputs": [],
   "source": [
    "media_items_df.drop(['productUrl', 'mimeType', 'creationTime', 'filename'], axis=1, inplace=True)"
   ]
  },
  {
   "cell_type": "code",
   "execution_count": 22,
   "id": "c213bb81-e285-4c62-8f42-29aacbb82f6b",
   "metadata": {},
   "outputs": [],
   "source": [
    "media_items_df.reset_index(drop=True, inplace=True)"
   ]
  },
  {
   "cell_type": "code",
   "execution_count": 23,
   "id": "de415fd0-1c1c-43c4-96b1-c12f858c44cb",
   "metadata": {},
   "outputs": [
    {
     "data": {
      "text/html": [
       "<div>\n",
       "<style scoped>\n",
       "    .dataframe tbody tr th:only-of-type {\n",
       "        vertical-align: middle;\n",
       "    }\n",
       "\n",
       "    .dataframe tbody tr th {\n",
       "        vertical-align: top;\n",
       "    }\n",
       "\n",
       "    .dataframe thead th {\n",
       "        text-align: right;\n",
       "    }\n",
       "</style>\n",
       "<table border=\"1\" class=\"dataframe\">\n",
       "  <thead>\n",
       "    <tr style=\"text-align: right;\">\n",
       "      <th></th>\n",
       "      <th>id</th>\n",
       "      <th>baseUrl</th>\n",
       "    </tr>\n",
       "  </thead>\n",
       "  <tbody>\n",
       "    <tr>\n",
       "      <th>0</th>\n",
       "      <td>ALuQekoEDdHn-4zJECI5IfbAr1UfwOmwa1LjKeLjMRD1h6...</td>\n",
       "      <td>https://lh3.googleusercontent.com/lr/AAJ1LKeq7...</td>\n",
       "    </tr>\n",
       "    <tr>\n",
       "      <th>1</th>\n",
       "      <td>ALuQekrYsr8xfGeVKydlZ5BV-8oqNeg8DIj5ZruswgnG-4...</td>\n",
       "      <td>https://lh3.googleusercontent.com/lr/AAJ1LKf2s...</td>\n",
       "    </tr>\n",
       "    <tr>\n",
       "      <th>2</th>\n",
       "      <td>ALuQekqBrUHCLeojoVet8LNKs6avSCkvMFLJ-NqH6Ybcks...</td>\n",
       "      <td>https://lh3.googleusercontent.com/lr/AAJ1LKdj2...</td>\n",
       "    </tr>\n",
       "    <tr>\n",
       "      <th>3</th>\n",
       "      <td>ALuQekq3jPhquGT-X6FbQ15ulkTMv8MjPeujfg24fgM8jn...</td>\n",
       "      <td>https://lh3.googleusercontent.com/lr/AAJ1LKe27...</td>\n",
       "    </tr>\n",
       "    <tr>\n",
       "      <th>4</th>\n",
       "      <td>ALuQekrTVjjzq-DKEWbjNLafYgHe3kGlUmuj1snCznFOmP...</td>\n",
       "      <td>https://lh3.googleusercontent.com/lr/AAJ1LKeMA...</td>\n",
       "    </tr>\n",
       "  </tbody>\n",
       "</table>\n",
       "</div>"
      ],
      "text/plain": [
       "                                                  id  \\\n",
       "0  ALuQekoEDdHn-4zJECI5IfbAr1UfwOmwa1LjKeLjMRD1h6...   \n",
       "1  ALuQekrYsr8xfGeVKydlZ5BV-8oqNeg8DIj5ZruswgnG-4...   \n",
       "2  ALuQekqBrUHCLeojoVet8LNKs6avSCkvMFLJ-NqH6Ybcks...   \n",
       "3  ALuQekq3jPhquGT-X6FbQ15ulkTMv8MjPeujfg24fgM8jn...   \n",
       "4  ALuQekrTVjjzq-DKEWbjNLafYgHe3kGlUmuj1snCznFOmP...   \n",
       "\n",
       "                                             baseUrl  \n",
       "0  https://lh3.googleusercontent.com/lr/AAJ1LKeq7...  \n",
       "1  https://lh3.googleusercontent.com/lr/AAJ1LKf2s...  \n",
       "2  https://lh3.googleusercontent.com/lr/AAJ1LKdj2...  \n",
       "3  https://lh3.googleusercontent.com/lr/AAJ1LKe27...  \n",
       "4  https://lh3.googleusercontent.com/lr/AAJ1LKeMA...  "
      ]
     },
     "execution_count": 23,
     "metadata": {},
     "output_type": "execute_result"
    }
   ],
   "source": [
    "media_items_df.head()"
   ]
  },
  {
   "cell_type": "code",
   "execution_count": 24,
   "id": "57b5e997-c9e9-4cea-a775-f5698ed5c566",
   "metadata": {},
   "outputs": [
    {
     "data": {
      "text/plain": [
       "172"
      ]
     },
     "execution_count": 24,
     "metadata": {},
     "output_type": "execute_result"
    }
   ],
   "source": [
    "len(media_items_df)"
   ]
  },
  {
   "cell_type": "code",
   "execution_count": 25,
   "id": "32e33c61-225a-49a5-810c-d8d110332a25",
   "metadata": {},
   "outputs": [
    {
     "name": "stderr",
     "output_type": "stream",
     "text": [
      "/Users/josh.poduska/Documents/llm-based-photo-search-app/photoapp/lib/python3.11/site-packages/transformers/generation/utils.py:1260: UserWarning: Using the model-agnostic default `max_length` (=20) to control thegeneration length. We recommend setting `max_new_tokens` to control the maximum length of the generation.\n",
      "  warnings.warn(\n"
     ]
    },
    {
     "data": {
      "text/plain": [
       "[{'generated_text': 'the screen of an iphone with the notifications on'}]"
      ]
     },
     "execution_count": 25,
     "metadata": {},
     "output_type": "execute_result"
    }
   ],
   "source": [
    "# test the captioner\n",
    "captioner(media_items_df['baseUrl'].values[0])"
   ]
  },
  {
   "cell_type": "code",
   "execution_count": 39,
   "id": "b4cfa486-168c-464d-97bf-546188b09da7",
   "metadata": {},
   "outputs": [],
   "source": [
    "from IPython.display import Image"
   ]
  },
  {
   "cell_type": "code",
   "execution_count": 40,
   "id": "239ec1ba-aff7-4141-9b63-0336d5642ec5",
   "metadata": {},
   "outputs": [
    {
     "data": {
      "text/html": [
       "<img src=\"https://lh3.googleusercontent.com/lr/AAJ1LKeq7MMjDDMuBEia45FWzC5t-fNJSb3eE96MKAlSIeLgImvW9mhO5kDVc0OvQe8dzRGdAegeYAr4UtNnTbFvn96R7e1x3-ls3hXutgB1P_IQCtkfxddBaPBv0SzaRgx35HNtydNOAuLOMWdvm2mdO-nha5YuiLrvAXrfw7pdu5JB7rjDG10DkkOwo7gxHergl_m1VdRqIq6n7eXBtFmKQekpAwVP1wF4iQ5e051toMv5xCaKR6ut6eLop5p3zQoVDpfAEQ3rRaNPgYj3ndJxfyeXbAx5aa-Syjv82aYAPC8TUTnoe-pPmziD6639qixk9ihelEOGDe5cCTVjoE6Daooa5SekSxfZ3C8qnXf3m2NA26TdouuevST7GopUuUT51t_tnpxiEGvxe1GrFBgTtRta2Z4hfyYn8nKGPrWdbsfGGMHdECz6OMUC0pR58z9YPxAm78irfIUzrfFC3CJn9qrr66VM9teQZ-ZCqlwdukcE5hQJLTFhIlsZxaU6Usefc3lfWKGkjlnozj3w6EmY8KhqInTUKcLUe11S9XXlfa1-1AaJh1RLKF57Sh9NlnHpkXbdE2VjJ8VuIioL4E96R8Uuy1sHAbrboMw2553lfyqRFGPNx87nvGKC9mTEa2lKvCschCu8AEwY2QgVNepgUWiPyJIN_seU86QJQ6pug96fwNlUvIc3c0Ja-YAtNnM837KDANRWiWBaZY-gXiRdPugZqBtUWpsGf7VtUskuHGD7KLcJvxWfhusB54YA9lfkwHhUOx63P-LMQiQxflCvnR3HWtGZ0wHCEPd7F1gK8ZqY0hcZXORUyc07u0gtNOgyikMmBYE-pM9hgCoDzX8P8L27ZzqANk2hKN1aLBvYwx_nKxa25EelTLcwdzpUxVfkVOErmMjpATb81a1i-EPdeNNXIm0ENzSWnX8EzRKl5ivUOIaYQ-vf_Z9kdJTchbnEvU6CbhG5x4vQsaoeP4RV88LFPYWltsdxmBX1kUK2cHj5LrXrstBy8ZERmQ3STzVP01VSzOfocfxQsT6Bl5toEYT-CySeUpMlOOGJG587oyEL5g\"/>"
      ],
      "text/plain": [
       "<IPython.core.display.Image object>"
      ]
     },
     "execution_count": 40,
     "metadata": {},
     "output_type": "execute_result"
    }
   ],
   "source": [
    "Image(url=media_items_df['baseUrl'].values[0])"
   ]
  },
  {
   "cell_type": "markdown",
   "id": "9dfc4aee-58a0-489a-88e4-7a931475c4ac",
   "metadata": {},
   "source": [
    "### Generate captions and embeddings of all your photos and videos"
   ]
  },
  {
   "cell_type": "code",
   "execution_count": 41,
   "id": "bab0a0c4-8eb5-4a10-8d18-f3fcea4f1e7b",
   "metadata": {},
   "outputs": [
    {
     "name": "stdout",
     "output_type": "stream",
     "text": [
      "0 of 172\n",
      "20 of 172\n",
      "40 of 172\n",
      "60 of 172\n",
      "80 of 172\n",
      "100 of 172\n",
      "120 of 172\n",
      "140 of 172\n",
      "160 of 172\n"
     ]
    }
   ],
   "source": [
    "img_embeddings = []\n",
    "img_captions = []\n",
    "img_ids = []\n",
    "\n",
    "for i, burl in enumerate(media_items_df['baseUrl'].values):\n",
    "    \n",
    "    if i % 20 == 0:\n",
    "        print(f\"{i} of {len(media_items_df)}\")\n",
    "        \n",
    "    try:\n",
    "        curr_id = media_items_df['id'].values[i]\n",
    "        # burl = media_items_df['baseUrl'].values[i]\n",
    "        curr_desc = captioner(burl)\n",
    "        curr_embedding = model.encode(curr_desc).tolist()\n",
    "        \n",
    "        img_ids.append(curr_id)\n",
    "        img_embeddings.append(curr_embedding[0])\n",
    "        img_captions.append(curr_desc[0])\n",
    "    except:\n",
    "        print(\"error - check if baseUrl has expired\")"
   ]
  },
  {
   "cell_type": "code",
   "execution_count": 42,
   "id": "7267c34d-886c-4d1a-9f40-de47ae09700a",
   "metadata": {},
   "outputs": [],
   "source": [
    "df_photos = pd.DataFrame({'id': img_ids, 'vector': img_embeddings, 'metadata': img_captions})"
   ]
  },
  {
   "cell_type": "code",
   "execution_count": 43,
   "id": "507daa01-899e-46cf-a3de-e01262f21107",
   "metadata": {},
   "outputs": [],
   "source": [
    "df_photos['baseUrl'] = media_items_df['baseUrl']"
   ]
  },
  {
   "cell_type": "code",
   "execution_count": 44,
   "id": "09e3d9ad-f871-4f44-817c-726047dfda1e",
   "metadata": {},
   "outputs": [
    {
     "data": {
      "text/html": [
       "<div>\n",
       "<style scoped>\n",
       "    .dataframe tbody tr th:only-of-type {\n",
       "        vertical-align: middle;\n",
       "    }\n",
       "\n",
       "    .dataframe tbody tr th {\n",
       "        vertical-align: top;\n",
       "    }\n",
       "\n",
       "    .dataframe thead th {\n",
       "        text-align: right;\n",
       "    }\n",
       "</style>\n",
       "<table border=\"1\" class=\"dataframe\">\n",
       "  <thead>\n",
       "    <tr style=\"text-align: right;\">\n",
       "      <th></th>\n",
       "      <th>id</th>\n",
       "      <th>vector</th>\n",
       "      <th>metadata</th>\n",
       "      <th>baseUrl</th>\n",
       "    </tr>\n",
       "  </thead>\n",
       "  <tbody>\n",
       "    <tr>\n",
       "      <th>0</th>\n",
       "      <td>ALuQekoEDdHn-4zJECI5IfbAr1UfwOmwa1LjKeLjMRD1h6...</td>\n",
       "      <td>[-0.0204818956553936, 0.023548683151602745, -0...</td>\n",
       "      <td>{'generated_text': 'the screen of an iphone wi...</td>\n",
       "      <td>https://lh3.googleusercontent.com/lr/AAJ1LKeq7...</td>\n",
       "    </tr>\n",
       "    <tr>\n",
       "      <th>1</th>\n",
       "      <td>ALuQekrYsr8xfGeVKydlZ5BV-8oqNeg8DIj5ZruswgnG-4...</td>\n",
       "      <td>[-0.054045457392930984, 0.10627054423093796, -...</td>\n",
       "      <td>{'generated_text': 'a family poses for a photo...</td>\n",
       "      <td>https://lh3.googleusercontent.com/lr/AAJ1LKf2s...</td>\n",
       "    </tr>\n",
       "    <tr>\n",
       "      <th>2</th>\n",
       "      <td>ALuQekqBrUHCLeojoVet8LNKs6avSCkvMFLJ-NqH6Ybcks...</td>\n",
       "      <td>[0.0678996816277504, 0.0504564493894577, -0.03...</td>\n",
       "      <td>{'generated_text': 'a white table with a white...</td>\n",
       "      <td>https://lh3.googleusercontent.com/lr/AAJ1LKdj2...</td>\n",
       "    </tr>\n",
       "    <tr>\n",
       "      <th>3</th>\n",
       "      <td>ALuQekq3jPhquGT-X6FbQ15ulkTMv8MjPeujfg24fgM8jn...</td>\n",
       "      <td>[0.08913969993591309, 0.04626549035310745, -0....</td>\n",
       "      <td>{'generated_text': 'a white chair with a white...</td>\n",
       "      <td>https://lh3.googleusercontent.com/lr/AAJ1LKe27...</td>\n",
       "    </tr>\n",
       "    <tr>\n",
       "      <th>4</th>\n",
       "      <td>ALuQekrTVjjzq-DKEWbjNLafYgHe3kGlUmuj1snCznFOmP...</td>\n",
       "      <td>[0.05451503023505211, 0.07686479389667511, -0....</td>\n",
       "      <td>{'generated_text': 'a white table with a small...</td>\n",
       "      <td>https://lh3.googleusercontent.com/lr/AAJ1LKeMA...</td>\n",
       "    </tr>\n",
       "  </tbody>\n",
       "</table>\n",
       "</div>"
      ],
      "text/plain": [
       "                                                  id  \\\n",
       "0  ALuQekoEDdHn-4zJECI5IfbAr1UfwOmwa1LjKeLjMRD1h6...   \n",
       "1  ALuQekrYsr8xfGeVKydlZ5BV-8oqNeg8DIj5ZruswgnG-4...   \n",
       "2  ALuQekqBrUHCLeojoVet8LNKs6avSCkvMFLJ-NqH6Ybcks...   \n",
       "3  ALuQekq3jPhquGT-X6FbQ15ulkTMv8MjPeujfg24fgM8jn...   \n",
       "4  ALuQekrTVjjzq-DKEWbjNLafYgHe3kGlUmuj1snCznFOmP...   \n",
       "\n",
       "                                              vector  \\\n",
       "0  [-0.0204818956553936, 0.023548683151602745, -0...   \n",
       "1  [-0.054045457392930984, 0.10627054423093796, -...   \n",
       "2  [0.0678996816277504, 0.0504564493894577, -0.03...   \n",
       "3  [0.08913969993591309, 0.04626549035310745, -0....   \n",
       "4  [0.05451503023505211, 0.07686479389667511, -0....   \n",
       "\n",
       "                                            metadata  \\\n",
       "0  {'generated_text': 'the screen of an iphone wi...   \n",
       "1  {'generated_text': 'a family poses for a photo...   \n",
       "2  {'generated_text': 'a white table with a white...   \n",
       "3  {'generated_text': 'a white chair with a white...   \n",
       "4  {'generated_text': 'a white table with a small...   \n",
       "\n",
       "                                             baseUrl  \n",
       "0  https://lh3.googleusercontent.com/lr/AAJ1LKeq7...  \n",
       "1  https://lh3.googleusercontent.com/lr/AAJ1LKf2s...  \n",
       "2  https://lh3.googleusercontent.com/lr/AAJ1LKdj2...  \n",
       "3  https://lh3.googleusercontent.com/lr/AAJ1LKe27...  \n",
       "4  https://lh3.googleusercontent.com/lr/AAJ1LKeMA...  "
      ]
     },
     "execution_count": 44,
     "metadata": {},
     "output_type": "execute_result"
    }
   ],
   "source": [
    "df_photos.head()"
   ]
  },
  {
   "cell_type": "markdown",
   "id": "c98edfef-b7c1-4428-a6c4-8ec807b5c5fc",
   "metadata": {
    "id": "forbidden-indication",
    "papermill": {
     "duration": 0.020515,
     "end_time": "2021-04-16T15:08:49.925687",
     "exception": false,
     "start_time": "2021-04-16T15:08:49.905172",
     "status": "completed"
    },
    "tags": []
   },
   "source": [
    "### Load and query embeddings with Pinecone"
   ]
  },
  {
   "cell_type": "markdown",
   "id": "05bf2a24-3233-4310-b210-c22d6cb17781",
   "metadata": {},
   "source": [
    "At the time of writting, Pinecone offers a free tier with one index: https://www.pinecone.io/pricing/"
   ]
  },
  {
   "cell_type": "code",
   "execution_count": 45,
   "id": "c8175266-24bb-42e4-87d6-b0dc60c6a0bd",
   "metadata": {},
   "outputs": [],
   "source": [
    "from tqdm.autonotebook import tqdm\n",
    "import getpass"
   ]
  },
  {
   "cell_type": "code",
   "execution_count": 49,
   "id": "14c4d2ef-b74f-4eba-8637-b596d6c8d655",
   "metadata": {
    "colab": {
     "base_uri": "https://localhost:8080/"
    },
    "id": "labeled-specialist",
    "outputId": "7d75712c-5f8b-45fd-f743-bdd50896e252",
    "papermill": {
     "duration": 0.344059,
     "end_time": "2021-04-16T15:08:49.297021",
     "exception": false,
     "start_time": "2021-04-16T15:08:48.952962",
     "status": "completed"
    },
    "tags": []
   },
   "outputs": [
    {
     "name": "stdout",
     "output_type": "stream",
     "text": [
      "Enter your Pinecone API key\n"
     ]
    },
    {
     "name": "stdin",
     "output_type": "stream",
     "text": [
      " ········\n"
     ]
    }
   ],
   "source": [
    "import os\n",
    "import pinecone\n",
    "\n",
    "# get api key from app.pinecone.io\n",
    "print(\"Enter your Pinecone API key\") \n",
    "api_key = getpass.getpass()\n",
    "\n",
    "# find your environment next to the api key in pinecone console\n",
    "# print(\"Enter your Pinecone Environment\") \n",
    "# env = getpass.getpass()\n",
    "env = 'gcp-starter'\n",
    "\n",
    "pinecone.init(\n",
    "    api_key=api_key,\n",
    "    environment=env\n",
    ")"
   ]
  },
  {
   "cell_type": "code",
   "execution_count": 50,
   "id": "fd90bff8-ce27-43c9-a939-e5d39c50c66a",
   "metadata": {
    "id": "EA2EcZsCoWS3",
    "tags": [
     "parameters"
    ]
   },
   "outputs": [],
   "source": [
    "# Giving our index a name\n",
    "index_name = \"photo-captions\""
   ]
  },
  {
   "cell_type": "code",
   "execution_count": 51,
   "id": "cdb7c112-27d5-4971-993b-6cfba804237f",
   "metadata": {
    "id": "synthetic-essex",
    "papermill": {
     "duration": 0.446682,
     "end_time": "2021-04-16T15:08:50.393195",
     "exception": false,
     "start_time": "2021-04-16T15:08:49.946513",
     "status": "completed"
    },
    "tags": []
   },
   "outputs": [],
   "source": [
    "# Delete the index, if an index of the same name already exists\n",
    "if index_name in pinecone.list_indexes():\n",
    "    pinecone.delete_index(index_name)"
   ]
  },
  {
   "cell_type": "markdown",
   "id": "5ae81520-8b83-42be-8ffc-d340444cb6b9",
   "metadata": {
    "id": "94LRI2H8Ch2B",
    "papermill": {
     "duration": 0.021764,
     "end_time": "2021-04-16T15:08:50.446400",
     "exception": false,
     "start_time": "2021-04-16T15:08:50.424636",
     "status": "completed"
    },
    "tags": []
   },
   "source": [
    "Creating a Pinecone Index."
   ]
  },
  {
   "cell_type": "code",
   "execution_count": 52,
   "id": "e8302b90-364a-49fb-8e57-e589f32ef046",
   "metadata": {},
   "outputs": [
    {
     "data": {
      "text/plain": [
       "384"
      ]
     },
     "execution_count": 52,
     "metadata": {},
     "output_type": "execute_result"
    }
   ],
   "source": [
    "# vector dimenstions\n",
    "vdim = len(df_photos['vector'][0])\n",
    "vdim"
   ]
  },
  {
   "cell_type": "code",
   "execution_count": 53,
   "id": "0ca6c530-9385-4f21-ad02-d91c42e12c75",
   "metadata": {
    "id": "4YwC8livCrn2",
    "papermill": {
     "duration": 13.756687,
     "end_time": "2021-04-16T15:09:04.224466",
     "exception": false,
     "start_time": "2021-04-16T15:08:50.467779",
     "status": "completed"
    },
    "tags": []
   },
   "outputs": [],
   "source": [
    "import time\n",
    "\n",
    "dimensions = vdim\n",
    "pinecone.create_index(name=index_name, dimension=dimensions, metric=\"cosine\")\n",
    "\n",
    "# wait for index to be ready before connecting\n",
    "while not pinecone.describe_index(index_name).status['ready']:\n",
    "    time.sleep(1)"
   ]
  },
  {
   "cell_type": "code",
   "execution_count": 54,
   "id": "89d9a9e2-1013-4fd6-92b7-29fdd1baeefb",
   "metadata": {
    "id": "toy-VhU4LO_O",
    "papermill": {
     "duration": 0.846255,
     "end_time": "2021-04-16T15:09:05.097384",
     "exception": false,
     "start_time": "2021-04-16T15:09:04.251129",
     "status": "completed"
    },
    "tags": []
   },
   "outputs": [],
   "source": [
    "index = pinecone.Index(index_name=index_name)"
   ]
  },
  {
   "cell_type": "markdown",
   "id": "3af03756-cca7-47cf-b989-dea635a7b9d7",
   "metadata": {},
   "source": [
    "load"
   ]
  },
  {
   "cell_type": "code",
   "execution_count": 55,
   "id": "9057160c-8d40-43b4-a010-ac4871c087ce",
   "metadata": {
    "colab": {
     "base_uri": "https://localhost:8080/"
    },
    "id": "efficient-parliament",
    "outputId": "0d9fbac4-4f8a-421e-95a9-0f441d2dcc16",
    "papermill": {
     "duration": 0.704503,
     "end_time": "2021-04-16T15:09:06.180549",
     "exception": false,
     "start_time": "2021-04-16T15:09:05.476046",
     "status": "completed"
    },
    "tags": []
   },
   "outputs": [
    {
     "data": {
      "text/plain": [
       "{'upserted_count': 172}"
      ]
     },
     "execution_count": 55,
     "metadata": {},
     "output_type": "execute_result"
    }
   ],
   "source": [
    "index.upsert(vectors=zip(df_photos.id, df_photos.vector, df_photos.metadata))  # insert vectors\n",
    "\n",
    "# wait for index to be ready before connecting\n",
    "while not pinecone.describe_index(index_name).status['ready']:\n",
    "    time.sleep(1)"
   ]
  },
  {
   "cell_type": "code",
   "execution_count": 57,
   "id": "b9798765-365b-44cf-8811-e28fbf180988",
   "metadata": {
    "colab": {
     "base_uri": "https://localhost:8080/"
    },
    "id": "enclosed-performer",
    "outputId": "5b67ec13-6863-4b1a-ac45-b57c569923ee",
    "papermill": {
     "duration": 0.140473,
     "end_time": "2021-04-16T15:09:06.352169",
     "exception": false,
     "start_time": "2021-04-16T15:09:06.211696",
     "status": "completed"
    },
    "tags": []
   },
   "outputs": [
    {
     "data": {
      "text/plain": [
       "{'dimension': 384,\n",
       " 'index_fullness': 0.00172,\n",
       " 'namespaces': {'': {'vector_count': 172}},\n",
       " 'total_vector_count': 172}"
      ]
     },
     "execution_count": 57,
     "metadata": {},
     "output_type": "execute_result"
    }
   ],
   "source": [
    "index.describe_index_stats()"
   ]
  },
  {
   "cell_type": "code",
   "execution_count": 58,
   "id": "a727c27b-fc63-4953-8206-eb3c58802a7c",
   "metadata": {
    "colab": {
     "base_uri": "https://localhost:8080/"
    },
    "id": "JWcO7jAK-N_1",
    "outputId": "69eb2969-b6f8-4ca1-c69b-8235be9970ec"
   },
   "outputs": [
    {
     "data": {
      "text/plain": [
       "{'matches': [{'id': 'ALuQekq3jPhquGT-X6FbQ15ulkTMv8MjPeujfg24fgM8jnLD-f_oh5n32DOGLmsMQmE8Y2tK_1GR4st32AT4skgQdzrb77lWPw',\n",
       "              'metadata': {'generated_text': 'a white chair with a white seat '\n",
       "                                             'and a white table'},\n",
       "              'score': 0.823199689,\n",
       "              'values': []},\n",
       "             {'id': 'ALuQekoVq5BubPE7CutfpJ1IAXSiTEjNDOVTXWjKasJ2ke_8evI1momxnYYh-qoEOhZwXir3YDcHNVQS7xnvAYNlnvRnqfx8QQ',\n",
       "              'metadata': {'generated_text': 'a black leather office chair '\n",
       "                                             'with a black leather seat'},\n",
       "              'score': 0.643893957,\n",
       "              'values': []},\n",
       "             {'id': 'ALuQekqBrUHCLeojoVet8LNKs6avSCkvMFLJ-NqH6YbcksBMG-oGYKpKRL1ieIMJpBFpGVEeLTkI22E2EAXPVIhnEo-LbO_CaQ',\n",
       "              'metadata': {'generated_text': 'a white table with a white top '\n",
       "                                             'and a white base'},\n",
       "              'score': 0.565575302,\n",
       "              'values': []},\n",
       "             {'id': 'ALuQekrx37g41hfCDQzzZHGMsCNAb9jdtdu_5jwcQRYWq6G-MajgNp4aKB0vH9rVoUXOwiQ1cukQNxipuKEn8ycFxEiGB3uhYg',\n",
       "              'metadata': {'generated_text': 'a white desk with a cork cork '\n",
       "                                             'board on top'},\n",
       "              'score': 0.536222,\n",
       "              'values': []},\n",
       "             {'id': 'ALuQekrTVjjzq-DKEWbjNLafYgHe3kGlUmuj1snCznFOmPXbtqjNSXUDJhbSkLVMSjSMDmJmJLi4O4n_zoupzLzfDSfXK4O0vA',\n",
       "              'metadata': {'generated_text': 'a white table with a small shelf '\n",
       "                                             'on top'},\n",
       "              'score': 0.488320291,\n",
       "              'values': []}],\n",
       " 'namespace': ''}"
      ]
     },
     "execution_count": 58,
     "metadata": {},
     "output_type": "execute_result"
    }
   ],
   "source": [
    "# input a semantic search phrase and query your photos\n",
    "query = \"white chair\"\n",
    "\n",
    "# create the query vector\n",
    "xq = model.encode(query).tolist()\n",
    "\n",
    "# now query\n",
    "xc = index.query(xq, top_k=5, include_metadata=True)\n",
    "xc"
   ]
  },
  {
   "cell_type": "code",
   "execution_count": 59,
   "id": "eff3bb36-6b00-4819-b15d-bc1abd915977",
   "metadata": {},
   "outputs": [],
   "source": [
    "img_urls = []\n",
    "\n",
    "for i in range(0,5):\n",
    "    img_id = xc['matches'][i]['id']\n",
    "    img_url = df_photos.loc[df_photos['id'] == img_id, 'baseUrl'].iloc[0]\n",
    "    img_urls.append(img_url)"
   ]
  },
  {
   "cell_type": "code",
   "execution_count": null,
   "id": "f59a7fd6-374c-4340-a28e-5cf198a6dbb5",
   "metadata": {},
   "outputs": [],
   "source": [
    "Image(url=img_urls[0])"
   ]
  },
  {
   "cell_type": "code",
   "execution_count": null,
   "id": "c9f9a783-8316-419d-a7e9-5837c520e87d",
   "metadata": {},
   "outputs": [],
   "source": [
    "Image(url=img_urls[1])"
   ]
  },
  {
   "cell_type": "code",
   "execution_count": null,
   "id": "e7472004-7f55-4e64-9573-c566d764c6d7",
   "metadata": {},
   "outputs": [],
   "source": [
    "Image(url=img_urls[2])"
   ]
  },
  {
   "cell_type": "code",
   "execution_count": null,
   "id": "2ea81f20-878c-4685-b23a-1ea4d97c79e1",
   "metadata": {},
   "outputs": [],
   "source": [
    "Image(url=img_urls[3])"
   ]
  },
  {
   "cell_type": "code",
   "execution_count": null,
   "id": "41d01539-4b1d-4a25-a3e5-39d32eba608e",
   "metadata": {},
   "outputs": [],
   "source": [
    "Image(url=img_urls[4])"
   ]
  },
  {
   "cell_type": "code",
   "execution_count": null,
   "id": "894be91e-e74d-4f50-8874-b9a33a94e1a1",
   "metadata": {},
   "outputs": [],
   "source": []
  }
 ],
 "metadata": {
  "kernelspec": {
   "display_name": "photoapp",
   "language": "python",
   "name": "photoapp"
  },
  "language_info": {
   "codemirror_mode": {
    "name": "ipython",
    "version": 3
   },
   "file_extension": ".py",
   "mimetype": "text/x-python",
   "name": "python",
   "nbconvert_exporter": "python",
   "pygments_lexer": "ipython3",
   "version": "3.11.4"
  }
 },
 "nbformat": 4,
 "nbformat_minor": 5
}
