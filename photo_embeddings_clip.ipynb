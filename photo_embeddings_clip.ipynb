{
 "cells": [
  {
   "cell_type": "markdown",
   "id": "1fd612bd-514b-4e8a-9897-b98873be70ec",
   "metadata": {
    "tags": []
   },
   "source": [
    "# Semantic search of your personal cloud photos"
   ]
  },
  {
   "cell_type": "markdown",
   "id": "47899f82-b0f2-494e-85be-63aeb3a4de4a",
   "metadata": {},
   "source": [
    "### A generative AI app that uses:\n",
    "\n",
    "#### **Pinecone** vector database for embedding storage and semantic search\n",
    "\n",
    "#### **Hugging Face** models and pipelines\n",
    "#### **OpenAI CLIP** model for image and query text embedding creation\n",
    "\n",
    "#### **Google API** to access your personal Google Photos to perform semantic search and find \"that one photo\" \n",
    "\n",
    "#### Tested locally on a **MacBook Pro**, M2 chip"
   ]
  },
  {
   "cell_type": "markdown",
   "id": "26355de8-4e06-4939-9f09-aa36bc5adba1",
   "metadata": {
    "tags": []
   },
   "source": [
    "# References"
   ]
  },
  {
   "cell_type": "markdown",
   "id": "7f3c9562-7c4f-4191-aafc-65ab0d2e0448",
   "metadata": {},
   "source": [
    "**polzerdo55862** has a great notebook tutorial on using the Google Photos API via python. Some of the Google API cells below are a copy/paste from that notebook.\n",
    "https://github.com/polzerdo55862/google-photos-api/blob/main/Google_API.ipynb\n",
    "\n",
    "**Pinecone** quick tour shows how to initialize, fill, and delete a Pinecone \"index\" \n",
    "https://github.com/pinecone-io/examples/blob/master/docs/quick-tour/hello-pinecone.ipynb\n",
    "\n",
    "**Pinecone** examples of how to query an index\n",
    "https://github.com/pinecone-io/examples/blob/master/docs/semantic-search.ipynb\n",
    "\n",
    "**HuggingFace** example of how to use CLIP in a stand-alone query and search pipeline\n",
    "https://huggingface.co/openai/clip-vit-large-patch14\n",
    "\n",
    "**Antti Havanko** example of how to use CLIP to generate embeddings for use in a vector search engine\n",
    "https://anttihavanko.medium.com/building-image-search-with-openai-clip-5a1deaa7a6e2"
   ]
  },
  {
   "cell_type": "markdown",
   "id": "50e29487-c2c3-4574-b29c-7c747e1e1004",
   "metadata": {
    "tags": []
   },
   "source": [
    "# Getting Started Tips"
   ]
  },
  {
   "cell_type": "markdown",
   "id": "7eac8f7c-932d-486f-900b-9fe3fa178138",
   "metadata": {
    "tags": []
   },
   "source": [
    "## Create virtualenv and install required packages\n",
    "\n",
    "(use Anaconda or follow these steps 1 - 4)"
   ]
  },
  {
   "cell_type": "markdown",
   "id": "6927380f-c820-4ef4-8f32-e68cbf500709",
   "metadata": {},
   "source": [
    "1. Open the terminal and navigate to your working directory. The folder structure of the repo includes the following directories:\n",
    "\n",
    "    * **credentials**: folder to store the credentials you need to authenticate your \"Python App\" to the Google Photos Library\n",
    "\n",
    "\n",
    "2. Create a virtual environment `python3 -m venv venv`, activate it `. ./venv/bin/activate` and install requirements `pip install -r requirements.txt`\n",
    "\n",
    "3. Install ipykernel which provides the IPython kernel for Jupyter: `pip install ipykernel` and add your virtual environment to Jupyter: `python -m ipykernel install --user --name=venv` \n",
    "\n",
    "    You can check the installation by navigating to /Users/<user>/Library/Jupyter/kernels. There should be a new directory called 'photoapp'. In the folder you can find the file 'kernel.json', which contains the path for the used python installation is defined.\n",
    "\n",
    "4. Start jupyter notebook or jupyter lab: `jupyter lab .` and select the just created environment \"venv\" as Kernel\n",
    "\n",
    "![](read_me_img/select_kernel.png)"
   ]
  },
  {
   "cell_type": "markdown",
   "id": "5434000b-35ff-4aa2-a8b8-cc9a26f548d9",
   "metadata": {
    "tags": []
   },
   "source": [
    "## Enable Google API"
   ]
  },
  {
   "cell_type": "markdown",
   "id": "81fa3746-d4a0-4795-8e5a-226490d6e554",
   "metadata": {},
   "source": [
    "5. Enable Google Photos API Service\n",
    "\n",
    "   1. Go to the Google API Console [https://console.cloud.google.com/](https://console.cloud.google.com/). \n",
    "   2. From the menu bar, select a project or create a new project.\n",
    "   \n",
    "      ![](read_me_img/gifs/create_new_project_speed.gif)\n",
    "      \n",
    "   3. To open the Google API Library, from the Navigation menu, select APIs & Services > Library. \n",
    "   4. Search for \"Google Photos Library API\". Select the correct result and click \"enable\". If its already enabled, click \"manage\"\n",
    "   \n",
    "       ![](read_me_img/gifs/enable_api_speed.gif)\n",
    "       \n",
    "   5. Afterwards it will forward you to the \"Photos API/Service details\" page (https://console.cloud.google.com/apis/credentials)\n",
    "\n",
    "\n",
    "6. Configure \"OAuth consent screen\" ([Source](https://stackoverflow.com/questions/65184355/error-403-access-denied-from-google-authentication-web-api-despite-google-acc))\n",
    "\n",
    "   1. Go back to the Photos API Service details page and click on \"[OAuth consent screen](https://console.cloud.google.com/apis/credentials/consent)\" on the left side (below \"Credentials\") \n",
    "   2. Add a Test user: Use the email of the account you want to use for testing the API call\n",
    "   \n",
    "        ![](read_me_img/add_test_user.png)\n",
    "\n",
    "7. Create API/OAuth credentials\n",
    "\n",
    "   1. On the left side of the Google Photos API Service page, click Credentials\n",
    "   2. Click on \"Create Credentials\" and create a OAuth client ID\n",
    "   3. As application type I am choosing \"Desktop app\" and give your client you want to use to call the API a name\n",
    "   4. Download the JSON file to the created credentials, rename it to \"client_secret.json\" and save it in the folder \"credentials\"\n",
    "   \n",
    "        ![](read_me_img/gifs/create_credentials_speed.gif)"
   ]
  },
  {
   "cell_type": "markdown",
   "id": "9897cf20-e6fc-468a-873a-588957fb00b0",
   "metadata": {},
   "source": [
    "# Building the Semantic Photo Seach Application"
   ]
  },
  {
   "cell_type": "markdown",
   "id": "5015c27a-0a21-4cd5-aed0-e7d77343b3ed",
   "metadata": {},
   "source": [
    "verify your venv"
   ]
  },
  {
   "cell_type": "code",
   "execution_count": 1,
   "id": "85475dc1-1cb4-466a-88a7-2a756faa747e",
   "metadata": {
    "tags": []
   },
   "outputs": [
    {
     "name": "stdout",
     "output_type": "stream",
     "text": [
      "/Users/joshuapoduska/anaconda3/envs/photoapp/bin/python\n",
      "/Users/joshuapoduska/anaconda3/envs/photoapp/bin/pip\n"
     ]
    }
   ],
   "source": [
    "!which python\n",
    "!which pip"
   ]
  },
  {
   "cell_type": "markdown",
   "id": "498c8c38-d525-462d-b3e6-a16b9da9c7a8",
   "metadata": {
    "tags": []
   },
   "source": [
    "## Use the Google Photo Library API for the first time\n",
    "\n",
    "The following section shows how to use OAuth Credentials for authentication with the Google Library API. The code section below covers the following steps:"
   ]
  },
  {
   "cell_type": "markdown",
   "id": "400d724f-c302-4d5f-b3be-9341a4a0fc84",
   "metadata": {},
   "source": [
    "Initialize GooglePhotosApi `google_photos_api = GooglePhotosApi()`\n",
    "\n",
    "Create Service using the `client_secret.json` file: `service = google_photos_api.create_service()`\n",
    "        \n",
    "       Calling the API for the first time:\n",
    "       1. Google will ask you if you want to grant the App the required permissions you defined with the scope\n",
    "       2. Since its just a test app at the moment, Google will make you aware of that > Click on \"Continue\"\n",
    "       3. Once you granted the app the required permissions, you will see a \"token_......pickle\" file created in the folder \"credentials\". This token file will be used for future calls."
   ]
  },
  {
   "cell_type": "markdown",
   "id": "51a796ce-f44a-47b9-aaec-6b35927ca8d1",
   "metadata": {
    "tags": []
   },
   "source": [
    "Class to establish GoogleAPI credentials"
   ]
  },
  {
   "cell_type": "code",
   "execution_count": 2,
   "id": "33e55f6c-d7a8-4541-961e-b28a768eeec6",
   "metadata": {
    "tags": []
   },
   "outputs": [],
   "source": [
    "import pickle\n",
    "import os\n",
    "from google_auth_oauthlib.flow import Flow, InstalledAppFlow\n",
    "from googleapiclient.discovery import build\n",
    "#from googleapiclient.http import MediaFileUpload\n",
    "from google.auth.transport.requests import Request\n",
    "import requests\n",
    "\n",
    "class GooglePhotosApi:\n",
    "    def __init__(self,\n",
    "                 api_name = 'photoslibrary',\n",
    "                 client_secret_file= r'./credentials/client_secret.json',\n",
    "                 api_version = 'v1',\n",
    "                 scopes = ['https://www.googleapis.com/auth/photoslibrary']):\n",
    "        '''\n",
    "        Args:\n",
    "            client_secret_file: string, location where the requested credentials are saved\n",
    "            api_version: string, the version of the service\n",
    "            api_name: string, name of the api e.g.\"docs\",\"photoslibrary\",...\n",
    "            api_version: version of the api\n",
    "\n",
    "        Return:\n",
    "            service:\n",
    "        '''\n",
    "\n",
    "        self.api_name = api_name\n",
    "        self.client_secret_file = client_secret_file\n",
    "        self.api_version = api_version\n",
    "        self.scopes = scopes\n",
    "        self.cred_pickle_file = f'./credentials/token_{self.api_name}_{self.api_version}.pickle'\n",
    "\n",
    "        self.cred = None\n",
    "\n",
    "    def run_local_server(self):\n",
    "        # is checking if there is already a pickle file with relevant credentials\n",
    "        if os.path.exists(self.cred_pickle_file):\n",
    "            with open(self.cred_pickle_file, 'rb') as token:\n",
    "                self.cred = pickle.load(token)\n",
    "\n",
    "        # if there is no pickle file with stored credentials, create one using google_auth_oauthlib.flow\n",
    "        if not self.cred or not self.cred.valid:\n",
    "            if self.cred and self.cred.expired and self.cred.refresh_token:\n",
    "                self.cred.refresh(Request())\n",
    "            else:\n",
    "                flow = InstalledAppFlow.from_client_secrets_file(self.client_secret_file, self.scopes)\n",
    "                self.cred = flow.run_local_server()\n",
    "\n",
    "            with open(self.cred_pickle_file, 'wb') as token:\n",
    "                pickle.dump(self.cred, token)\n",
    "        \n",
    "        return self.cred\n"
   ]
  },
  {
   "cell_type": "markdown",
   "id": "13c785f8-0908-4051-be2c-10fdfdd07825",
   "metadata": {
    "tags": []
   },
   "source": [
    "### Initialize photos api and create service"
   ]
  },
  {
   "cell_type": "code",
   "execution_count": 4,
   "id": "04f0efa2",
   "metadata": {
    "tags": []
   },
   "outputs": [],
   "source": [
    "# No errors means you are good to go\n",
    "# A common fix is to delete the pickle file in the credentials folder and rerun this cell\n",
    "\n",
    "google_photos_api = GooglePhotosApi()\n",
    "creds = google_photos_api.run_local_server()"
   ]
  },
  {
   "cell_type": "markdown",
   "id": "b9c22001-bad3-4cf6-a3c8-d3f6ba2e14d6",
   "metadata": {},
   "source": [
    "## Load the images and build metadata"
   ]
  },
  {
   "cell_type": "markdown",
   "id": "e1797045-ffd9-4178-9d4d-752ad4067ad4",
   "metadata": {},
   "source": [
    "### Setup"
   ]
  },
  {
   "cell_type": "markdown",
   "id": "eb37b37d-9c1c-4c88-9f4f-4f2eeefc3c3a",
   "metadata": {},
   "source": [
    "Use python requests module and the token file to retrieve data from Google Photos"
   ]
  },
  {
   "cell_type": "code",
   "execution_count": 5,
   "id": "27ee5847-923b-40f1-87cd-4b935dbd328d",
   "metadata": {
    "tags": []
   },
   "outputs": [],
   "source": [
    "import json\n",
    "import requests\n",
    "\n",
    "def get_response_from_medium_api(year, month, day):\n",
    "    url = 'https://photoslibrary.googleapis.com/v1/mediaItems:search'\n",
    "    payload = {\n",
    "                  \"filters\": {\n",
    "                    \"dateFilter\": {\n",
    "                      \"dates\": [\n",
    "                        {\n",
    "                          \"day\": day,\n",
    "                          \"month\": month,\n",
    "                          \"year\": year\n",
    "                        }\n",
    "                      ]\n",
    "                    }\n",
    "                  }\n",
    "                }\n",
    "    headers = {\n",
    "        'content-type': 'application/json',\n",
    "        'Authorization': 'Bearer {}'.format(creds.token)\n",
    "    }\n",
    "    \n",
    "    try:\n",
    "        res = requests.request(\"POST\", url, data=json.dumps(payload), headers=headers)\n",
    "    except:\n",
    "        print('Request error') \n",
    "    \n",
    "    return(res)"
   ]
  },
  {
   "cell_type": "markdown",
   "id": "10a38726-10aa-47d8-9f57-4d575ce57193",
   "metadata": {},
   "source": [
    "Use the response of the API to write the results and required metadata into a data frame:"
   ]
  },
  {
   "cell_type": "code",
   "execution_count": 6,
   "id": "0cd790ac-1a44-4f79-afb9-1d6621c3f3d9",
   "metadata": {
    "tags": []
   },
   "outputs": [],
   "source": [
    "def list_of_media_items(year, month, day, media_items_df):\n",
    "    '''\n",
    "    Args:\n",
    "        year, month, day: day for the filter of the API call \n",
    "        media_items_df: existing data frame with all find media items so far\n",
    "    Return:\n",
    "        media_items_df: media items data frame extended by the articles found for the specified tag\n",
    "        items_df: media items uploaded on specified date\n",
    "    '''\n",
    "\n",
    "    items_list_df = pd.DataFrame()\n",
    "    \n",
    "    # create request for specified date\n",
    "    response = get_response_from_medium_api(year, month, day)\n",
    "\n",
    "    try:\n",
    "        for item in response.json()['mediaItems']:\n",
    "            items_df = pd.DataFrame(item)\n",
    "            items_df = items_df.rename(columns={\"mediaMetadata\": \"creationTime\"})\n",
    "            items_df.set_index('creationTime')\n",
    "            items_df = items_df[items_df.index == 'creationTime']\n",
    "\n",
    "            #append the existing media_items data frame\n",
    "            items_list_df = pd.concat([items_list_df, items_df])\n",
    "            media_items_df = pd.concat([media_items_df, items_df])\n",
    "    \n",
    "    except:\n",
    "        print(response.text)\n",
    "\n",
    "    return(items_list_df, media_items_df)"
   ]
  },
  {
   "cell_type": "markdown",
   "id": "36ea31ba-376c-4c30-85be-30d57b6022ad",
   "metadata": {},
   "source": [
    "Data fields of note:\n",
    "\n",
    "**id** Immutable\n",
    "      \n",
    "**baseUrl** Base URLs within the Google Photos Library API allow you to access the bytes of the media items. They are valid for 60 minutes. \n",
    "\n",
    "(https://developers.google.com/photos/library/guides/access-media-items)"
   ]
  },
  {
   "cell_type": "code",
   "execution_count": 7,
   "id": "d7c718f1-a77c-4b91-8266-8b15ca1ab92e",
   "metadata": {
    "id": "NKc5Q7u9YKog",
    "tags": []
   },
   "outputs": [
    {
     "name": "stderr",
     "output_type": "stream",
     "text": [
      "/Users/joshuapoduska/anaconda3/envs/photoapp/lib/python3.11/site-packages/tqdm/auto.py:21: TqdmWarning: IProgress not found. Please update jupyter and ipywidgets. See https://ipywidgets.readthedocs.io/en/stable/user_install.html\n",
      "  from .autonotebook import tqdm as notebook_tqdm\n"
     ]
    }
   ],
   "source": [
    "import timm\n",
    "import transformers\n",
    "import torch"
   ]
  },
  {
   "cell_type": "markdown",
   "id": "fa3e7b53-0c75-4076-aead-b57f9153d64f",
   "metadata": {},
   "source": [
    "Connect to MacBook MPS if NVIDIA is not available"
   ]
  },
  {
   "cell_type": "code",
   "execution_count": 8,
   "id": "a82dd1d0-7d39-434a-9cd6-66ffbddc07d3",
   "metadata": {
    "tags": []
   },
   "outputs": [],
   "source": [
    "# Check that MPS is available\n",
    "if not torch.backends.mps.is_available():\n",
    "    if not torch.backends.mps.is_built():\n",
    "        print(\"MPS not available because the current PyTorch install was not \"\n",
    "              \"built with MPS enabled.\")\n",
    "    else:\n",
    "        print(\"MPS not available because the current MacOS version is not 12.3+ \"\n",
    "              \"and/or you do not have an MPS-enabled device on this machine.\")\n",
    "\n",
    "else:\n",
    "    mps_device = torch.device(\"mps\")"
   ]
  },
  {
   "cell_type": "code",
   "execution_count": 9,
   "id": "c983f780-aeee-4d43-85f4-1aeb7cd84e7a",
   "metadata": {
    "tags": []
   },
   "outputs": [],
   "source": [
    "# device = 'cuda' if torch.cuda.is_available() else 'cpu'\n",
    "device = 'cuda' if torch.cuda.is_available() else mps_device"
   ]
  },
  {
   "cell_type": "code",
   "execution_count": 10,
   "id": "0c146702-b467-4c36-aaa3-e8b66f1f55fc",
   "metadata": {
    "tags": []
   },
   "outputs": [
    {
     "data": {
      "text/plain": [
       "device(type='mps')"
      ]
     },
     "execution_count": 10,
     "metadata": {},
     "output_type": "execute_result"
    }
   ],
   "source": [
    "device"
   ]
  },
  {
   "cell_type": "markdown",
   "id": "cabd179d-e3da-4893-b59e-812e9c991939",
   "metadata": {},
   "source": [
    "### Get list of media files for the dates specified"
   ]
  },
  {
   "cell_type": "code",
   "execution_count": 14,
   "id": "a8ebfa8c-dd07-48f2-b2bb-b71850b297cf",
   "metadata": {
    "scrolled": true,
    "tags": []
   },
   "outputs": [
    {
     "name": "stdout",
     "output_type": "stream",
     "text": [
      "{}\n",
      "\n",
      "{}\n",
      "\n",
      "{}\n",
      "\n",
      "{}\n",
      "\n",
      "{}\n",
      "\n",
      "{}\n",
      "\n",
      "{}\n",
      "\n",
      "{}\n",
      "\n",
      "{}\n",
      "\n",
      "{}\n",
      "\n",
      "{}\n",
      "\n",
      "{}\n",
      "\n",
      "{}\n",
      "\n",
      "{}\n",
      "\n",
      "{}\n",
      "\n",
      "{}\n",
      "\n",
      "{}\n",
      "\n"
     ]
    }
   ],
   "source": [
    "import pandas as pd\n",
    "from datetime import date, timedelta, datetime\n",
    "import requests\n",
    "\n",
    "# create a list with all dates between start date and today\n",
    "sdate = date(2023,2,1)  \n",
    "edate = date(2023,4,1)\n",
    "# sdate = date(2023,9,21)  \n",
    "# edate = date(2023,10,2)\n",
    "# sdate = date(2023,10,2)  \n",
    "# edate = date.today()\n",
    "date_list = pd.date_range(sdate,edate-timedelta(days=1),freq='d')\n",
    "\n",
    "media_items_df = pd.DataFrame()\n",
    "\n",
    "for date in date_list:\n",
    "    \n",
    "    # get a list with all media items for specified date (year, month, day)\n",
    "    items_df, media_items_df = list_of_media_items(year = date.year, \n",
    "                                                   month = date.month, \n",
    "                                                   day = date.day, \n",
    "                                                   media_items_df = media_items_df)"
   ]
  },
  {
   "cell_type": "code",
   "execution_count": 15,
   "id": "57b5e997-c9e9-4cea-a775-f5698ed5c566",
   "metadata": {
    "tags": []
   },
   "outputs": [
    {
     "name": "stdout",
     "output_type": "stream",
     "text": [
      "172 images captured\n"
     ]
    }
   ],
   "source": [
    "print(f'{len(media_items_df)} images captured')"
   ]
  },
  {
   "cell_type": "markdown",
   "id": "e94489fd-32d9-4060-b7f5-fea64c8b8ea4",
   "metadata": {
    "tags": []
   },
   "source": [
    "### Build metadata in the dataframe"
   ]
  },
  {
   "cell_type": "code",
   "execution_count": 16,
   "id": "8ab592f0-938b-4243-9bd9-429fd41799db",
   "metadata": {
    "tags": []
   },
   "outputs": [],
   "source": [
    "media_items_df.drop(['productUrl', 'mimeType', 'filename'], axis=1, inplace=True)\n",
    "media_items_df['year'] = [int(x) for x in media_items_df['creationTime'].str[0:4].values]\n",
    "media_items_df['month'] = [int(x) for x in media_items_df['creationTime'].str[5:7].values]\n",
    "media_items_df['day'] = [int(x) for x in media_items_df['creationTime'].str[8:10].values]\n",
    "media_items_df.reset_index(drop=True, inplace=True)"
   ]
  },
  {
   "cell_type": "markdown",
   "id": "9f038718-7c5c-4f6c-920a-8e5ea39d1706",
   "metadata": {},
   "source": [
    "### Show first image"
   ]
  },
  {
   "cell_type": "code",
   "execution_count": 17,
   "id": "b4cfa486-168c-464d-97bf-546188b09da7",
   "metadata": {
    "tags": []
   },
   "outputs": [
    {
     "data": {
      "text/html": [
       "<img src=\"https://lh3.googleusercontent.com/lr/AAJ1LKcpe9uyy36sHWFcgOvEU9JFuq1q01pc_tDUqe6vJHPtCKfTeLkMgtr5F1spt3ghK9PxpA4jtvOtJ7e54kXgy2a621luACIuhoFFsbSXhT1Mf-h5KibP5WG4HiIuA7NhOoZvWfWZ5M7vhwNpXRWoX3iZAB_AZhce5zgTEkObhkXdz-jaKAEI8TSMJh7F15VCGEQaSBb56bp5XTzbFGfQLdzGNW5PpAHnoya1cSJkKL6G-WlSzDVrGZta9kSC_FwpsiucYvRu9p0a6om_A0YyCxGWNaOaNQW86LxBgywVocwSEiPaYJ2kg9mu5gr70CjvPCtFmw0aB0DCZnbZvq-EuevouP9TCNN8MsmsdYTuVmT2rblkKvO9LZqHuitKCL-bGUCLyDn46z4ls0KBq_jgbwb9qhjl1HtxkJOeDfG9SVo3n8Tv3UpDhxUNNUfB0lNcDwjvGIeoLY45ARLdaT9Vi0xSlzlna4c4QgZ1VLG2uD4y1BkRMFUgx-PMLXwPVqon4LLSbccJjtfXSsB_6pJExz4-mMTSXTpADRcsDSx_YOf23DBpWJ9BoHJbDCfuDdbdXJxVK4NUwNaWHyNKo4i2rKgS3GUVuiHQRWkDJAxhm0CeHyXm70bxOlpcJ5xw84c2qqAOpAVJWu5RtAZO5MiK9JVTs47Z5NAvJUWZEMjUayMX36iEqlyLJPEZy50FzCCoXmQZrtqjBDL-_onkPZOAKFDOEHalHIJ1osBSOTSm7YhiMjbF_Sr-mfTW07eRdx92YV5D3EAmwuHwAEpofB15dbIE-gfZe0IWhTisEUMSrI6C1s-OASmyl_pkSCLhIsozJ81wl65WR-V-Bk2b2spsPjT_u7MlqiJC9HW5TkSWiI45FvwTsoQa2o_VDPjCFpj2u0s6_I0ZijJEegG_FRF2_VL1DBjwytrPL8xJyU2wRn82FalNjcGPYU4cP8YuSeIcgE9ZOksX7fuScjIIa5r7GZNnjADV2hm-OAJ3GoOmSofSHir7lgZwU1IOHSKH-KQi3-_XSMLtBBvloIIH5P9pqYprD9b81jk7wAvCI84BnqYcrg\"/>"
      ],
      "text/plain": [
       "<IPython.core.display.Image object>"
      ]
     },
     "execution_count": 17,
     "metadata": {},
     "output_type": "execute_result"
    }
   ],
   "source": [
    "from IPython.display import Image\n",
    "Image(url=media_items_df['baseUrl'].values[0])"
   ]
  },
  {
   "cell_type": "markdown",
   "id": "a42cf5b6-c786-4161-b3b3-634a242eb4f5",
   "metadata": {
    "tags": []
   },
   "source": [
    "## Generate image embeddings"
   ]
  },
  {
   "cell_type": "markdown",
   "id": "b0085f1f-4622-4075-be39-3471e2dacc63",
   "metadata": {},
   "source": [
    "### Load images into memory"
   ]
  },
  {
   "cell_type": "code",
   "execution_count": 18,
   "id": "f750ba91-b7dc-4702-a58e-de779aca2b82",
   "metadata": {
    "tags": []
   },
   "outputs": [],
   "source": [
    "from PIL import Image\n",
    "import requests\n",
    "\n",
    "url_list = media_items_df['baseUrl'].values.tolist()\n",
    "images=[Image.open(requests.get(i, stream=True).raw)  for i in url_list]"
   ]
  },
  {
   "cell_type": "markdown",
   "id": "910b0a32-9817-46e6-aced-2e0558a651be",
   "metadata": {},
   "source": [
    "### Load the Model"
   ]
  },
  {
   "cell_type": "code",
   "execution_count": 21,
   "id": "f2b99be8-3386-409f-993d-8de384f6868c",
   "metadata": {
    "tags": []
   },
   "outputs": [],
   "source": [
    "from sentence_transformers import SentenceTransformer\n",
    "\n",
    "img_model = SentenceTransformer('clip-ViT-B-32')"
   ]
  },
  {
   "cell_type": "markdown",
   "id": "b9abb398-df72-486e-b4fe-9ebd77399446",
   "metadata": {},
   "source": [
    "### Create embeddings"
   ]
  },
  {
   "cell_type": "code",
   "execution_count": 22,
   "id": "116b4b41-dd77-47f0-bc3e-b3d136fbd623",
   "metadata": {
    "tags": []
   },
   "outputs": [],
   "source": [
    "embeddings = img_model.encode(images)"
   ]
  },
  {
   "cell_type": "markdown",
   "id": "d9b3ec00-be7a-4d4b-8844-6dfe408c298a",
   "metadata": {},
   "source": [
    "### Load embeddings and metadata into the dataframe"
   ]
  },
  {
   "cell_type": "code",
   "execution_count": 23,
   "id": "85064ac9-57d9-4615-9050-77b12575399c",
   "metadata": {
    "tags": []
   },
   "outputs": [
    {
     "data": {
      "text/html": [
       "<div>\n",
       "<style scoped>\n",
       "    .dataframe tbody tr th:only-of-type {\n",
       "        vertical-align: middle;\n",
       "    }\n",
       "\n",
       "    .dataframe tbody tr th {\n",
       "        vertical-align: top;\n",
       "    }\n",
       "\n",
       "    .dataframe thead th {\n",
       "        text-align: right;\n",
       "    }\n",
       "</style>\n",
       "<table border=\"1\" class=\"dataframe\">\n",
       "  <thead>\n",
       "    <tr style=\"text-align: right;\">\n",
       "      <th></th>\n",
       "      <th>id</th>\n",
       "      <th>baseUrl</th>\n",
       "      <th>creationTime</th>\n",
       "      <th>year</th>\n",
       "      <th>month</th>\n",
       "      <th>day</th>\n",
       "      <th>vector</th>\n",
       "      <th>metadata</th>\n",
       "    </tr>\n",
       "  </thead>\n",
       "  <tbody>\n",
       "    <tr>\n",
       "      <th>0</th>\n",
       "      <td>ALuQekrbqnqakVkqJYakQ4j5qzL4TTTbwqRT69PsQhJFaB...</td>\n",
       "      <td>https://lh3.googleusercontent.com/lr/AAJ1LKcpe...</td>\n",
       "      <td>2023-02-02T03:54:08Z</td>\n",
       "      <td>2023</td>\n",
       "      <td>2</td>\n",
       "      <td>2</td>\n",
       "      <td>[-0.19268657267093658, 0.28584080934524536, 0....</td>\n",
       "      <td>{'year': 2023, 'month': 2, 'day': 2}</td>\n",
       "    </tr>\n",
       "    <tr>\n",
       "      <th>1</th>\n",
       "      <td>ALuQekqGvuwe5LuX__EGFulwMtnGJBJSPJuOS4_r-MMnid...</td>\n",
       "      <td>https://lh3.googleusercontent.com/lr/AAJ1LKdPe...</td>\n",
       "      <td>2023-02-02T03:53:54Z</td>\n",
       "      <td>2023</td>\n",
       "      <td>2</td>\n",
       "      <td>2</td>\n",
       "      <td>[-0.16807980835437775, 0.10398601740598679, 0....</td>\n",
       "      <td>{'year': 2023, 'month': 2, 'day': 2}</td>\n",
       "    </tr>\n",
       "    <tr>\n",
       "      <th>2</th>\n",
       "      <td>ALuQekr9UXxZI9QDrGA7LpnzU-ETdX_858BchNH_3Fn5As...</td>\n",
       "      <td>https://lh3.googleusercontent.com/lr/AAJ1LKcda...</td>\n",
       "      <td>2023-02-04T07:12:15Z</td>\n",
       "      <td>2023</td>\n",
       "      <td>2</td>\n",
       "      <td>4</td>\n",
       "      <td>[-0.2119603306055069, 0.1973370760679245, 0.37...</td>\n",
       "      <td>{'year': 2023, 'month': 2, 'day': 4}</td>\n",
       "    </tr>\n",
       "    <tr>\n",
       "      <th>3</th>\n",
       "      <td>ALuQekobrryEN7uljUaErFG2SmiJwFaQfrB4UfVxphnceg...</td>\n",
       "      <td>https://lh3.googleusercontent.com/lr/AAJ1LKc3t...</td>\n",
       "      <td>2023-02-04T07:12:15Z</td>\n",
       "      <td>2023</td>\n",
       "      <td>2</td>\n",
       "      <td>4</td>\n",
       "      <td>[0.11843045800924301, 0.11033139377832413, 0.0...</td>\n",
       "      <td>{'year': 2023, 'month': 2, 'day': 4}</td>\n",
       "    </tr>\n",
       "    <tr>\n",
       "      <th>4</th>\n",
       "      <td>ALuQeko0Yzx8x4L9eI5nxhT6Q4srmwAGC4W1N11d-jDG1H...</td>\n",
       "      <td>https://lh3.googleusercontent.com/lr/AAJ1LKf0G...</td>\n",
       "      <td>2023-02-04T07:12:15Z</td>\n",
       "      <td>2023</td>\n",
       "      <td>2</td>\n",
       "      <td>4</td>\n",
       "      <td>[-0.1757127046585083, 0.6187204122543335, 0.44...</td>\n",
       "      <td>{'year': 2023, 'month': 2, 'day': 4}</td>\n",
       "    </tr>\n",
       "  </tbody>\n",
       "</table>\n",
       "</div>"
      ],
      "text/plain": [
       "                                                  id  \\\n",
       "0  ALuQekrbqnqakVkqJYakQ4j5qzL4TTTbwqRT69PsQhJFaB...   \n",
       "1  ALuQekqGvuwe5LuX__EGFulwMtnGJBJSPJuOS4_r-MMnid...   \n",
       "2  ALuQekr9UXxZI9QDrGA7LpnzU-ETdX_858BchNH_3Fn5As...   \n",
       "3  ALuQekobrryEN7uljUaErFG2SmiJwFaQfrB4UfVxphnceg...   \n",
       "4  ALuQeko0Yzx8x4L9eI5nxhT6Q4srmwAGC4W1N11d-jDG1H...   \n",
       "\n",
       "                                             baseUrl          creationTime  \\\n",
       "0  https://lh3.googleusercontent.com/lr/AAJ1LKcpe...  2023-02-02T03:54:08Z   \n",
       "1  https://lh3.googleusercontent.com/lr/AAJ1LKdPe...  2023-02-02T03:53:54Z   \n",
       "2  https://lh3.googleusercontent.com/lr/AAJ1LKcda...  2023-02-04T07:12:15Z   \n",
       "3  https://lh3.googleusercontent.com/lr/AAJ1LKc3t...  2023-02-04T07:12:15Z   \n",
       "4  https://lh3.googleusercontent.com/lr/AAJ1LKf0G...  2023-02-04T07:12:15Z   \n",
       "\n",
       "   year  month  day                                             vector  \\\n",
       "0  2023      2    2  [-0.19268657267093658, 0.28584080934524536, 0....   \n",
       "1  2023      2    2  [-0.16807980835437775, 0.10398601740598679, 0....   \n",
       "2  2023      2    4  [-0.2119603306055069, 0.1973370760679245, 0.37...   \n",
       "3  2023      2    4  [0.11843045800924301, 0.11033139377832413, 0.0...   \n",
       "4  2023      2    4  [-0.1757127046585083, 0.6187204122543335, 0.44...   \n",
       "\n",
       "                               metadata  \n",
       "0  {'year': 2023, 'month': 2, 'day': 2}  \n",
       "1  {'year': 2023, 'month': 2, 'day': 2}  \n",
       "2  {'year': 2023, 'month': 2, 'day': 4}  \n",
       "3  {'year': 2023, 'month': 2, 'day': 4}  \n",
       "4  {'year': 2023, 'month': 2, 'day': 4}  "
      ]
     },
     "execution_count": 23,
     "metadata": {},
     "output_type": "execute_result"
    }
   ],
   "source": [
    "img_embeddings = []\n",
    "for i, embedding in enumerate(embeddings):\n",
    "    img_embeddings.append(embeddings[i].tolist())\n",
    "    \n",
    "media_items_df['vector'] = img_embeddings\n",
    "media_items_df['metadata'] = media_items_df.loc[:,['year','month','day']].to_dict('records')\n",
    "media_items_df.head()"
   ]
  },
  {
   "cell_type": "markdown",
   "id": "5d496556-e0da-4c42-bf00-80a4a2b9847c",
   "metadata": {
    "id": "forbidden-indication",
    "papermill": {
     "duration": 0.020515,
     "end_time": "2021-04-16T15:08:49.925687",
     "exception": false,
     "start_time": "2021-04-16T15:08:49.905172",
     "status": "completed"
    },
    "tags": []
   },
   "source": [
    "## Load embeddings to Pinecone"
   ]
  },
  {
   "cell_type": "markdown",
   "id": "81dbdf9b-babf-4f99-96eb-49fa54aeeb03",
   "metadata": {},
   "source": [
    "Pinecone offers a free tier with one index: https://www.pinecone.io/pricing/"
   ]
  },
  {
   "cell_type": "markdown",
   "id": "980bd3db-3619-4def-84db-97d276073e67",
   "metadata": {
    "id": "94LRI2H8Ch2B",
    "papermill": {
     "duration": 0.021764,
     "end_time": "2021-04-16T15:08:50.446400",
     "exception": false,
     "start_time": "2021-04-16T15:08:50.424636",
     "status": "completed"
    },
    "tags": []
   },
   "source": [
    "### Create a Pinecone index"
   ]
  },
  {
   "cell_type": "code",
   "execution_count": 24,
   "id": "80b0a1ee-f46f-4cf6-a8b3-ddd8aeb65d2c",
   "metadata": {
    "tags": []
   },
   "outputs": [],
   "source": [
    "from tqdm.autonotebook import tqdm\n",
    "import getpass"
   ]
  },
  {
   "cell_type": "code",
   "execution_count": 25,
   "id": "fb3d4192-3dda-4c1c-a265-82a2d317d5c3",
   "metadata": {
    "colab": {
     "base_uri": "https://localhost:8080/"
    },
    "id": "labeled-specialist",
    "outputId": "7d75712c-5f8b-45fd-f743-bdd50896e252",
    "papermill": {
     "duration": 0.344059,
     "end_time": "2021-04-16T15:08:49.297021",
     "exception": false,
     "start_time": "2021-04-16T15:08:48.952962",
     "status": "completed"
    },
    "tags": []
   },
   "outputs": [
    {
     "name": "stdout",
     "output_type": "stream",
     "text": [
      "Enter your Pinecone API key\n"
     ]
    },
    {
     "name": "stdin",
     "output_type": "stream",
     "text": [
      " ········\n"
     ]
    }
   ],
   "source": [
    "import os\n",
    "import pinecone\n",
    "\n",
    "# get api key from app.pinecone.io\n",
    "print(\"Enter your Pinecone API key\") \n",
    "api_key = getpass.getpass()\n",
    "\n",
    "# find your environment next to the api key in pinecone console\n",
    "# print(\"Enter your Pinecone Environment\") \n",
    "# env = getpass.getpass()\n",
    "env = 'gcp-starter'\n",
    "\n",
    "pinecone.init(\n",
    "    api_key=api_key,\n",
    "    environment=env\n",
    ")"
   ]
  },
  {
   "cell_type": "code",
   "execution_count": 63,
   "id": "288ea999-421e-4def-b5d2-128ca68eec87",
   "metadata": {
    "id": "EA2EcZsCoWS3",
    "tags": [
     "parameters"
    ]
   },
   "outputs": [],
   "source": [
    "# Giving our index a name\n",
    "index_name = \"photo-captions\""
   ]
  },
  {
   "cell_type": "code",
   "execution_count": 64,
   "id": "139dc71f-7e17-4437-bec3-17919c80bccc",
   "metadata": {
    "id": "synthetic-essex",
    "papermill": {
     "duration": 0.446682,
     "end_time": "2021-04-16T15:08:50.393195",
     "exception": false,
     "start_time": "2021-04-16T15:08:49.946513",
     "status": "completed"
    },
    "tags": []
   },
   "outputs": [],
   "source": [
    "# Delete the index, if an index of the same name already exists\n",
    "if index_name in pinecone.list_indexes():\n",
    "    pinecone.delete_index(index_name)"
   ]
  },
  {
   "cell_type": "code",
   "execution_count": 65,
   "id": "352f7789-92e6-40c3-b33e-99e94497e484",
   "metadata": {
    "tags": []
   },
   "outputs": [
    {
     "name": "stdout",
     "output_type": "stream",
     "text": [
      "512 dimentions in each vector\n",
      "172 images captured\n"
     ]
    }
   ],
   "source": [
    "# vector dimenstions\n",
    "vdim = len(media_items_df['vector'][0])\n",
    "print(f'{vdim} dimentions in each vector')\n",
    "\n",
    "#vector count\n",
    "vcount = len(media_items_df)\n",
    "print(f'{len(media_items_df)} images captured')"
   ]
  },
  {
   "cell_type": "code",
   "execution_count": 66,
   "id": "3c8e73be-13a6-48db-ab17-6b201d88bc9b",
   "metadata": {
    "id": "4YwC8livCrn2",
    "papermill": {
     "duration": 13.756687,
     "end_time": "2021-04-16T15:09:04.224466",
     "exception": false,
     "start_time": "2021-04-16T15:08:50.467779",
     "status": "completed"
    },
    "tags": []
   },
   "outputs": [],
   "source": [
    "import time\n",
    "\n",
    "pinecone.create_index(name=index_name, dimension=vdim, metric=\"cosine\")\n",
    "\n",
    "# wait for index to be ready before connecting\n",
    "while not pinecone.describe_index(index_name).status['ready']:\n",
    "    time.sleep(1)"
   ]
  },
  {
   "cell_type": "markdown",
   "id": "35133e3d-9762-40ee-a7a2-22f139cc453f",
   "metadata": {},
   "source": [
    "### Parallel async index load in batches of 100"
   ]
  },
  {
   "cell_type": "code",
   "execution_count": 68,
   "id": "b94c1791-ba4d-470c-bdb6-975bbce05624",
   "metadata": {
    "tags": []
   },
   "outputs": [],
   "source": [
    "import random\n",
    "import itertools\n",
    "\n",
    "def chunks(iterable, batch_size=100):\n",
    "    \"\"\"A helper function to break an iterable into chunks of size batch_size.\"\"\"\n",
    "    it = iter(iterable)\n",
    "    chunk = tuple(itertools.islice(it, batch_size))\n",
    "    while chunk:\n",
    "        yield chunk\n",
    "        chunk = tuple(itertools.islice(it, batch_size))"
   ]
  },
  {
   "cell_type": "code",
   "execution_count": 69,
   "id": "2de3a7a6-a9c0-4ea3-87c9-46250c84e12c",
   "metadata": {
    "tags": []
   },
   "outputs": [],
   "source": [
    "vectors=zip(media_items_df.id, media_items_df.vector, media_items_df.metadata)\n",
    "index = pinecone.Index(index_name=index_name)"
   ]
  },
  {
   "cell_type": "code",
   "execution_count": 70,
   "id": "73f3be0c-649b-4c63-9dc3-d08cbefb8310",
   "metadata": {
    "tags": []
   },
   "outputs": [],
   "source": [
    "# Upsert data with 100 vectors per upsert request asynchronously\n",
    "# - Create pinecone.Index with pool_threads=30 (limits to 30 simultaneous requests)\n",
    "# - Pass async_req=True to index.upsert()\n",
    "with pinecone.Index(index_name=index_name, pool_threads=30) as index:\n",
    "    # Send requests in parallel\n",
    "    async_results = [\n",
    "        index.upsert(vectors=ids_vectors_chunk, async_req=True)\n",
    "        for ids_vectors_chunk in chunks(vectors, batch_size=100)\n",
    "    ]\n",
    "    # Wait for and retrieve responses (this raises in case of error)\n",
    "    [async_result.get() for async_result in async_results]"
   ]
  },
  {
   "cell_type": "code",
   "execution_count": 79,
   "id": "fdb03091-75aa-45d8-b298-55570804bb87",
   "metadata": {
    "tags": []
   },
   "outputs": [
    {
     "data": {
      "text/plain": [
       "{'dimension': 512,\n",
       " 'index_fullness': 0.00172,\n",
       " 'namespaces': {'': {'vector_count': 172}},\n",
       " 'total_vector_count': 172}"
      ]
     },
     "execution_count": 79,
     "metadata": {},
     "output_type": "execute_result"
    }
   ],
   "source": [
    "while index.describe_index_stats()['total_vector_count'] == 0:\n",
    "    index.describe_index_stats()"
   ]
  },
  {
   "cell_type": "markdown",
   "id": "a1e156af-31cc-49db-8f59-c4720809e780",
   "metadata": {
    "id": "forbidden-indication",
    "papermill": {
     "duration": 0.020515,
     "end_time": "2021-04-16T15:08:49.925687",
     "exception": false,
     "start_time": "2021-04-16T15:08:49.905172",
     "status": "completed"
    },
    "tags": []
   },
   "source": [
    "# Query embeddings with Pinecone"
   ]
  },
  {
   "cell_type": "markdown",
   "id": "477c89af-6272-4867-ac5e-5bda6d43bbc8",
   "metadata": {},
   "source": [
    "### Load the Text Model"
   ]
  },
  {
   "cell_type": "code",
   "execution_count": 33,
   "id": "40f31fa5-2598-4c49-8505-989b46108bf1",
   "metadata": {
    "tags": []
   },
   "outputs": [],
   "source": [
    "text_model = SentenceTransformer('sentence-transformers/clip-ViT-B-32-multilingual-v1')"
   ]
  },
  {
   "cell_type": "markdown",
   "id": "ff56f76c-99ea-4d2b-a180-e4f6e755b3f0",
   "metadata": {},
   "source": [
    "### Helper functions"
   ]
  },
  {
   "cell_type": "code",
   "execution_count": 34,
   "id": "8626cafe-7f96-45a8-a4f0-616b9db3089e",
   "metadata": {
    "tags": []
   },
   "outputs": [],
   "source": [
    "import ipyplot"
   ]
  },
  {
   "cell_type": "code",
   "execution_count": 35,
   "id": "e1e4f613-d66c-4e01-93a7-ac0bccb86cbe",
   "metadata": {
    "tags": []
   },
   "outputs": [],
   "source": [
    "def month_name(month):\n",
    "    if month == 1: month_text = 'January'\n",
    "    if month == 2: month_text = 'February'\n",
    "    if month == 3: month_text = 'March'\n",
    "    if month == 4: month_text = 'April'\n",
    "    if month == 5: month_text = 'May'\n",
    "    if month == 6: month_text = 'June'\n",
    "    if month == 7: month_text = 'July'\n",
    "    if month == 8: month_text = 'August'\n",
    "    if month == 9: month_text = 'September'\n",
    "    if month == 10: month_text = 'October'\n",
    "    if month == 11: month_text = 'November'\n",
    "    if month == 12: month_text = 'December'\n",
    "    return month_text"
   ]
  },
  {
   "cell_type": "code",
   "execution_count": 36,
   "id": "efa2eea1-aee8-4aba-a8af-ac86bad90460",
   "metadata": {
    "colab": {
     "base_uri": "https://localhost:8080/"
    },
    "id": "JWcO7jAK-N_1",
    "outputId": "69eb2969-b6f8-4ca1-c69b-8235be9970ec",
    "tags": []
   },
   "outputs": [],
   "source": [
    "def query_images(query, years_filter, months_filter, top_k):\n",
    "    \n",
    "    # create the query vector\n",
    "    xq = text_model.encode(query).tolist()\n",
    "\n",
    "    # now query\n",
    "    xc = index.query(xq,\n",
    "                     filter= {\n",
    "                         \"year\": {\"$in\":years_filter},\n",
    "                         \"month\": {\"$in\":months_filter}\n",
    "                     }, \n",
    "                     top_k= top_k, \n",
    "                     include_metadata=True)\n",
    "\n",
    "    img_urls = []\n",
    "    meta_text = []\n",
    "\n",
    "    for i in range(0,top_k):\n",
    "        img_id = xc['matches'][i]['id']\n",
    "        img_url = media_items_df.loc[media_items_df['id'] == img_id, 'baseUrl'].iloc[0]\n",
    "        img_urls.append(img_url)\n",
    "        img_year = media_items_df.loc[media_items_df['id'] == img_id, 'metadata'].iloc[0]['year']\n",
    "        img_month = media_items_df.loc[media_items_df['id'] == img_id, 'metadata'].iloc[0]['month']\n",
    "        img_text = month_name(img_month) + ' of ' + str(img_year)\n",
    "        meta_text.append(img_text)\n",
    "\n",
    "    ipyplot.plot_images(img_urls, meta_text, img_width=250, show_url=False)"
   ]
  },
  {
   "cell_type": "markdown",
   "id": "246e4d83-eb4a-4b3c-bf3f-3548a9670538",
   "metadata": {},
   "source": [
    "### Queries"
   ]
  },
  {
   "cell_type": "code",
   "execution_count": 37,
   "id": "be8a1e7a-2fc1-4ba7-97cc-c9abef72f51f",
   "metadata": {
    "tags": []
   },
   "outputs": [],
   "source": [
    "years_filter = [2023]\n",
    "months_filter = [2, 3]\n",
    "top_k = 3"
   ]
  },
  {
   "cell_type": "code",
   "execution_count": 80,
   "id": "fefcfd61-03ae-49f4-9fc9-83d95131b826",
   "metadata": {
    "tags": []
   },
   "outputs": [
    {
     "data": {
      "text/html": [
       "\n",
       "    <style>\n",
       "        #ipyplot-html-viewer-toggle-Pt5AZFWH52f2LstNpAFkde {\n",
       "            position: absolute;\n",
       "            top: -9999px;\n",
       "            left: -9999px;\n",
       "            visibility: hidden;\n",
       "        }\n",
       "\n",
       "        #ipyplot-html-viewer-label-Pt5AZFWH52f2LstNpAFkde { \n",
       "            position: relative;\n",
       "            display: inline-block;\n",
       "            cursor: pointer;\n",
       "            color: blue;\n",
       "            text-decoration: underline;\n",
       "        }\n",
       "\n",
       "        #ipyplot-html-viewer-textarea-Pt5AZFWH52f2LstNpAFkde {\n",
       "            background: lightgrey;\n",
       "            width: 100%;\n",
       "            height: 0px;\n",
       "            display: none;\n",
       "        }\n",
       "\n",
       "        #ipyplot-html-viewer-toggle-Pt5AZFWH52f2LstNpAFkde:checked ~ #ipyplot-html-viewer-textarea-Pt5AZFWH52f2LstNpAFkde {\n",
       "            height: 200px;\n",
       "            display: block;\n",
       "        }\n",
       "\n",
       "        #ipyplot-html-viewer-toggle-Pt5AZFWH52f2LstNpAFkde:checked + #ipyplot-html-viewer-label-Pt5AZFWH52f2LstNpAFkde:after {\n",
       "            content: \"hide html\";\n",
       "            position: absolute;\n",
       "            top: 0;\n",
       "            left: 0;\n",
       "            right: 0;\n",
       "            bottom: 0;\n",
       "            background: white;\n",
       "            cursor: pointer;\n",
       "            color: blue;\n",
       "            text-decoration: underline;\n",
       "        }\n",
       "    </style>\n",
       "    <div>\n",
       "        <input type=\"checkbox\" id=\"ipyplot-html-viewer-toggle-Pt5AZFWH52f2LstNpAFkde\">\n",
       "        <label id=\"ipyplot-html-viewer-label-Pt5AZFWH52f2LstNpAFkde\" for=\"ipyplot-html-viewer-toggle-Pt5AZFWH52f2LstNpAFkde\">show html</label>\n",
       "        <textarea id=\"ipyplot-html-viewer-textarea-Pt5AZFWH52f2LstNpAFkde\" readonly>\n",
       "            \n",
       "        <style>\n",
       "        #ipyplot-imgs-container-div-ahcePdgvns5U9D3hTQaPPR {\n",
       "            width: 100%;\n",
       "            height: 100%;\n",
       "            margin: 0%;\n",
       "            overflow: auto;\n",
       "            position: relative;\n",
       "            overflow-y: scroll;\n",
       "        }\n",
       "\n",
       "        div.ipyplot-placeholder-div-ahcePdgvns5U9D3hTQaPPR {\n",
       "            width: 250px;\n",
       "            display: inline-block;\n",
       "            margin: 3px;\n",
       "            position: relative;\n",
       "        }\n",
       "\n",
       "        div.ipyplot-content-div-ahcePdgvns5U9D3hTQaPPR {\n",
       "            width: 250px;\n",
       "            background: white;\n",
       "            display: inline-block;\n",
       "            vertical-align: top;\n",
       "            text-align: center;\n",
       "            position: relative;\n",
       "            border: 2px solid #ddd;\n",
       "            top: 0;\n",
       "            left: 0;\n",
       "        }\n",
       "\n",
       "        div.ipyplot-content-div-ahcePdgvns5U9D3hTQaPPR span.ipyplot-img-close {\n",
       "            display: none;\n",
       "        }\n",
       "\n",
       "        div.ipyplot-content-div-ahcePdgvns5U9D3hTQaPPR span {\n",
       "            width: 100%;\n",
       "            height: 100%;\n",
       "            position: absolute;\n",
       "            top: 0;\n",
       "            left: 0;\n",
       "        }\n",
       "\n",
       "        div.ipyplot-content-div-ahcePdgvns5U9D3hTQaPPR img {\n",
       "            width: 250px;\n",
       "        }\n",
       "\n",
       "        div.ipyplot-content-div-ahcePdgvns5U9D3hTQaPPR span.ipyplot-img-close:hover {\n",
       "            cursor: zoom-out;\n",
       "        }\n",
       "        div.ipyplot-content-div-ahcePdgvns5U9D3hTQaPPR span.ipyplot-img-expand:hover {\n",
       "            cursor: zoom-in;\n",
       "        }\n",
       "\n",
       "        div[id^=ipyplot-content-div-ahcePdgvns5U9D3hTQaPPR]:target {\n",
       "            transform: scale(2.5);\n",
       "            transform-origin: left top;\n",
       "            z-index: 5000;\n",
       "            top: 0;\n",
       "            left: 0;\n",
       "            position: absolute;\n",
       "        }\n",
       "\n",
       "        div[id^=ipyplot-content-div-ahcePdgvns5U9D3hTQaPPR]:target span.ipyplot-img-close {\n",
       "            display: block;\n",
       "        }\n",
       "\n",
       "        div[id^=ipyplot-content-div-ahcePdgvns5U9D3hTQaPPR]:target span.ipyplot-img-expand {\n",
       "            display: none;\n",
       "        }\n",
       "        </style>\n",
       "    <div id=\"ipyplot-imgs-container-div-ahcePdgvns5U9D3hTQaPPR\">\n",
       "    <div class=\"ipyplot-placeholder-div-ahcePdgvns5U9D3hTQaPPR\">\n",
       "        <div id=\"ipyplot-content-div-ahcePdgvns5U9D3hTQaPPR-V7iSTndKnPBKjfvty6xTnX\" class=\"ipyplot-content-div-ahcePdgvns5U9D3hTQaPPR\">\n",
       "            <h4 style=\"font-size: 12px; word-wrap: break-word;\">February of 2023</h4>\n",
       "            <img src=\"https://lh3.googleusercontent.com/lr/AAJ1LKdQcZxru8yTxLl-CcGF2VXb690lFuiYP7bYlojTk1Xi7w8IfmZhmLBYuhtW-2U9gBkdqQIueMHxDl1NuHA4YOS7UJBdGTmm2u8DTWg1_iwziQvncfmiK0ughXLxwnFKdIJha_3izXSwWYlKzxNinWIH3r2VmZ5h2dNA7eIToKEVXXkSZrMNIO1dgj5YGLXNDA0zpoISMbVVdFMvgPHeu9pNu2FoO3Qeh6OGA9diZFao8SjCx-WXEISPDcVslTd1xDmz21sUDX3sdf5TlTw9_krR_37PkPmoP7V06QrnpBrlf5f93RBJoPCYsXuP89cho1Ec5I6s6O9wgBVRuU5swMgXavRVqZ4fZTYjAbUQOEhbToml6-VlTXXHEB1gTb70TT8cw26Y8AiEMk_H52slDkd2rcKRsKgmiyinPl_uBsV2d6majssfMi6WiBLME44Lr6dS86AUM1Hk7tbMvXxXFQDrDYt0rRatdznPJbwo8VVN3vcpM6zzxlvSEDDLON9lDMNM9eZrSm5_hy6wesK-eKBubltK-mxpjEdPQHz3ucBB8pjQFbGqiaJybdXLvZbuUpCdpj6upBZwvAmsmJhpHxz1AeHIjkSnY-EdBwgqkq8iQcbuOn88j6onFJF6GCTgrFwgBg1baLSBUBxSncqvhBkMpspcAWAdp7YxxB1DhiYe1Q7L9CEHuzvj5Nt0C1mHqNnIrgELjBdOqdTuknH0i8w7zPlannKgxDuHhwSFOf5dgDcQDx41COxHOQGlEOTr1INO4kZPHDnka9HbJP-sajurLZipgYcwbS8jN0Y_hqBXPZb7G98aHdeUvKEGtFXsd5KKb1WzECkWS6FDgFuBHo5DOoBD4oVcW_aH8fPrNxwuhVKpRTYXcgiadMEHYoXCOaUk_hfSiDz4bEGw71Enq9h-51QskFjeg08SX3gc0SMQ8h0iBzmum-Qzir0Qtrtr2t2RbLDkJs3ePUmGYjlHTFA37Vp0DOF4g8G36pmRz2z9Zx3YvS8YIZIm-6jVbbom6lv5NfmDiIMmCuLa0Lkt9oHrFW4HDTv_RxnVYh2EZb1MEw\"/>\n",
       "            <a href=\"#!\">\n",
       "                <span class=\"ipyplot-img-close\"/>\n",
       "            </a>\n",
       "            <a href=\"#ipyplot-content-div-ahcePdgvns5U9D3hTQaPPR-V7iSTndKnPBKjfvty6xTnX\">\n",
       "                <span class=\"ipyplot-img-expand\"/>\n",
       "            </a>\n",
       "        </div>\n",
       "    </div>\n",
       "    \n",
       "    <div class=\"ipyplot-placeholder-div-ahcePdgvns5U9D3hTQaPPR\">\n",
       "        <div id=\"ipyplot-content-div-ahcePdgvns5U9D3hTQaPPR-Urahc5HXwrvx6C7aWRoRRQ\" class=\"ipyplot-content-div-ahcePdgvns5U9D3hTQaPPR\">\n",
       "            <h4 style=\"font-size: 12px; word-wrap: break-word;\">February of 2023</h4>\n",
       "            <img src=\"https://lh3.googleusercontent.com/lr/AAJ1LKc3GqNlis4ymUuVUCu-d1B07qgKDToYnw4wKsTuKulhoKqMLiBCOXVcKs1P4s_0zlbggdC3pAJ9BTWk_CQUw1zZ6XKWliTZVltWwEFPevzNC_jLX5srNAaAC5GY_9Rdi-Mo_H0GuGfVEr4GqsBe00W3bSg5xbiOh-ryOyVfYmCknzx5x5XAawo81AOa-yy_fMtIMJ-fKp5xtry_WlDy-PVZM5Ek-AwQ-BS7FNedkwbecLMztjCqR80aodgGBXhKgUVD-OJzcJM1cvIEPeWdH_ix7l8q6xFRF8bSNSnSQvcZ37zR4SGT-pzLzisGWvncfD6Rvj5CpfVGGX6neseslhKFZ6MrJ4oYAKrHW-ACeKhD7cSFEb_em-Xt56UGJaWmih_IhH9l8NyldtQASTCf2-yxhL9UA_s3XEFF62hEm3dNk-ENatxh366G2vLNfYljXaMCCjosppJUlpqvZnJE63n0bwfoZJkWM-yZPwg-DzJ5VTk7bd8yEAphwBbTpV7FIyLKbXH2qAeGL-OT_MdW2osc0X6Zj4NKPya2L_64SZE5phO9AuaMU1Tn1szOP2bPnY6grGjWeKnlMfyfpmnqz5LeaIgRIr5gJ1xgdiYDj2YH2P13Pj1GN6i-6e4rbke6zUMJuL77-z1mn-cSEBImPADa-WZL68f1dOfW__LQoY2LK6LsYeFrQv_4gNnJTasGVcmARn3yNn5U8e05OL42a1ZkhWg2A-85ZiwXUiysQFeEaKwIyWKDSoY5hHc17TXYbqVe_MEyytAB8SY8TU1WAanI7yqWsVaSEsXIt7e3XrHAOuRyMZaoaBsbof46L2hrtLhQdAw5fI1YOliw3K1PO_G5X92VMmKFXFo95Ek729IQ1grRZ8pFGXw8hcaPT6D-WQWamqbTvqryHxYsTKHzk4PRTfvTk9Jgl8aTIDvAeeNKpKuSpN_pcHoOKnp2Z9wt_FbDS7n2vMO1Iyy-WiBUW0lLLm9BWAvK7YQ_ZsYQMADoT4BJbYYkfhbLAmKH5a3muLnxMaVU5j40jgdu0NJoIILj8VDyS8XbHF66CawLHdZVWQ\"/>\n",
       "            <a href=\"#!\">\n",
       "                <span class=\"ipyplot-img-close\"/>\n",
       "            </a>\n",
       "            <a href=\"#ipyplot-content-div-ahcePdgvns5U9D3hTQaPPR-Urahc5HXwrvx6C7aWRoRRQ\">\n",
       "                <span class=\"ipyplot-img-expand\"/>\n",
       "            </a>\n",
       "        </div>\n",
       "    </div>\n",
       "    \n",
       "    <div class=\"ipyplot-placeholder-div-ahcePdgvns5U9D3hTQaPPR\">\n",
       "        <div id=\"ipyplot-content-div-ahcePdgvns5U9D3hTQaPPR-K8PeQwoXTvBWv7nY7zEKyb\" class=\"ipyplot-content-div-ahcePdgvns5U9D3hTQaPPR\">\n",
       "            <h4 style=\"font-size: 12px; word-wrap: break-word;\">February of 2023</h4>\n",
       "            <img src=\"https://lh3.googleusercontent.com/lr/AAJ1LKfFKqXqon_EYCQgJxVtYOypAi4Jt7RSKTGqst1ragbDqoEc_azYob7nzfzn9FzlLF6KwnAyiyj2lM9jWyTYNd82Sih61UqRN7iNyhDQbaSnqFQGRYgIdr4xFzTi0ZFw3MW4I62b5QJg9ScI6DxAD0y3wFERMPmhtsG9SefoobCsAQfevc1jOUvF5ZKCwXrZB7pHbTAAMlVGYtEKIK47awmcY6vlwkMJEqvwc0HgTlgHAhOXu50j07OHzTL1TIbZ9Cv0eaOXQNHsIb_X3JSe9MXxCOw1k62q936LAdFvZEbjo28ESfO8FRh4FqmQR97CZue-1DUa-_zyc51rWwsHTEsMHdFlks9eoi-HFeAvt_0qlWCB9gtD22ePh_rWsvg1KTMnDjWxJzHUSx-2A9SEliVfe8GaKjT7lewMIHU4f5kRBGXiy8Q1nBDBHyMpndCvzFzVLNSUWxUQoYzVboWFI0EI78CBtOgeXzF-G9wkEwm5_2tJVjgTd9UWH9nkZIqiSN5bYC_2eqTeD3VpIWoJine94D3D34jLWrKuEa0KGm7h3l9aUZdxY5WZI4K167jZ9pVRs9OsX6sLOmYz9TckpNdjGn8jh5dfncAUOHe9zsYNYDLridb2N5lENDIpAIwltSfYueYOGgaeteHTaciV8iN51A16_xvdxinPKho1oLL0TFnLcBj4elJ3ziVw-23hTf7W5yT1zojZXiagh5NK64fOHJBUO0SXMWkLp8hLQ22t9-Y9PBVPBZTZrmHlFY5ogIpHtrd7FxdIoTDHfJ5hlZR_e3vwfPgcdAOuKhsZnljhQrytydnXtnUzEw7trHOYbAFE_lQkZ74JYLDibuFqOvJYveyjFkD2dLZExgB0qBGbdbLsS-JkP095wMsoCE4VfTKIz4hblRyt9eWd1yzI6V0JO1E9j-GU70SKxJyBIL_a60TOSiPMdvdEXlwHzLh8__2c467hQXTt-0FIh3fS_nBBCabK0nnogANvXea9kUoM7AnB3AwIeP1xA3rThrGQpmkIYIVm4rPQ4FCl0Wxv_WS81XfyORM9afqDQXYIYFAwyg\"/>\n",
       "            <a href=\"#!\">\n",
       "                <span class=\"ipyplot-img-close\"/>\n",
       "            </a>\n",
       "            <a href=\"#ipyplot-content-div-ahcePdgvns5U9D3hTQaPPR-K8PeQwoXTvBWv7nY7zEKyb\">\n",
       "                <span class=\"ipyplot-img-expand\"/>\n",
       "            </a>\n",
       "        </div>\n",
       "    </div>\n",
       "    </div>\n",
       "        </textarea>\n",
       "    </div>\n",
       "    "
      ],
      "text/plain": [
       "<IPython.core.display.HTML object>"
      ]
     },
     "metadata": {},
     "output_type": "display_data"
    },
    {
     "data": {
      "text/html": [
       "\n",
       "        <style>\n",
       "        #ipyplot-imgs-container-div-ahcePdgvns5U9D3hTQaPPR {\n",
       "            width: 100%;\n",
       "            height: 100%;\n",
       "            margin: 0%;\n",
       "            overflow: auto;\n",
       "            position: relative;\n",
       "            overflow-y: scroll;\n",
       "        }\n",
       "\n",
       "        div.ipyplot-placeholder-div-ahcePdgvns5U9D3hTQaPPR {\n",
       "            width: 250px;\n",
       "            display: inline-block;\n",
       "            margin: 3px;\n",
       "            position: relative;\n",
       "        }\n",
       "\n",
       "        div.ipyplot-content-div-ahcePdgvns5U9D3hTQaPPR {\n",
       "            width: 250px;\n",
       "            background: white;\n",
       "            display: inline-block;\n",
       "            vertical-align: top;\n",
       "            text-align: center;\n",
       "            position: relative;\n",
       "            border: 2px solid #ddd;\n",
       "            top: 0;\n",
       "            left: 0;\n",
       "        }\n",
       "\n",
       "        div.ipyplot-content-div-ahcePdgvns5U9D3hTQaPPR span.ipyplot-img-close {\n",
       "            display: none;\n",
       "        }\n",
       "\n",
       "        div.ipyplot-content-div-ahcePdgvns5U9D3hTQaPPR span {\n",
       "            width: 100%;\n",
       "            height: 100%;\n",
       "            position: absolute;\n",
       "            top: 0;\n",
       "            left: 0;\n",
       "        }\n",
       "\n",
       "        div.ipyplot-content-div-ahcePdgvns5U9D3hTQaPPR img {\n",
       "            width: 250px;\n",
       "        }\n",
       "\n",
       "        div.ipyplot-content-div-ahcePdgvns5U9D3hTQaPPR span.ipyplot-img-close:hover {\n",
       "            cursor: zoom-out;\n",
       "        }\n",
       "        div.ipyplot-content-div-ahcePdgvns5U9D3hTQaPPR span.ipyplot-img-expand:hover {\n",
       "            cursor: zoom-in;\n",
       "        }\n",
       "\n",
       "        div[id^=ipyplot-content-div-ahcePdgvns5U9D3hTQaPPR]:target {\n",
       "            transform: scale(2.5);\n",
       "            transform-origin: left top;\n",
       "            z-index: 5000;\n",
       "            top: 0;\n",
       "            left: 0;\n",
       "            position: absolute;\n",
       "        }\n",
       "\n",
       "        div[id^=ipyplot-content-div-ahcePdgvns5U9D3hTQaPPR]:target span.ipyplot-img-close {\n",
       "            display: block;\n",
       "        }\n",
       "\n",
       "        div[id^=ipyplot-content-div-ahcePdgvns5U9D3hTQaPPR]:target span.ipyplot-img-expand {\n",
       "            display: none;\n",
       "        }\n",
       "        </style>\n",
       "    <div id=\"ipyplot-imgs-container-div-ahcePdgvns5U9D3hTQaPPR\">\n",
       "    <div class=\"ipyplot-placeholder-div-ahcePdgvns5U9D3hTQaPPR\">\n",
       "        <div id=\"ipyplot-content-div-ahcePdgvns5U9D3hTQaPPR-V7iSTndKnPBKjfvty6xTnX\" class=\"ipyplot-content-div-ahcePdgvns5U9D3hTQaPPR\">\n",
       "            <h4 style=\"font-size: 12px; word-wrap: break-word;\">February of 2023</h4>\n",
       "            <img src=\"https://lh3.googleusercontent.com/lr/AAJ1LKdQcZxru8yTxLl-CcGF2VXb690lFuiYP7bYlojTk1Xi7w8IfmZhmLBYuhtW-2U9gBkdqQIueMHxDl1NuHA4YOS7UJBdGTmm2u8DTWg1_iwziQvncfmiK0ughXLxwnFKdIJha_3izXSwWYlKzxNinWIH3r2VmZ5h2dNA7eIToKEVXXkSZrMNIO1dgj5YGLXNDA0zpoISMbVVdFMvgPHeu9pNu2FoO3Qeh6OGA9diZFao8SjCx-WXEISPDcVslTd1xDmz21sUDX3sdf5TlTw9_krR_37PkPmoP7V06QrnpBrlf5f93RBJoPCYsXuP89cho1Ec5I6s6O9wgBVRuU5swMgXavRVqZ4fZTYjAbUQOEhbToml6-VlTXXHEB1gTb70TT8cw26Y8AiEMk_H52slDkd2rcKRsKgmiyinPl_uBsV2d6majssfMi6WiBLME44Lr6dS86AUM1Hk7tbMvXxXFQDrDYt0rRatdznPJbwo8VVN3vcpM6zzxlvSEDDLON9lDMNM9eZrSm5_hy6wesK-eKBubltK-mxpjEdPQHz3ucBB8pjQFbGqiaJybdXLvZbuUpCdpj6upBZwvAmsmJhpHxz1AeHIjkSnY-EdBwgqkq8iQcbuOn88j6onFJF6GCTgrFwgBg1baLSBUBxSncqvhBkMpspcAWAdp7YxxB1DhiYe1Q7L9CEHuzvj5Nt0C1mHqNnIrgELjBdOqdTuknH0i8w7zPlannKgxDuHhwSFOf5dgDcQDx41COxHOQGlEOTr1INO4kZPHDnka9HbJP-sajurLZipgYcwbS8jN0Y_hqBXPZb7G98aHdeUvKEGtFXsd5KKb1WzECkWS6FDgFuBHo5DOoBD4oVcW_aH8fPrNxwuhVKpRTYXcgiadMEHYoXCOaUk_hfSiDz4bEGw71Enq9h-51QskFjeg08SX3gc0SMQ8h0iBzmum-Qzir0Qtrtr2t2RbLDkJs3ePUmGYjlHTFA37Vp0DOF4g8G36pmRz2z9Zx3YvS8YIZIm-6jVbbom6lv5NfmDiIMmCuLa0Lkt9oHrFW4HDTv_RxnVYh2EZb1MEw\"/>\n",
       "            <a href=\"#!\">\n",
       "                <span class=\"ipyplot-img-close\"/>\n",
       "            </a>\n",
       "            <a href=\"#ipyplot-content-div-ahcePdgvns5U9D3hTQaPPR-V7iSTndKnPBKjfvty6xTnX\">\n",
       "                <span class=\"ipyplot-img-expand\"/>\n",
       "            </a>\n",
       "        </div>\n",
       "    </div>\n",
       "    \n",
       "    <div class=\"ipyplot-placeholder-div-ahcePdgvns5U9D3hTQaPPR\">\n",
       "        <div id=\"ipyplot-content-div-ahcePdgvns5U9D3hTQaPPR-Urahc5HXwrvx6C7aWRoRRQ\" class=\"ipyplot-content-div-ahcePdgvns5U9D3hTQaPPR\">\n",
       "            <h4 style=\"font-size: 12px; word-wrap: break-word;\">February of 2023</h4>\n",
       "            <img src=\"https://lh3.googleusercontent.com/lr/AAJ1LKc3GqNlis4ymUuVUCu-d1B07qgKDToYnw4wKsTuKulhoKqMLiBCOXVcKs1P4s_0zlbggdC3pAJ9BTWk_CQUw1zZ6XKWliTZVltWwEFPevzNC_jLX5srNAaAC5GY_9Rdi-Mo_H0GuGfVEr4GqsBe00W3bSg5xbiOh-ryOyVfYmCknzx5x5XAawo81AOa-yy_fMtIMJ-fKp5xtry_WlDy-PVZM5Ek-AwQ-BS7FNedkwbecLMztjCqR80aodgGBXhKgUVD-OJzcJM1cvIEPeWdH_ix7l8q6xFRF8bSNSnSQvcZ37zR4SGT-pzLzisGWvncfD6Rvj5CpfVGGX6neseslhKFZ6MrJ4oYAKrHW-ACeKhD7cSFEb_em-Xt56UGJaWmih_IhH9l8NyldtQASTCf2-yxhL9UA_s3XEFF62hEm3dNk-ENatxh366G2vLNfYljXaMCCjosppJUlpqvZnJE63n0bwfoZJkWM-yZPwg-DzJ5VTk7bd8yEAphwBbTpV7FIyLKbXH2qAeGL-OT_MdW2osc0X6Zj4NKPya2L_64SZE5phO9AuaMU1Tn1szOP2bPnY6grGjWeKnlMfyfpmnqz5LeaIgRIr5gJ1xgdiYDj2YH2P13Pj1GN6i-6e4rbke6zUMJuL77-z1mn-cSEBImPADa-WZL68f1dOfW__LQoY2LK6LsYeFrQv_4gNnJTasGVcmARn3yNn5U8e05OL42a1ZkhWg2A-85ZiwXUiysQFeEaKwIyWKDSoY5hHc17TXYbqVe_MEyytAB8SY8TU1WAanI7yqWsVaSEsXIt7e3XrHAOuRyMZaoaBsbof46L2hrtLhQdAw5fI1YOliw3K1PO_G5X92VMmKFXFo95Ek729IQ1grRZ8pFGXw8hcaPT6D-WQWamqbTvqryHxYsTKHzk4PRTfvTk9Jgl8aTIDvAeeNKpKuSpN_pcHoOKnp2Z9wt_FbDS7n2vMO1Iyy-WiBUW0lLLm9BWAvK7YQ_ZsYQMADoT4BJbYYkfhbLAmKH5a3muLnxMaVU5j40jgdu0NJoIILj8VDyS8XbHF66CawLHdZVWQ\"/>\n",
       "            <a href=\"#!\">\n",
       "                <span class=\"ipyplot-img-close\"/>\n",
       "            </a>\n",
       "            <a href=\"#ipyplot-content-div-ahcePdgvns5U9D3hTQaPPR-Urahc5HXwrvx6C7aWRoRRQ\">\n",
       "                <span class=\"ipyplot-img-expand\"/>\n",
       "            </a>\n",
       "        </div>\n",
       "    </div>\n",
       "    \n",
       "    <div class=\"ipyplot-placeholder-div-ahcePdgvns5U9D3hTQaPPR\">\n",
       "        <div id=\"ipyplot-content-div-ahcePdgvns5U9D3hTQaPPR-K8PeQwoXTvBWv7nY7zEKyb\" class=\"ipyplot-content-div-ahcePdgvns5U9D3hTQaPPR\">\n",
       "            <h4 style=\"font-size: 12px; word-wrap: break-word;\">February of 2023</h4>\n",
       "            <img src=\"https://lh3.googleusercontent.com/lr/AAJ1LKfFKqXqon_EYCQgJxVtYOypAi4Jt7RSKTGqst1ragbDqoEc_azYob7nzfzn9FzlLF6KwnAyiyj2lM9jWyTYNd82Sih61UqRN7iNyhDQbaSnqFQGRYgIdr4xFzTi0ZFw3MW4I62b5QJg9ScI6DxAD0y3wFERMPmhtsG9SefoobCsAQfevc1jOUvF5ZKCwXrZB7pHbTAAMlVGYtEKIK47awmcY6vlwkMJEqvwc0HgTlgHAhOXu50j07OHzTL1TIbZ9Cv0eaOXQNHsIb_X3JSe9MXxCOw1k62q936LAdFvZEbjo28ESfO8FRh4FqmQR97CZue-1DUa-_zyc51rWwsHTEsMHdFlks9eoi-HFeAvt_0qlWCB9gtD22ePh_rWsvg1KTMnDjWxJzHUSx-2A9SEliVfe8GaKjT7lewMIHU4f5kRBGXiy8Q1nBDBHyMpndCvzFzVLNSUWxUQoYzVboWFI0EI78CBtOgeXzF-G9wkEwm5_2tJVjgTd9UWH9nkZIqiSN5bYC_2eqTeD3VpIWoJine94D3D34jLWrKuEa0KGm7h3l9aUZdxY5WZI4K167jZ9pVRs9OsX6sLOmYz9TckpNdjGn8jh5dfncAUOHe9zsYNYDLridb2N5lENDIpAIwltSfYueYOGgaeteHTaciV8iN51A16_xvdxinPKho1oLL0TFnLcBj4elJ3ziVw-23hTf7W5yT1zojZXiagh5NK64fOHJBUO0SXMWkLp8hLQ22t9-Y9PBVPBZTZrmHlFY5ogIpHtrd7FxdIoTDHfJ5hlZR_e3vwfPgcdAOuKhsZnljhQrytydnXtnUzEw7trHOYbAFE_lQkZ74JYLDibuFqOvJYveyjFkD2dLZExgB0qBGbdbLsS-JkP095wMsoCE4VfTKIz4hblRyt9eWd1yzI6V0JO1E9j-GU70SKxJyBIL_a60TOSiPMdvdEXlwHzLh8__2c467hQXTt-0FIh3fS_nBBCabK0nnogANvXea9kUoM7AnB3AwIeP1xA3rThrGQpmkIYIVm4rPQ4FCl0Wxv_WS81XfyORM9afqDQXYIYFAwyg\"/>\n",
       "            <a href=\"#!\">\n",
       "                <span class=\"ipyplot-img-close\"/>\n",
       "            </a>\n",
       "            <a href=\"#ipyplot-content-div-ahcePdgvns5U9D3hTQaPPR-K8PeQwoXTvBWv7nY7zEKyb\">\n",
       "                <span class=\"ipyplot-img-expand\"/>\n",
       "            </a>\n",
       "        </div>\n",
       "    </div>\n",
       "    </div>"
      ],
      "text/plain": [
       "<IPython.core.display.HTML object>"
      ]
     },
     "metadata": {},
     "output_type": "display_data"
    }
   ],
   "source": [
    "query = \"birthday party with a donut cake\"\n",
    "query_images(query, years_filter, months_filter, top_k)"
   ]
  },
  {
   "cell_type": "code",
   "execution_count": 81,
   "id": "0859116a-c960-484c-9562-9d6105356789",
   "metadata": {
    "tags": []
   },
   "outputs": [
    {
     "data": {
      "text/html": [
       "\n",
       "    <style>\n",
       "        #ipyplot-html-viewer-toggle-d4VWdwe574WSzxw9LeXUV7 {\n",
       "            position: absolute;\n",
       "            top: -9999px;\n",
       "            left: -9999px;\n",
       "            visibility: hidden;\n",
       "        }\n",
       "\n",
       "        #ipyplot-html-viewer-label-d4VWdwe574WSzxw9LeXUV7 { \n",
       "            position: relative;\n",
       "            display: inline-block;\n",
       "            cursor: pointer;\n",
       "            color: blue;\n",
       "            text-decoration: underline;\n",
       "        }\n",
       "\n",
       "        #ipyplot-html-viewer-textarea-d4VWdwe574WSzxw9LeXUV7 {\n",
       "            background: lightgrey;\n",
       "            width: 100%;\n",
       "            height: 0px;\n",
       "            display: none;\n",
       "        }\n",
       "\n",
       "        #ipyplot-html-viewer-toggle-d4VWdwe574WSzxw9LeXUV7:checked ~ #ipyplot-html-viewer-textarea-d4VWdwe574WSzxw9LeXUV7 {\n",
       "            height: 200px;\n",
       "            display: block;\n",
       "        }\n",
       "\n",
       "        #ipyplot-html-viewer-toggle-d4VWdwe574WSzxw9LeXUV7:checked + #ipyplot-html-viewer-label-d4VWdwe574WSzxw9LeXUV7:after {\n",
       "            content: \"hide html\";\n",
       "            position: absolute;\n",
       "            top: 0;\n",
       "            left: 0;\n",
       "            right: 0;\n",
       "            bottom: 0;\n",
       "            background: white;\n",
       "            cursor: pointer;\n",
       "            color: blue;\n",
       "            text-decoration: underline;\n",
       "        }\n",
       "    </style>\n",
       "    <div>\n",
       "        <input type=\"checkbox\" id=\"ipyplot-html-viewer-toggle-d4VWdwe574WSzxw9LeXUV7\">\n",
       "        <label id=\"ipyplot-html-viewer-label-d4VWdwe574WSzxw9LeXUV7\" for=\"ipyplot-html-viewer-toggle-d4VWdwe574WSzxw9LeXUV7\">show html</label>\n",
       "        <textarea id=\"ipyplot-html-viewer-textarea-d4VWdwe574WSzxw9LeXUV7\" readonly>\n",
       "            \n",
       "        <style>\n",
       "        #ipyplot-imgs-container-div-3uXYMtz85tyhcgJZ4VjmxC {\n",
       "            width: 100%;\n",
       "            height: 100%;\n",
       "            margin: 0%;\n",
       "            overflow: auto;\n",
       "            position: relative;\n",
       "            overflow-y: scroll;\n",
       "        }\n",
       "\n",
       "        div.ipyplot-placeholder-div-3uXYMtz85tyhcgJZ4VjmxC {\n",
       "            width: 250px;\n",
       "            display: inline-block;\n",
       "            margin: 3px;\n",
       "            position: relative;\n",
       "        }\n",
       "\n",
       "        div.ipyplot-content-div-3uXYMtz85tyhcgJZ4VjmxC {\n",
       "            width: 250px;\n",
       "            background: white;\n",
       "            display: inline-block;\n",
       "            vertical-align: top;\n",
       "            text-align: center;\n",
       "            position: relative;\n",
       "            border: 2px solid #ddd;\n",
       "            top: 0;\n",
       "            left: 0;\n",
       "        }\n",
       "\n",
       "        div.ipyplot-content-div-3uXYMtz85tyhcgJZ4VjmxC span.ipyplot-img-close {\n",
       "            display: none;\n",
       "        }\n",
       "\n",
       "        div.ipyplot-content-div-3uXYMtz85tyhcgJZ4VjmxC span {\n",
       "            width: 100%;\n",
       "            height: 100%;\n",
       "            position: absolute;\n",
       "            top: 0;\n",
       "            left: 0;\n",
       "        }\n",
       "\n",
       "        div.ipyplot-content-div-3uXYMtz85tyhcgJZ4VjmxC img {\n",
       "            width: 250px;\n",
       "        }\n",
       "\n",
       "        div.ipyplot-content-div-3uXYMtz85tyhcgJZ4VjmxC span.ipyplot-img-close:hover {\n",
       "            cursor: zoom-out;\n",
       "        }\n",
       "        div.ipyplot-content-div-3uXYMtz85tyhcgJZ4VjmxC span.ipyplot-img-expand:hover {\n",
       "            cursor: zoom-in;\n",
       "        }\n",
       "\n",
       "        div[id^=ipyplot-content-div-3uXYMtz85tyhcgJZ4VjmxC]:target {\n",
       "            transform: scale(2.5);\n",
       "            transform-origin: left top;\n",
       "            z-index: 5000;\n",
       "            top: 0;\n",
       "            left: 0;\n",
       "            position: absolute;\n",
       "        }\n",
       "\n",
       "        div[id^=ipyplot-content-div-3uXYMtz85tyhcgJZ4VjmxC]:target span.ipyplot-img-close {\n",
       "            display: block;\n",
       "        }\n",
       "\n",
       "        div[id^=ipyplot-content-div-3uXYMtz85tyhcgJZ4VjmxC]:target span.ipyplot-img-expand {\n",
       "            display: none;\n",
       "        }\n",
       "        </style>\n",
       "    <div id=\"ipyplot-imgs-container-div-3uXYMtz85tyhcgJZ4VjmxC\">\n",
       "    <div class=\"ipyplot-placeholder-div-3uXYMtz85tyhcgJZ4VjmxC\">\n",
       "        <div id=\"ipyplot-content-div-3uXYMtz85tyhcgJZ4VjmxC-hLy7F3ErNRCqnPZCJW7Sj6\" class=\"ipyplot-content-div-3uXYMtz85tyhcgJZ4VjmxC\">\n",
       "            <h4 style=\"font-size: 12px; word-wrap: break-word;\">February of 2023</h4>\n",
       "            <img src=\"https://lh3.googleusercontent.com/lr/AAJ1LKdjREJXPDdKnN4fGyqPBLGnIyPvidP-qnKfncEky37JxCpuOYtIbpxHAWvwk3NJXtZ_HZZuZZ-1VfhjFH0tNG0dz57sg8HhPyDEC2qyP3SPst1IzlvwRN_yYE9UfxZMtodrrxLiGs61q_qikqIJnuAsyV8RLXWBLhuKy9w0D-Xy9zGUYMvTqFk2vo7rn0hHE-BZNis9ZrxXnOPMDt2kH-QxP6IPIAwvtPSuO1tp2KHHUT17xo5jUPRJvGZxXD0E-DdoUIj4nhrxGFcXexiWMvDafsrQr5AiR56c1dxsKCegZWpEVjok-S1LL06r2xlYOOYCQ6b2UtsFuFQxBn_jeQpd8yDl27I0iHZ6gpYT4n2ZXpq62iGF9VCBURBkawm2-jkFnFelcmfhGGNfnmoFqUGWeuXt2jCupyjBFnxe9JAccW3dx6P30CqhabWJNywiY31KpGFv3WLDT5R3z21dOxFSzu3o6DLWNOthmNrLAX-1XDkPzJd4wA73gQSYKmDVpxr2BX5xXKmSItOqa4jJhW4LCLqDgz43oI71rHqa-GtSFRp1qYXK6_LgTNXpwirF14cbbzIB_2hyn2URL2jzv_s9t6afnn3s3Wjn_0CC1mLKDi9VCDfqU8MTMR3eGPtb99ZizpuJbWHkz2xdanhDOccM3nnjKomWsHUQgXbhdo8TftjzydKdmOpQnJVcCmfwuQV8oOUENIOaT5GNU4H2Tq_OgeWN2aJg8CNupzpdISMS-jc-jcmaXelqlLZUctoKstxZ1PIxKCkEuxyI-4nkgBEK-ke4RtNOHAmjKwikYATwOKVnTeZX1i-9ylDgblXSB_QNxwh8S5Wwu9tL-KoMncLUNQxiTZ4mv2dli3fjPSXcfYIn-dq-Ql_7EUqWc5ku_iX_XnjcuMHIYO3oTotz8XtF5zYpkdXkDSUkWjxeRleTgc40d3bkcsq37BUBYdOa2yQ1BS9IW4R8L8f18jc8HmaiWsT7lm17kgTG335d3DdMD3-wNMq5_RuqA9QnH_a6I4oUqGt2GcApLkMGRuCQPV3cAUNaUmufIZEwkj6y2DlMGg\"/>\n",
       "            <a href=\"#!\">\n",
       "                <span class=\"ipyplot-img-close\"/>\n",
       "            </a>\n",
       "            <a href=\"#ipyplot-content-div-3uXYMtz85tyhcgJZ4VjmxC-hLy7F3ErNRCqnPZCJW7Sj6\">\n",
       "                <span class=\"ipyplot-img-expand\"/>\n",
       "            </a>\n",
       "        </div>\n",
       "    </div>\n",
       "    \n",
       "    <div class=\"ipyplot-placeholder-div-3uXYMtz85tyhcgJZ4VjmxC\">\n",
       "        <div id=\"ipyplot-content-div-3uXYMtz85tyhcgJZ4VjmxC-QP5rVhSNh2u2BJkheEPbmX\" class=\"ipyplot-content-div-3uXYMtz85tyhcgJZ4VjmxC\">\n",
       "            <h4 style=\"font-size: 12px; word-wrap: break-word;\">February of 2023</h4>\n",
       "            <img src=\"https://lh3.googleusercontent.com/lr/AAJ1LKcINpptBk6y8NAYs7WZJ_c2mhe0MqZGcLAZrsW6lZMfpSF_gfgRdXcCfRmEURKaBcZI9Unu9p-rJQTjbq7pxjwo8VBv8-w1EMjPmNeXBsi5dWPQbcuKduSFxseGiqmB32t6wHClwRQyhg8FsIs4KeFD03l5VUlnUd_KH2Uu17FTftkxxzWuoX5CAF8ZaNkwy7DjQk7B2BTvFTCFUpiE83TaZisxCZmqLMOBu-OyGO-ALyMnM4fzd1eYuBK9c3AKmcQqLQLwK78iUf5TViAgB-4HQlG3Am3kyKGcCQFqH6y_Oi0O5rTdGCQI0EEXaED2-mSRHxsF4CByBOoV-mwzrIfXTwq5GXoVzxF0IGbM-StX3kkzLO8J-Z7Q0paDqylgBz6bcAw53e5l8iWLOM8m8uNyJLymhB7HcI3OhX_jQxQbHYEamU4OuzcCwXfdq-HmyU0gZ7mR4N0smVOvhJgNq-546OPnpmbHavU-vH0OXft7oTzgJOxLEU2Hh7l__COwugGhIMTuNXHif67ejPWru_azbpuhth17Jz2YGgDsyzKRcTiiBOozxFJMeSuTpPlfp3Wtaq3bZvSbnXWgKqmSg8LWL09yOJ3sZ2P580Icuu_b5qOm7D0pgZ39vHlpxxnJV_T3cRoLFDQY7qfG61ll4d6ZY6TsUVSD7NtYTn4kUq_9rK83gR_hxsOBlg9nEv3S9vbyBp9aTP2HuPGTMGbv8uy-SwCge3pToCCTfu8856nxQIoXj6jgyb1Qk7j_0SUzlZld0_CskZXKwd9EVf4Fo2E5-nAi0Hqrf9FXgjVO3kuuq0vVIXDvuKek4miY7O74RDZvFlbOR8BhG8li1ShMnQ3Ep-W5mPQPcpvIydaIIjXw4GaBQEXOxjd7D2BMz3wI_DXrEjs0sOzdUdK9l4yve3Hceo-MUVi-G1fBcLRiuauuMQ93Ecp_tAO3uv96BLki-QjzM8ilcdLiPyU6oSGsV86pqz0_ZAvNhaMCciZzkigCTmJCjNMBQC_LvYtC6Tl_pxYQqwZ63kHNw7iCYNVMf4I1U6JYX1ffh2I5-bGhdYteKQ\"/>\n",
       "            <a href=\"#!\">\n",
       "                <span class=\"ipyplot-img-close\"/>\n",
       "            </a>\n",
       "            <a href=\"#ipyplot-content-div-3uXYMtz85tyhcgJZ4VjmxC-QP5rVhSNh2u2BJkheEPbmX\">\n",
       "                <span class=\"ipyplot-img-expand\"/>\n",
       "            </a>\n",
       "        </div>\n",
       "    </div>\n",
       "    \n",
       "    <div class=\"ipyplot-placeholder-div-3uXYMtz85tyhcgJZ4VjmxC\">\n",
       "        <div id=\"ipyplot-content-div-3uXYMtz85tyhcgJZ4VjmxC-HZTK6PRKYdq6ZcoFX3rwTV\" class=\"ipyplot-content-div-3uXYMtz85tyhcgJZ4VjmxC\">\n",
       "            <h4 style=\"font-size: 12px; word-wrap: break-word;\">February of 2023</h4>\n",
       "            <img src=\"https://lh3.googleusercontent.com/lr/AAJ1LKfSstY_iczO6gMDsX6a1-eCyLkYciNJn_f6q2HkPE3Myk6drs64NbYkqz_P46W0DPMHOHi9R1tNlu_U9ecL0la8qB9CBCqO6plAA45aESPVa1iCW6X21IYZLMb3REF6nHXX5dzWcIDG64UFeJfgK5-yyD16d3ZfXl7iSAhck_VDhdns89UgDv7eYdR7rPlHSbY9oRXujyPngsXzNxSmWvFcnFoWOOF79I8iDIDKbJhoyoY9Roomb6vZZbJAgr0kR4H5a_hpL0GfzbFStY5D-JOt-MdqHY7tGxF5r4UF7vDToZd4GWTO41t70C_XDZiFGV-BBiluFbRdhdp3KktSrFuxXCdZGwacHFGH9Y7pa2NYib09z3dv14616XIY3Xv4cayyFmnJBfSNjzIu2JPqKmwRZROvawnRraXo4PbmBGGyhjL0DcmTQoRoltOfuiRhaxOJRHv26Edu2wAlVNT1WDrHk29M_GbgbE-XDgKtrats_y1ARtNmM8YqdAq22CVNhLTpYXoJJTJ_2-LZucBu2Hbu5r_Nl7rWdklNknHR91f_5HOSeoqkweEYd_4K0mf77nhH2PNvPM4-7797TRD5rf1AXuzYZDNgWjPmz0y4_AADqE3H0jfFnUkcDf0LRPGSH7BAAmaeiZ8NNoOacC14u_GY7rnoMYbNmvOICFdCArgwIEkGA9NzStmNJym6erFRaoMlAB2fKiRlhkRhmjbsaCUTIkklB9ne_-W3kpnveBU3J02ILn4K4M80a1MDVRxgT5QHe9HE9T4caWlxAqG3iFfkWnXkZ4URRYR13Y1iNVjpQq-SbaqY3Oc4YyWnem_7uSa_yBHMAinIIZfvheYf-XF-ViCIcMk_sCf3_eu4Q0tZk1jPyXFBNqc3CTR_M-ddTGCKlROHOyuFwRXTKIyJcbdVnyqfFkVJBfqVk9sS7UdQo0lSeNGYUIN5ZJR2d_J_0wD9wCIM37A1TJohU1nJE2XI6_dbcX4ONagPvzjEMP1ySScWmrP_UUnvbCDJloupmQlr83nxIw-6a8t__UuWlTFUUjEX5oKixFMWmvrSrQJIbg\"/>\n",
       "            <a href=\"#!\">\n",
       "                <span class=\"ipyplot-img-close\"/>\n",
       "            </a>\n",
       "            <a href=\"#ipyplot-content-div-3uXYMtz85tyhcgJZ4VjmxC-HZTK6PRKYdq6ZcoFX3rwTV\">\n",
       "                <span class=\"ipyplot-img-expand\"/>\n",
       "            </a>\n",
       "        </div>\n",
       "    </div>\n",
       "    </div>\n",
       "        </textarea>\n",
       "    </div>\n",
       "    "
      ],
      "text/plain": [
       "<IPython.core.display.HTML object>"
      ]
     },
     "metadata": {},
     "output_type": "display_data"
    },
    {
     "data": {
      "text/html": [
       "\n",
       "        <style>\n",
       "        #ipyplot-imgs-container-div-3uXYMtz85tyhcgJZ4VjmxC {\n",
       "            width: 100%;\n",
       "            height: 100%;\n",
       "            margin: 0%;\n",
       "            overflow: auto;\n",
       "            position: relative;\n",
       "            overflow-y: scroll;\n",
       "        }\n",
       "\n",
       "        div.ipyplot-placeholder-div-3uXYMtz85tyhcgJZ4VjmxC {\n",
       "            width: 250px;\n",
       "            display: inline-block;\n",
       "            margin: 3px;\n",
       "            position: relative;\n",
       "        }\n",
       "\n",
       "        div.ipyplot-content-div-3uXYMtz85tyhcgJZ4VjmxC {\n",
       "            width: 250px;\n",
       "            background: white;\n",
       "            display: inline-block;\n",
       "            vertical-align: top;\n",
       "            text-align: center;\n",
       "            position: relative;\n",
       "            border: 2px solid #ddd;\n",
       "            top: 0;\n",
       "            left: 0;\n",
       "        }\n",
       "\n",
       "        div.ipyplot-content-div-3uXYMtz85tyhcgJZ4VjmxC span.ipyplot-img-close {\n",
       "            display: none;\n",
       "        }\n",
       "\n",
       "        div.ipyplot-content-div-3uXYMtz85tyhcgJZ4VjmxC span {\n",
       "            width: 100%;\n",
       "            height: 100%;\n",
       "            position: absolute;\n",
       "            top: 0;\n",
       "            left: 0;\n",
       "        }\n",
       "\n",
       "        div.ipyplot-content-div-3uXYMtz85tyhcgJZ4VjmxC img {\n",
       "            width: 250px;\n",
       "        }\n",
       "\n",
       "        div.ipyplot-content-div-3uXYMtz85tyhcgJZ4VjmxC span.ipyplot-img-close:hover {\n",
       "            cursor: zoom-out;\n",
       "        }\n",
       "        div.ipyplot-content-div-3uXYMtz85tyhcgJZ4VjmxC span.ipyplot-img-expand:hover {\n",
       "            cursor: zoom-in;\n",
       "        }\n",
       "\n",
       "        div[id^=ipyplot-content-div-3uXYMtz85tyhcgJZ4VjmxC]:target {\n",
       "            transform: scale(2.5);\n",
       "            transform-origin: left top;\n",
       "            z-index: 5000;\n",
       "            top: 0;\n",
       "            left: 0;\n",
       "            position: absolute;\n",
       "        }\n",
       "\n",
       "        div[id^=ipyplot-content-div-3uXYMtz85tyhcgJZ4VjmxC]:target span.ipyplot-img-close {\n",
       "            display: block;\n",
       "        }\n",
       "\n",
       "        div[id^=ipyplot-content-div-3uXYMtz85tyhcgJZ4VjmxC]:target span.ipyplot-img-expand {\n",
       "            display: none;\n",
       "        }\n",
       "        </style>\n",
       "    <div id=\"ipyplot-imgs-container-div-3uXYMtz85tyhcgJZ4VjmxC\">\n",
       "    <div class=\"ipyplot-placeholder-div-3uXYMtz85tyhcgJZ4VjmxC\">\n",
       "        <div id=\"ipyplot-content-div-3uXYMtz85tyhcgJZ4VjmxC-hLy7F3ErNRCqnPZCJW7Sj6\" class=\"ipyplot-content-div-3uXYMtz85tyhcgJZ4VjmxC\">\n",
       "            <h4 style=\"font-size: 12px; word-wrap: break-word;\">February of 2023</h4>\n",
       "            <img src=\"https://lh3.googleusercontent.com/lr/AAJ1LKdjREJXPDdKnN4fGyqPBLGnIyPvidP-qnKfncEky37JxCpuOYtIbpxHAWvwk3NJXtZ_HZZuZZ-1VfhjFH0tNG0dz57sg8HhPyDEC2qyP3SPst1IzlvwRN_yYE9UfxZMtodrrxLiGs61q_qikqIJnuAsyV8RLXWBLhuKy9w0D-Xy9zGUYMvTqFk2vo7rn0hHE-BZNis9ZrxXnOPMDt2kH-QxP6IPIAwvtPSuO1tp2KHHUT17xo5jUPRJvGZxXD0E-DdoUIj4nhrxGFcXexiWMvDafsrQr5AiR56c1dxsKCegZWpEVjok-S1LL06r2xlYOOYCQ6b2UtsFuFQxBn_jeQpd8yDl27I0iHZ6gpYT4n2ZXpq62iGF9VCBURBkawm2-jkFnFelcmfhGGNfnmoFqUGWeuXt2jCupyjBFnxe9JAccW3dx6P30CqhabWJNywiY31KpGFv3WLDT5R3z21dOxFSzu3o6DLWNOthmNrLAX-1XDkPzJd4wA73gQSYKmDVpxr2BX5xXKmSItOqa4jJhW4LCLqDgz43oI71rHqa-GtSFRp1qYXK6_LgTNXpwirF14cbbzIB_2hyn2URL2jzv_s9t6afnn3s3Wjn_0CC1mLKDi9VCDfqU8MTMR3eGPtb99ZizpuJbWHkz2xdanhDOccM3nnjKomWsHUQgXbhdo8TftjzydKdmOpQnJVcCmfwuQV8oOUENIOaT5GNU4H2Tq_OgeWN2aJg8CNupzpdISMS-jc-jcmaXelqlLZUctoKstxZ1PIxKCkEuxyI-4nkgBEK-ke4RtNOHAmjKwikYATwOKVnTeZX1i-9ylDgblXSB_QNxwh8S5Wwu9tL-KoMncLUNQxiTZ4mv2dli3fjPSXcfYIn-dq-Ql_7EUqWc5ku_iX_XnjcuMHIYO3oTotz8XtF5zYpkdXkDSUkWjxeRleTgc40d3bkcsq37BUBYdOa2yQ1BS9IW4R8L8f18jc8HmaiWsT7lm17kgTG335d3DdMD3-wNMq5_RuqA9QnH_a6I4oUqGt2GcApLkMGRuCQPV3cAUNaUmufIZEwkj6y2DlMGg\"/>\n",
       "            <a href=\"#!\">\n",
       "                <span class=\"ipyplot-img-close\"/>\n",
       "            </a>\n",
       "            <a href=\"#ipyplot-content-div-3uXYMtz85tyhcgJZ4VjmxC-hLy7F3ErNRCqnPZCJW7Sj6\">\n",
       "                <span class=\"ipyplot-img-expand\"/>\n",
       "            </a>\n",
       "        </div>\n",
       "    </div>\n",
       "    \n",
       "    <div class=\"ipyplot-placeholder-div-3uXYMtz85tyhcgJZ4VjmxC\">\n",
       "        <div id=\"ipyplot-content-div-3uXYMtz85tyhcgJZ4VjmxC-QP5rVhSNh2u2BJkheEPbmX\" class=\"ipyplot-content-div-3uXYMtz85tyhcgJZ4VjmxC\">\n",
       "            <h4 style=\"font-size: 12px; word-wrap: break-word;\">February of 2023</h4>\n",
       "            <img src=\"https://lh3.googleusercontent.com/lr/AAJ1LKcINpptBk6y8NAYs7WZJ_c2mhe0MqZGcLAZrsW6lZMfpSF_gfgRdXcCfRmEURKaBcZI9Unu9p-rJQTjbq7pxjwo8VBv8-w1EMjPmNeXBsi5dWPQbcuKduSFxseGiqmB32t6wHClwRQyhg8FsIs4KeFD03l5VUlnUd_KH2Uu17FTftkxxzWuoX5CAF8ZaNkwy7DjQk7B2BTvFTCFUpiE83TaZisxCZmqLMOBu-OyGO-ALyMnM4fzd1eYuBK9c3AKmcQqLQLwK78iUf5TViAgB-4HQlG3Am3kyKGcCQFqH6y_Oi0O5rTdGCQI0EEXaED2-mSRHxsF4CByBOoV-mwzrIfXTwq5GXoVzxF0IGbM-StX3kkzLO8J-Z7Q0paDqylgBz6bcAw53e5l8iWLOM8m8uNyJLymhB7HcI3OhX_jQxQbHYEamU4OuzcCwXfdq-HmyU0gZ7mR4N0smVOvhJgNq-546OPnpmbHavU-vH0OXft7oTzgJOxLEU2Hh7l__COwugGhIMTuNXHif67ejPWru_azbpuhth17Jz2YGgDsyzKRcTiiBOozxFJMeSuTpPlfp3Wtaq3bZvSbnXWgKqmSg8LWL09yOJ3sZ2P580Icuu_b5qOm7D0pgZ39vHlpxxnJV_T3cRoLFDQY7qfG61ll4d6ZY6TsUVSD7NtYTn4kUq_9rK83gR_hxsOBlg9nEv3S9vbyBp9aTP2HuPGTMGbv8uy-SwCge3pToCCTfu8856nxQIoXj6jgyb1Qk7j_0SUzlZld0_CskZXKwd9EVf4Fo2E5-nAi0Hqrf9FXgjVO3kuuq0vVIXDvuKek4miY7O74RDZvFlbOR8BhG8li1ShMnQ3Ep-W5mPQPcpvIydaIIjXw4GaBQEXOxjd7D2BMz3wI_DXrEjs0sOzdUdK9l4yve3Hceo-MUVi-G1fBcLRiuauuMQ93Ecp_tAO3uv96BLki-QjzM8ilcdLiPyU6oSGsV86pqz0_ZAvNhaMCciZzkigCTmJCjNMBQC_LvYtC6Tl_pxYQqwZ63kHNw7iCYNVMf4I1U6JYX1ffh2I5-bGhdYteKQ\"/>\n",
       "            <a href=\"#!\">\n",
       "                <span class=\"ipyplot-img-close\"/>\n",
       "            </a>\n",
       "            <a href=\"#ipyplot-content-div-3uXYMtz85tyhcgJZ4VjmxC-QP5rVhSNh2u2BJkheEPbmX\">\n",
       "                <span class=\"ipyplot-img-expand\"/>\n",
       "            </a>\n",
       "        </div>\n",
       "    </div>\n",
       "    \n",
       "    <div class=\"ipyplot-placeholder-div-3uXYMtz85tyhcgJZ4VjmxC\">\n",
       "        <div id=\"ipyplot-content-div-3uXYMtz85tyhcgJZ4VjmxC-HZTK6PRKYdq6ZcoFX3rwTV\" class=\"ipyplot-content-div-3uXYMtz85tyhcgJZ4VjmxC\">\n",
       "            <h4 style=\"font-size: 12px; word-wrap: break-word;\">February of 2023</h4>\n",
       "            <img src=\"https://lh3.googleusercontent.com/lr/AAJ1LKfSstY_iczO6gMDsX6a1-eCyLkYciNJn_f6q2HkPE3Myk6drs64NbYkqz_P46W0DPMHOHi9R1tNlu_U9ecL0la8qB9CBCqO6plAA45aESPVa1iCW6X21IYZLMb3REF6nHXX5dzWcIDG64UFeJfgK5-yyD16d3ZfXl7iSAhck_VDhdns89UgDv7eYdR7rPlHSbY9oRXujyPngsXzNxSmWvFcnFoWOOF79I8iDIDKbJhoyoY9Roomb6vZZbJAgr0kR4H5a_hpL0GfzbFStY5D-JOt-MdqHY7tGxF5r4UF7vDToZd4GWTO41t70C_XDZiFGV-BBiluFbRdhdp3KktSrFuxXCdZGwacHFGH9Y7pa2NYib09z3dv14616XIY3Xv4cayyFmnJBfSNjzIu2JPqKmwRZROvawnRraXo4PbmBGGyhjL0DcmTQoRoltOfuiRhaxOJRHv26Edu2wAlVNT1WDrHk29M_GbgbE-XDgKtrats_y1ARtNmM8YqdAq22CVNhLTpYXoJJTJ_2-LZucBu2Hbu5r_Nl7rWdklNknHR91f_5HOSeoqkweEYd_4K0mf77nhH2PNvPM4-7797TRD5rf1AXuzYZDNgWjPmz0y4_AADqE3H0jfFnUkcDf0LRPGSH7BAAmaeiZ8NNoOacC14u_GY7rnoMYbNmvOICFdCArgwIEkGA9NzStmNJym6erFRaoMlAB2fKiRlhkRhmjbsaCUTIkklB9ne_-W3kpnveBU3J02ILn4K4M80a1MDVRxgT5QHe9HE9T4caWlxAqG3iFfkWnXkZ4URRYR13Y1iNVjpQq-SbaqY3Oc4YyWnem_7uSa_yBHMAinIIZfvheYf-XF-ViCIcMk_sCf3_eu4Q0tZk1jPyXFBNqc3CTR_M-ddTGCKlROHOyuFwRXTKIyJcbdVnyqfFkVJBfqVk9sS7UdQo0lSeNGYUIN5ZJR2d_J_0wD9wCIM37A1TJohU1nJE2XI6_dbcX4ONagPvzjEMP1ySScWmrP_UUnvbCDJloupmQlr83nxIw-6a8t__UuWlTFUUjEX5oKixFMWmvrSrQJIbg\"/>\n",
       "            <a href=\"#!\">\n",
       "                <span class=\"ipyplot-img-close\"/>\n",
       "            </a>\n",
       "            <a href=\"#ipyplot-content-div-3uXYMtz85tyhcgJZ4VjmxC-HZTK6PRKYdq6ZcoFX3rwTV\">\n",
       "                <span class=\"ipyplot-img-expand\"/>\n",
       "            </a>\n",
       "        </div>\n",
       "    </div>\n",
       "    </div>"
      ],
      "text/plain": [
       "<IPython.core.display.HTML object>"
      ]
     },
     "metadata": {},
     "output_type": "display_data"
    }
   ],
   "source": [
    "query = \"snowballs flying through the air in a snowball fight\"\n",
    "query_images(query, years_filter, months_filter, top_k)"
   ]
  },
  {
   "cell_type": "code",
   "execution_count": 82,
   "id": "69170b44-2d08-40dd-960a-97c38ae766b2",
   "metadata": {
    "tags": []
   },
   "outputs": [
    {
     "data": {
      "text/html": [
       "\n",
       "    <style>\n",
       "        #ipyplot-html-viewer-toggle-WXDG89N6ZvUbB9PWV8onY5 {\n",
       "            position: absolute;\n",
       "            top: -9999px;\n",
       "            left: -9999px;\n",
       "            visibility: hidden;\n",
       "        }\n",
       "\n",
       "        #ipyplot-html-viewer-label-WXDG89N6ZvUbB9PWV8onY5 { \n",
       "            position: relative;\n",
       "            display: inline-block;\n",
       "            cursor: pointer;\n",
       "            color: blue;\n",
       "            text-decoration: underline;\n",
       "        }\n",
       "\n",
       "        #ipyplot-html-viewer-textarea-WXDG89N6ZvUbB9PWV8onY5 {\n",
       "            background: lightgrey;\n",
       "            width: 100%;\n",
       "            height: 0px;\n",
       "            display: none;\n",
       "        }\n",
       "\n",
       "        #ipyplot-html-viewer-toggle-WXDG89N6ZvUbB9PWV8onY5:checked ~ #ipyplot-html-viewer-textarea-WXDG89N6ZvUbB9PWV8onY5 {\n",
       "            height: 200px;\n",
       "            display: block;\n",
       "        }\n",
       "\n",
       "        #ipyplot-html-viewer-toggle-WXDG89N6ZvUbB9PWV8onY5:checked + #ipyplot-html-viewer-label-WXDG89N6ZvUbB9PWV8onY5:after {\n",
       "            content: \"hide html\";\n",
       "            position: absolute;\n",
       "            top: 0;\n",
       "            left: 0;\n",
       "            right: 0;\n",
       "            bottom: 0;\n",
       "            background: white;\n",
       "            cursor: pointer;\n",
       "            color: blue;\n",
       "            text-decoration: underline;\n",
       "        }\n",
       "    </style>\n",
       "    <div>\n",
       "        <input type=\"checkbox\" id=\"ipyplot-html-viewer-toggle-WXDG89N6ZvUbB9PWV8onY5\">\n",
       "        <label id=\"ipyplot-html-viewer-label-WXDG89N6ZvUbB9PWV8onY5\" for=\"ipyplot-html-viewer-toggle-WXDG89N6ZvUbB9PWV8onY5\">show html</label>\n",
       "        <textarea id=\"ipyplot-html-viewer-textarea-WXDG89N6ZvUbB9PWV8onY5\" readonly>\n",
       "            \n",
       "        <style>\n",
       "        #ipyplot-imgs-container-div-dzwgAmfM5sGorjn9saLWXR {\n",
       "            width: 100%;\n",
       "            height: 100%;\n",
       "            margin: 0%;\n",
       "            overflow: auto;\n",
       "            position: relative;\n",
       "            overflow-y: scroll;\n",
       "        }\n",
       "\n",
       "        div.ipyplot-placeholder-div-dzwgAmfM5sGorjn9saLWXR {\n",
       "            width: 250px;\n",
       "            display: inline-block;\n",
       "            margin: 3px;\n",
       "            position: relative;\n",
       "        }\n",
       "\n",
       "        div.ipyplot-content-div-dzwgAmfM5sGorjn9saLWXR {\n",
       "            width: 250px;\n",
       "            background: white;\n",
       "            display: inline-block;\n",
       "            vertical-align: top;\n",
       "            text-align: center;\n",
       "            position: relative;\n",
       "            border: 2px solid #ddd;\n",
       "            top: 0;\n",
       "            left: 0;\n",
       "        }\n",
       "\n",
       "        div.ipyplot-content-div-dzwgAmfM5sGorjn9saLWXR span.ipyplot-img-close {\n",
       "            display: none;\n",
       "        }\n",
       "\n",
       "        div.ipyplot-content-div-dzwgAmfM5sGorjn9saLWXR span {\n",
       "            width: 100%;\n",
       "            height: 100%;\n",
       "            position: absolute;\n",
       "            top: 0;\n",
       "            left: 0;\n",
       "        }\n",
       "\n",
       "        div.ipyplot-content-div-dzwgAmfM5sGorjn9saLWXR img {\n",
       "            width: 250px;\n",
       "        }\n",
       "\n",
       "        div.ipyplot-content-div-dzwgAmfM5sGorjn9saLWXR span.ipyplot-img-close:hover {\n",
       "            cursor: zoom-out;\n",
       "        }\n",
       "        div.ipyplot-content-div-dzwgAmfM5sGorjn9saLWXR span.ipyplot-img-expand:hover {\n",
       "            cursor: zoom-in;\n",
       "        }\n",
       "\n",
       "        div[id^=ipyplot-content-div-dzwgAmfM5sGorjn9saLWXR]:target {\n",
       "            transform: scale(2.5);\n",
       "            transform-origin: left top;\n",
       "            z-index: 5000;\n",
       "            top: 0;\n",
       "            left: 0;\n",
       "            position: absolute;\n",
       "        }\n",
       "\n",
       "        div[id^=ipyplot-content-div-dzwgAmfM5sGorjn9saLWXR]:target span.ipyplot-img-close {\n",
       "            display: block;\n",
       "        }\n",
       "\n",
       "        div[id^=ipyplot-content-div-dzwgAmfM5sGorjn9saLWXR]:target span.ipyplot-img-expand {\n",
       "            display: none;\n",
       "        }\n",
       "        </style>\n",
       "    <div id=\"ipyplot-imgs-container-div-dzwgAmfM5sGorjn9saLWXR\">\n",
       "    <div class=\"ipyplot-placeholder-div-dzwgAmfM5sGorjn9saLWXR\">\n",
       "        <div id=\"ipyplot-content-div-dzwgAmfM5sGorjn9saLWXR-ju9fZShHY7XrNAyxhQN9if\" class=\"ipyplot-content-div-dzwgAmfM5sGorjn9saLWXR\">\n",
       "            <h4 style=\"font-size: 12px; word-wrap: break-word;\">February of 2023</h4>\n",
       "            <img src=\"https://lh3.googleusercontent.com/lr/AAJ1LKecfAwesymUwKPCPjwn3epn96tALwqPy124NhZhto2YUy9H7douIcuBbBh12ULA7eExSuR620kRxOG7tgu_D5D3_E0RrZSDAVqrVZb3HetRYJTlaQ6q62g0Hoi-WzccHZcZ05NMACZVL3sqmcn-lsPFTwou9MFoxv4v2O56XeNB9P_nU-6wFi4JITF36bHgKT8b3PWcxTPQv4UrXflahiJS8Fo9SQLydevcqJaGf35I6aBXhvjqm5KTS9yqs9fvipiys3w5cKxcCI-IdvPBDFZx0xU_l2XfcZMxEHOwfycQXAEu2fwxLX7M6XFI11vNkAHm9wNxDEkQywoOiedH3OfSDHsDbbgPgT8twsm9WWa9TvGimJYW0TXDkIadQ9aR40YAJQvBmamb99wUCbnec5Rlj83kzG_o_jwbwVyw-HCO1ro1Ivr7eoJZvHDa4kZzp9PHeFN-ew6V_HvrprgydYhn3ILrTr1R7kNaBx8kzAl-2lBgf9Mskqv6oyHc3NNhysdZcpLuolWyzmyT6fqVSotdTHA-LuYdKZ641-WcOiEkV0Hz14_y9u7mqM-wDchmy_b6XYmvzYUx7kXbQoMDQQf0ElKg-j8iyQuvpokOV8m4BTluAw3l6QZTu1PP1DcytD2QAYs8dGQgrHBaGts4MsyekNplAI7bdBlLX3SSB-9ivo-asBznHmrKC0WAqMmjFp5_-9OULsTI0SS8y_-7eBiqKIix_q4y7dfV8OUHBBkacVnqfEC9PlE-SVdco1JuIQIVwKmqSeIHIvbRocyupw_WmVssBpF9bnl9BFBXto359hxXBucOvTsmcNIaukRUAXLUiIWoJPpfucDgQZihSvcJfK7Fd9UeJ2WxrKsDHyv5z5E8hUsfYA2oFITPUYc0ulpzvuoUQ5IbAvJ-z3meavrRur2JEm68SxjIxV6EIpxdLiBC2ay6Ftv2mNzwv1VUotIDDGHSQV1KGvIDMVvBIYiVFvIO1LuZdXi_-Psw7_0feigv4A_grINKKx8phqcc7fxjIdQ4LpwkyiNq4h4gHFAhQRHt3Io4pxMOmfHZtECvPQ\"/>\n",
       "            <a href=\"#!\">\n",
       "                <span class=\"ipyplot-img-close\"/>\n",
       "            </a>\n",
       "            <a href=\"#ipyplot-content-div-dzwgAmfM5sGorjn9saLWXR-ju9fZShHY7XrNAyxhQN9if\">\n",
       "                <span class=\"ipyplot-img-expand\"/>\n",
       "            </a>\n",
       "        </div>\n",
       "    </div>\n",
       "    \n",
       "    <div class=\"ipyplot-placeholder-div-dzwgAmfM5sGorjn9saLWXR\">\n",
       "        <div id=\"ipyplot-content-div-dzwgAmfM5sGorjn9saLWXR-5L97nQcLZ6478EehRPgpsg\" class=\"ipyplot-content-div-dzwgAmfM5sGorjn9saLWXR\">\n",
       "            <h4 style=\"font-size: 12px; word-wrap: break-word;\">February of 2023</h4>\n",
       "            <img src=\"https://lh3.googleusercontent.com/lr/AAJ1LKeI74gDD5WwF6HHelIaduJQ6xZXuVcyaDkQT6YRKdrLhGKqxXk-CJeXtmEofY1fXnLZVvpre_R2kn70drRbwNsObFI2Wv_2jILqPc1C8zSR_6pB_b-cBVYkRjjH_OVhhERCo23xIRAzRF4_qULTHrVVYGYg6QRfOXnZ1-mtBjw-ccl9dlCwmxcDdBW_nY8hbiMjDj_AoVWWDHH0ND8Yc-YVAGAV8nDEtHiID3BlRP0-PP--f_Ndw3Z2PKdDUORrA0I-ZQl6o7AXgnJwQ4bpe9e052IwuwnCpZw5lOlupWU3FfLs1MeahsoWLpJbgW7iuCQaFOFBJBTS7rGU2vHFwOvMTvzU5IL4UQXbC4RRA512aQ4FpdXJ4TU6wcGPXBsX_KV6b0Emx2u9JHAu0lfMnT-fnj9WxXn-GsfjT1DIOpSCzxuqHTSo_ngckaOVCOpIxCew8291gCQsKu2K98g8mqeHBb3_JXwoDoMAetLRYt5VYmj00xwjcT0xvH9_O2XoTjT6TalGkRHHg1flxUTSYs1H02JkWHyYVb--FP9b7iqYD25tbgGK8ifCF5lQwEj9dFMOIiBR4_RgEqqcYRlSC8UyGZNosOOIO7oKKoTTEQBE7AqMD_5YlhmCMyc3ri1lBDfcbyiwr2aitkY8-nzyPixqgk-ZtcbDyNEg-TB8VYNJv-2G6464wy2Mik5yUljqv2KGZouvcuuloQ9F74ZkwDfNM8xQeMWeS_oR_3NLqO5N1ZSHNQuAZkZVi7UHVj591zbHxgUPqZeUMMWwu1kYv05DAZOeZQ9nR-ZCFBf9Rg-ZrTvgSB2ChxUmQ_TNN2ls9l4GWds-UYrCyUOU7P4BSGzh8e6_WLxk3_Imd3YoE0BjoGLwZLFwiMKUzHuyyN6NuRXqULPHNI9BO_pV84Xo4sfM8AtSDVkJCdv3viBxHbLzUSEu_TgiKQYo4VwRJNTghUSvmvSXCK3ufAiKX1GleykFccE60fbs0wS12KOGyXb0V5HHeQkUVs_7GoKS4gyK9fwwVIRGBw_Ra4iZQAKkjnYkp1yn4TNg1mintY-k0cIPWg\"/>\n",
       "            <a href=\"#!\">\n",
       "                <span class=\"ipyplot-img-close\"/>\n",
       "            </a>\n",
       "            <a href=\"#ipyplot-content-div-dzwgAmfM5sGorjn9saLWXR-5L97nQcLZ6478EehRPgpsg\">\n",
       "                <span class=\"ipyplot-img-expand\"/>\n",
       "            </a>\n",
       "        </div>\n",
       "    </div>\n",
       "    \n",
       "    <div class=\"ipyplot-placeholder-div-dzwgAmfM5sGorjn9saLWXR\">\n",
       "        <div id=\"ipyplot-content-div-dzwgAmfM5sGorjn9saLWXR-6i9aGUGPCfWjzDUALbd5VN\" class=\"ipyplot-content-div-dzwgAmfM5sGorjn9saLWXR\">\n",
       "            <h4 style=\"font-size: 12px; word-wrap: break-word;\">February of 2023</h4>\n",
       "            <img src=\"https://lh3.googleusercontent.com/lr/AAJ1LKdIINotlijQGxRQQL4q50G1ymkRkXqi9SPqVhCV5iwIca7P04uNa82WXqj4M98h0zd4bf71Iyl17hLpat76rpeyx6k8V6f5OIuHKdBXI2K42OehnXDG_PdnKXSnhKqymGUl1S0r4txbajCZjL1zsm2QeMKD9B564ZAl_bTUZfH3-Y8NujQYi99dusrePNIimLQT_ObXTP68n9B81XLL1GW32tfIUAtNFOIPX9XF5rxt1Anrkye7tePNm5B0YEviZpzF1ZjLFu456Zf1nUiqrJFHY9TmKticcSSlINpAff-VegyqcVaOrvMto5Ge6323SyOZ9YTcWO0X_4KhymYbHSJcdUXflS-vYehsO0YlAcKMlWpRKjc4V2irrYuvMRYkxz34I43b0HgeVlQAEUoxWs8FJBJtVdZNzzZcwavojr0SMlkKaWmeq72G19082vnZFl4gHUer_izlKmuPEhcT2gV5Eqmypmn2Ld5PSNK6W6uNFW0RJCnva0Lz2DT_B0iWUgzbSvmaYqoiXM04dUPRe660b3vlKuGpljiHNOQjt73Ny4vD8UQxWbF7tYAmMKb9kvzlClnK5PANidr6ed3r8h3G5mF9RNVu79Q7DyypIMRtiWgcGRlNBnIItM-lHxMT_yXgnjCTzRy7xFMKdrIFsDF--vnxKpjjI4cmbeA6uY7UDKIkWKqGoZyYT7RPo3w2Me4RcHdFzBuJrcYIrYpBN-6nLmg-KMBwNYQpwpzY-1PFpbU1hTSXMpF4oJrDZuR_nRZuuktuXbGuBxpaBviMBxXbhQ-FqQxiV8SXH07f3DxCZW09zDWz9Tn5tP7QgwREkdl98WszeblXaieobuQe-HNouu7-P4YI2k9dD7nL5d72krxS_-StKEDmLeQb-gtr4DeYsnSRACgb6cSAPJzFIE4ZmXL8urS74Zz8LwYAK6yuWOAo5HGlNWqUWtJLc_vMHxoobJ85GVzq_10z8RIUsAqTPwT8ZUL9rItf_sM45VQnBQQEfUa4TMrnC6BbBno4DmzwL2RPafaLx7Mp3-u984_50_-b0m6sDaNLkOkOEzimDw\"/>\n",
       "            <a href=\"#!\">\n",
       "                <span class=\"ipyplot-img-close\"/>\n",
       "            </a>\n",
       "            <a href=\"#ipyplot-content-div-dzwgAmfM5sGorjn9saLWXR-6i9aGUGPCfWjzDUALbd5VN\">\n",
       "                <span class=\"ipyplot-img-expand\"/>\n",
       "            </a>\n",
       "        </div>\n",
       "    </div>\n",
       "    </div>\n",
       "        </textarea>\n",
       "    </div>\n",
       "    "
      ],
      "text/plain": [
       "<IPython.core.display.HTML object>"
      ]
     },
     "metadata": {},
     "output_type": "display_data"
    },
    {
     "data": {
      "text/html": [
       "\n",
       "        <style>\n",
       "        #ipyplot-imgs-container-div-dzwgAmfM5sGorjn9saLWXR {\n",
       "            width: 100%;\n",
       "            height: 100%;\n",
       "            margin: 0%;\n",
       "            overflow: auto;\n",
       "            position: relative;\n",
       "            overflow-y: scroll;\n",
       "        }\n",
       "\n",
       "        div.ipyplot-placeholder-div-dzwgAmfM5sGorjn9saLWXR {\n",
       "            width: 250px;\n",
       "            display: inline-block;\n",
       "            margin: 3px;\n",
       "            position: relative;\n",
       "        }\n",
       "\n",
       "        div.ipyplot-content-div-dzwgAmfM5sGorjn9saLWXR {\n",
       "            width: 250px;\n",
       "            background: white;\n",
       "            display: inline-block;\n",
       "            vertical-align: top;\n",
       "            text-align: center;\n",
       "            position: relative;\n",
       "            border: 2px solid #ddd;\n",
       "            top: 0;\n",
       "            left: 0;\n",
       "        }\n",
       "\n",
       "        div.ipyplot-content-div-dzwgAmfM5sGorjn9saLWXR span.ipyplot-img-close {\n",
       "            display: none;\n",
       "        }\n",
       "\n",
       "        div.ipyplot-content-div-dzwgAmfM5sGorjn9saLWXR span {\n",
       "            width: 100%;\n",
       "            height: 100%;\n",
       "            position: absolute;\n",
       "            top: 0;\n",
       "            left: 0;\n",
       "        }\n",
       "\n",
       "        div.ipyplot-content-div-dzwgAmfM5sGorjn9saLWXR img {\n",
       "            width: 250px;\n",
       "        }\n",
       "\n",
       "        div.ipyplot-content-div-dzwgAmfM5sGorjn9saLWXR span.ipyplot-img-close:hover {\n",
       "            cursor: zoom-out;\n",
       "        }\n",
       "        div.ipyplot-content-div-dzwgAmfM5sGorjn9saLWXR span.ipyplot-img-expand:hover {\n",
       "            cursor: zoom-in;\n",
       "        }\n",
       "\n",
       "        div[id^=ipyplot-content-div-dzwgAmfM5sGorjn9saLWXR]:target {\n",
       "            transform: scale(2.5);\n",
       "            transform-origin: left top;\n",
       "            z-index: 5000;\n",
       "            top: 0;\n",
       "            left: 0;\n",
       "            position: absolute;\n",
       "        }\n",
       "\n",
       "        div[id^=ipyplot-content-div-dzwgAmfM5sGorjn9saLWXR]:target span.ipyplot-img-close {\n",
       "            display: block;\n",
       "        }\n",
       "\n",
       "        div[id^=ipyplot-content-div-dzwgAmfM5sGorjn9saLWXR]:target span.ipyplot-img-expand {\n",
       "            display: none;\n",
       "        }\n",
       "        </style>\n",
       "    <div id=\"ipyplot-imgs-container-div-dzwgAmfM5sGorjn9saLWXR\">\n",
       "    <div class=\"ipyplot-placeholder-div-dzwgAmfM5sGorjn9saLWXR\">\n",
       "        <div id=\"ipyplot-content-div-dzwgAmfM5sGorjn9saLWXR-ju9fZShHY7XrNAyxhQN9if\" class=\"ipyplot-content-div-dzwgAmfM5sGorjn9saLWXR\">\n",
       "            <h4 style=\"font-size: 12px; word-wrap: break-word;\">February of 2023</h4>\n",
       "            <img src=\"https://lh3.googleusercontent.com/lr/AAJ1LKecfAwesymUwKPCPjwn3epn96tALwqPy124NhZhto2YUy9H7douIcuBbBh12ULA7eExSuR620kRxOG7tgu_D5D3_E0RrZSDAVqrVZb3HetRYJTlaQ6q62g0Hoi-WzccHZcZ05NMACZVL3sqmcn-lsPFTwou9MFoxv4v2O56XeNB9P_nU-6wFi4JITF36bHgKT8b3PWcxTPQv4UrXflahiJS8Fo9SQLydevcqJaGf35I6aBXhvjqm5KTS9yqs9fvipiys3w5cKxcCI-IdvPBDFZx0xU_l2XfcZMxEHOwfycQXAEu2fwxLX7M6XFI11vNkAHm9wNxDEkQywoOiedH3OfSDHsDbbgPgT8twsm9WWa9TvGimJYW0TXDkIadQ9aR40YAJQvBmamb99wUCbnec5Rlj83kzG_o_jwbwVyw-HCO1ro1Ivr7eoJZvHDa4kZzp9PHeFN-ew6V_HvrprgydYhn3ILrTr1R7kNaBx8kzAl-2lBgf9Mskqv6oyHc3NNhysdZcpLuolWyzmyT6fqVSotdTHA-LuYdKZ641-WcOiEkV0Hz14_y9u7mqM-wDchmy_b6XYmvzYUx7kXbQoMDQQf0ElKg-j8iyQuvpokOV8m4BTluAw3l6QZTu1PP1DcytD2QAYs8dGQgrHBaGts4MsyekNplAI7bdBlLX3SSB-9ivo-asBznHmrKC0WAqMmjFp5_-9OULsTI0SS8y_-7eBiqKIix_q4y7dfV8OUHBBkacVnqfEC9PlE-SVdco1JuIQIVwKmqSeIHIvbRocyupw_WmVssBpF9bnl9BFBXto359hxXBucOvTsmcNIaukRUAXLUiIWoJPpfucDgQZihSvcJfK7Fd9UeJ2WxrKsDHyv5z5E8hUsfYA2oFITPUYc0ulpzvuoUQ5IbAvJ-z3meavrRur2JEm68SxjIxV6EIpxdLiBC2ay6Ftv2mNzwv1VUotIDDGHSQV1KGvIDMVvBIYiVFvIO1LuZdXi_-Psw7_0feigv4A_grINKKx8phqcc7fxjIdQ4LpwkyiNq4h4gHFAhQRHt3Io4pxMOmfHZtECvPQ\"/>\n",
       "            <a href=\"#!\">\n",
       "                <span class=\"ipyplot-img-close\"/>\n",
       "            </a>\n",
       "            <a href=\"#ipyplot-content-div-dzwgAmfM5sGorjn9saLWXR-ju9fZShHY7XrNAyxhQN9if\">\n",
       "                <span class=\"ipyplot-img-expand\"/>\n",
       "            </a>\n",
       "        </div>\n",
       "    </div>\n",
       "    \n",
       "    <div class=\"ipyplot-placeholder-div-dzwgAmfM5sGorjn9saLWXR\">\n",
       "        <div id=\"ipyplot-content-div-dzwgAmfM5sGorjn9saLWXR-5L97nQcLZ6478EehRPgpsg\" class=\"ipyplot-content-div-dzwgAmfM5sGorjn9saLWXR\">\n",
       "            <h4 style=\"font-size: 12px; word-wrap: break-word;\">February of 2023</h4>\n",
       "            <img src=\"https://lh3.googleusercontent.com/lr/AAJ1LKeI74gDD5WwF6HHelIaduJQ6xZXuVcyaDkQT6YRKdrLhGKqxXk-CJeXtmEofY1fXnLZVvpre_R2kn70drRbwNsObFI2Wv_2jILqPc1C8zSR_6pB_b-cBVYkRjjH_OVhhERCo23xIRAzRF4_qULTHrVVYGYg6QRfOXnZ1-mtBjw-ccl9dlCwmxcDdBW_nY8hbiMjDj_AoVWWDHH0ND8Yc-YVAGAV8nDEtHiID3BlRP0-PP--f_Ndw3Z2PKdDUORrA0I-ZQl6o7AXgnJwQ4bpe9e052IwuwnCpZw5lOlupWU3FfLs1MeahsoWLpJbgW7iuCQaFOFBJBTS7rGU2vHFwOvMTvzU5IL4UQXbC4RRA512aQ4FpdXJ4TU6wcGPXBsX_KV6b0Emx2u9JHAu0lfMnT-fnj9WxXn-GsfjT1DIOpSCzxuqHTSo_ngckaOVCOpIxCew8291gCQsKu2K98g8mqeHBb3_JXwoDoMAetLRYt5VYmj00xwjcT0xvH9_O2XoTjT6TalGkRHHg1flxUTSYs1H02JkWHyYVb--FP9b7iqYD25tbgGK8ifCF5lQwEj9dFMOIiBR4_RgEqqcYRlSC8UyGZNosOOIO7oKKoTTEQBE7AqMD_5YlhmCMyc3ri1lBDfcbyiwr2aitkY8-nzyPixqgk-ZtcbDyNEg-TB8VYNJv-2G6464wy2Mik5yUljqv2KGZouvcuuloQ9F74ZkwDfNM8xQeMWeS_oR_3NLqO5N1ZSHNQuAZkZVi7UHVj591zbHxgUPqZeUMMWwu1kYv05DAZOeZQ9nR-ZCFBf9Rg-ZrTvgSB2ChxUmQ_TNN2ls9l4GWds-UYrCyUOU7P4BSGzh8e6_WLxk3_Imd3YoE0BjoGLwZLFwiMKUzHuyyN6NuRXqULPHNI9BO_pV84Xo4sfM8AtSDVkJCdv3viBxHbLzUSEu_TgiKQYo4VwRJNTghUSvmvSXCK3ufAiKX1GleykFccE60fbs0wS12KOGyXb0V5HHeQkUVs_7GoKS4gyK9fwwVIRGBw_Ra4iZQAKkjnYkp1yn4TNg1mintY-k0cIPWg\"/>\n",
       "            <a href=\"#!\">\n",
       "                <span class=\"ipyplot-img-close\"/>\n",
       "            </a>\n",
       "            <a href=\"#ipyplot-content-div-dzwgAmfM5sGorjn9saLWXR-5L97nQcLZ6478EehRPgpsg\">\n",
       "                <span class=\"ipyplot-img-expand\"/>\n",
       "            </a>\n",
       "        </div>\n",
       "    </div>\n",
       "    \n",
       "    <div class=\"ipyplot-placeholder-div-dzwgAmfM5sGorjn9saLWXR\">\n",
       "        <div id=\"ipyplot-content-div-dzwgAmfM5sGorjn9saLWXR-6i9aGUGPCfWjzDUALbd5VN\" class=\"ipyplot-content-div-dzwgAmfM5sGorjn9saLWXR\">\n",
       "            <h4 style=\"font-size: 12px; word-wrap: break-word;\">February of 2023</h4>\n",
       "            <img src=\"https://lh3.googleusercontent.com/lr/AAJ1LKdIINotlijQGxRQQL4q50G1ymkRkXqi9SPqVhCV5iwIca7P04uNa82WXqj4M98h0zd4bf71Iyl17hLpat76rpeyx6k8V6f5OIuHKdBXI2K42OehnXDG_PdnKXSnhKqymGUl1S0r4txbajCZjL1zsm2QeMKD9B564ZAl_bTUZfH3-Y8NujQYi99dusrePNIimLQT_ObXTP68n9B81XLL1GW32tfIUAtNFOIPX9XF5rxt1Anrkye7tePNm5B0YEviZpzF1ZjLFu456Zf1nUiqrJFHY9TmKticcSSlINpAff-VegyqcVaOrvMto5Ge6323SyOZ9YTcWO0X_4KhymYbHSJcdUXflS-vYehsO0YlAcKMlWpRKjc4V2irrYuvMRYkxz34I43b0HgeVlQAEUoxWs8FJBJtVdZNzzZcwavojr0SMlkKaWmeq72G19082vnZFl4gHUer_izlKmuPEhcT2gV5Eqmypmn2Ld5PSNK6W6uNFW0RJCnva0Lz2DT_B0iWUgzbSvmaYqoiXM04dUPRe660b3vlKuGpljiHNOQjt73Ny4vD8UQxWbF7tYAmMKb9kvzlClnK5PANidr6ed3r8h3G5mF9RNVu79Q7DyypIMRtiWgcGRlNBnIItM-lHxMT_yXgnjCTzRy7xFMKdrIFsDF--vnxKpjjI4cmbeA6uY7UDKIkWKqGoZyYT7RPo3w2Me4RcHdFzBuJrcYIrYpBN-6nLmg-KMBwNYQpwpzY-1PFpbU1hTSXMpF4oJrDZuR_nRZuuktuXbGuBxpaBviMBxXbhQ-FqQxiV8SXH07f3DxCZW09zDWz9Tn5tP7QgwREkdl98WszeblXaieobuQe-HNouu7-P4YI2k9dD7nL5d72krxS_-StKEDmLeQb-gtr4DeYsnSRACgb6cSAPJzFIE4ZmXL8urS74Zz8LwYAK6yuWOAo5HGlNWqUWtJLc_vMHxoobJ85GVzq_10z8RIUsAqTPwT8ZUL9rItf_sM45VQnBQQEfUa4TMrnC6BbBno4DmzwL2RPafaLx7Mp3-u984_50_-b0m6sDaNLkOkOEzimDw\"/>\n",
       "            <a href=\"#!\">\n",
       "                <span class=\"ipyplot-img-close\"/>\n",
       "            </a>\n",
       "            <a href=\"#ipyplot-content-div-dzwgAmfM5sGorjn9saLWXR-6i9aGUGPCfWjzDUALbd5VN\">\n",
       "                <span class=\"ipyplot-img-expand\"/>\n",
       "            </a>\n",
       "        </div>\n",
       "    </div>\n",
       "    </div>"
      ],
      "text/plain": [
       "<IPython.core.display.HTML object>"
      ]
     },
     "metadata": {},
     "output_type": "display_data"
    }
   ],
   "source": [
    "query = \"busted lip due to a snowball fight\"\n",
    "query_images(query, years_filter, months_filter, top_k)"
   ]
  },
  {
   "cell_type": "code",
   "execution_count": null,
   "id": "0a9aae18-eb2f-4694-be70-7b99d99fa554",
   "metadata": {},
   "outputs": [],
   "source": []
  }
 ],
 "metadata": {
  "kernelspec": {
   "display_name": "Python 3 (ipykernel)",
   "language": "python",
   "name": "python3"
  },
  "language_info": {
   "codemirror_mode": {
    "name": "ipython",
    "version": 3
   },
   "file_extension": ".py",
   "mimetype": "text/x-python",
   "name": "python",
   "nbconvert_exporter": "python",
   "pygments_lexer": "ipython3",
   "version": "3.11.5"
  }
 },
 "nbformat": 4,
 "nbformat_minor": 5
}
